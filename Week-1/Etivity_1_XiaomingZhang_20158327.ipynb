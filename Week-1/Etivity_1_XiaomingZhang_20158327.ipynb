{
 "cells": [
  {
   "cell_type": "markdown",
   "metadata": {
    "id": "jxK1_8f1dvrc"
   },
   "source": [
    "<div>\n",
    "<img src=\"https://drive.google.com/uc?export=view&id=1vK33e_EqaHgBHcbRV_m38hx6IkG0blK_\" width=\"350\"/>\n",
    "</div> \n",
    "\n",
    "# **Artificial Intelligence - MSc**\n",
    "ET5003 - MACHINE LEARNING APPLICATIONS \n",
    "\n",
    "### Instructor: Enrique Naredo\n",
    "### ET5003_Etivity-1"
   ]
  },
  {
   "cell_type": "markdown",
   "metadata": {},
   "source": [
    "## Introduction"
   ]
  },
  {
   "cell_type": "code",
   "execution_count": 1,
   "metadata": {
    "cellView": "form",
    "id": "LqXD_IwUQuBF"
   },
   "outputs": [],
   "source": [
    "#@title Current Date\n",
    "Today = '2021-09-19' #@param {type:\"date\"}"
   ]
  },
  {
   "cell_type": "code",
   "execution_count": 2,
   "metadata": {
    "cellView": "form",
    "id": "uzDKau31OjVO"
   },
   "outputs": [],
   "source": [
    "#@markdown ---\n",
    "#@markdown ### Enter your details here:\n",
    "Student_ID = \"20158327\" #@param {type:\"string\"}\n",
    "Student_full_name = \"Xiaoming Zhang\" #@param {type:\"string\"}\n",
    "#@markdown ---"
   ]
  },
  {
   "cell_type": "code",
   "execution_count": 3,
   "metadata": {
    "cellView": "form",
    "id": "r39xGZckTpKx"
   },
   "outputs": [],
   "source": [
    "#@title Notebook information\n",
    "Notebook_type = 'Etivity' #@param [\"Example\", \"Lab\", \"Practice\", \"Etivity\", \"Assignment\", \"Exam\"]\n",
    "Version = 'Final' #@param [\"Draft\", \"Final\"] {type:\"raw\"}\n",
    "Submission = True #@param {type:\"boolean\"}"
   ]
  },
  {
   "cell_type": "markdown",
   "metadata": {},
   "source": [
    "## Problem\n",
    "The problem presented is to use general-recipe multinomial logistic classifier and Bayesian multinomial logistic classifier to classify images from the MNIST database of handwritten digits.\n",
    "\n",
    "Details tasks:\n",
    "\n",
    "Select 3 digits at random and perform  the following task. \n",
    "\n",
    "1. Your goal is to use Bayesian multinomial logistic regression (as in the road-sign notebook) to solve this classification problem. \n",
    "\n",
    "2. You can downsize the training dataset (e.g., 40% training and 60%testing) if the computation of the posterior takes too much time in your computer.\n",
    "\n",
    "3. Use the posterior uncertainty to detect the instances (digits) in the test set that are hard to classify and remove them from the test-set.\n",
    "\n",
    "4. Then you need to compute again the accuracy of the general-recipe logistic regression on the remaining (non-difficult) instances and comment on the result.\n",
    "\n",
    "5. In practice, the task is to use uncertainty estimation to detect the difficult instances in the test-set. This is equivalent to refuse to classify all high-uncertainty instances or, in other words, when we are uncertain we say \"I don't know\" and we do not return any class. In this way, you will learn how uncertainty can be used to make safer decisions, by detecting the instances that are difficult to classify."
   ]
  },
  {
   "cell_type": "markdown",
   "metadata": {
    "id": "80m304lUefG4"
   },
   "source": [
    "## Dataset"
   ]
  },
  {
   "cell_type": "markdown",
   "metadata": {
    "id": "Bs8mHGcidHSa"
   },
   "source": [
    "The MNIST database  is a dataset of handwritten digits that has been and is extensively used in machine learning. There are $10$ classes, each image is $28\\times28$ pixels and, therefore, each input is $x_i\\in\\mathbb{R}^{784}$. \n",
    "\n",
    "The data set contains 60,000 training images and 10,000 testing images. The database is based on the NIST database. The NIST database was compiled from American Census Bureau employees and high school students. The training set comes from the American Census Bureau employees and the testing set has been taken from American high school students. As a result of the difference between the groups it was posited that this database may not be efficient for machine learning.\n",
    "\n",
    "The MNIST database is compiled as follows;\n",
    "50% of the training data is taken from the NIST training set.\n",
    "50% of the training data is taken from the NIST test set.\n",
    "50% of the testing data is taken from the NIST training set.\n",
    "50% of the testing data is taken from the NIST test set.\n",
    "\n",
    "The MNIST database is maintained by Yann LeCun, (Courant Institute, NYU) Corinna Cortes, (Google Labs, New York) and Christopher J.C. Burges, (Microsoft Research, Redmond)."
   ]
  },
  {
   "cell_type": "markdown",
   "metadata": {},
   "source": [
    "## Method\n",
    "\n",
    "Multinomial Logistic Regression (MLR) is used to classify the images in the MNIST database.\n",
    "\n",
    "MLR is an extension of Binary Logistic Regression (BLR) in which numerous binary models are deployed simultaneously.\n",
    "Multinomial logistic regression is used to classify categorial outcomes rather than continuous outcomes. Multinomial models do not assume normality, linearity or homoscedasticity. This makes it a strong modelling choice as real world data can often display these imperfections."
   ]
  },
  {
   "cell_type": "markdown",
   "metadata": {},
   "source": [
    "A Bayesian Multinomial Logistic Regression (BMLR) is built to classify the handwritten numbers in the MNIST Database\n",
    "\n",
    "Multinomial logistic regression is a classifiaction technique that is used to predict the category of of an input or the probability of its membership to a category. This is calculated based on multiple independent variables taht are either binary or continuous. Multinomial logistic regression allows for for the dependent variable to be part of more than two categories (Czepiel, n.d.)(Carpita, et al., 2014).\n",
    "\n",
    "To build the classifier we must first understand its basic construction. The formula for BMLR is:\n",
    "\n",
    "$Pr(Y_{ik} = Pr(Y_i = k\\mid x_i; \\beta_1 , \\beta_2 , ..., \\beta_m) = \\frac{\\displaystyle\\exp(\\beta_{0k} + x_i \\beta_k)}{\\displaystyle\\sum_{j=1}^{m}\\exp(\\beta_{0j} + x_i\\beta_j)}$ with $k = 1,2,...$\n",
    "\n",
    "where $\\beta_k$ is a row vector of regression coefficients of $x$ for the $k$th category of $y$\n",
    "\n",
    "Since multinomial logistic regression is an expansion of binary logistic regression we will first define a binary model.\n",
    "\n",
    "Logistic regression assumes that for a single data point $(x,y)$:\n",
    "\n",
    "$P(Y = 1 \\mid X = x) = \\sigma(z)$ where $z = \\theta_0 + \\displaystyle\\sum_{i = 1}^{m} \\theta_i x_i$\n",
    "\n",
    "where $\\theta$ is a vector of parameters of length $m$ the values of these parameters is found from $n$ training examples.\n",
    "\n",
    "This is equivalent to:\n",
    "$P(Y =1 \\mid X = x) = \\sigma(\\theta^Tx)$\n",
    "\n",
    "Maximum likelihood estimation (MLE) is used to choose the parameter values of the logistic regression. To do this we calculate the log-likelihood and find the values of $\\theta$ that maximise it.\n",
    "\n",
    "Since the predictions being made are binary we can define each label as a Bernoulli random variable. The probability of one data point can thus be written as:\n",
    "\n",
    "$P(Y = y\\mid X=x) = \\sigma(\\theta^Tx)^y \\cdot [1 - \\sigma(\\theta^Tx)]^{(1-y)} $\n",
    "\n",
    "The likelihood of all of the data is defined as follows:\n",
    "\n",
    "The likelihood of the independent training labels:\n",
    "\n",
    "$L(\\theta) = \\displaystyle\\prod_{i =1}^n P(Y = y^{(i)} \\mid X = x^{(i)})$\n",
    "\n",
    "Using the likelihood of a Bernoulli we get\n",
    "$L(\\theta) = \\displaystyle\\prod_{i =1}^n P(Y = y^{(i)} \\mid X = x^{(i)}) = \\displaystyle\\prod_{i=1}^n\\sigma(\\theta^Tx^{(i)})^{y^{(i)}} \\cdot [1-\\sigma(\\theta^Tx^{(i)})]^{(1-y^{(i)})}$\n",
    "\n",
    "Therefore the log-likelihood of the logistic regression is:\n",
    "\n",
    "$LL(\\theta) = \\displaystyle\\sum_{(i=1)}^ny^{(i)}\\log[\\sigma(\\theta^Tx^{(i)}) + (1 - y^{(i)}) \\log[1 - \\sigma(\\theta^Tx^{(i)})]$\n",
    "\n",
    "By using a partial derivative of each parameter we can find the values of $\\theta $ that maximise the log-likelihood.\n",
    "\n",
    "The partial derivative of $LL(\\theta)$ is;\n",
    "\n",
    "$\\frac{\\partial LL(\\theta)}{\\partial\\theta_j} = \\displaystyle\\sum_{i=1}^n [y^{(i)} - \\sigma(\\theta^Tx^{(i)})]x^{(i)}_j$\n",
    "\n",
    "Using this various optimisation techniques can be deployed to identify the maximum likelihood. A typical binary logistic regression might use gradient decent, however multinomial classifiers will likely use more sophisticated techniques (Monroe, 2017)."
   ]
  },
  {
   "cell_type": "markdown",
   "metadata": {
    "id": "nMRKRTQZe5fW"
   },
   "source": [
    "## 1. Libraries"
   ]
  },
  {
   "cell_type": "code",
   "execution_count": 4,
   "metadata": {
    "id": "IxusAui7AX_f"
   },
   "outputs": [],
   "source": [
    "# Suppressing Warnings:\n",
    "import warnings\n",
    "warnings.filterwarnings(\"ignore\")"
   ]
  },
  {
   "cell_type": "code",
   "execution_count": 5,
   "metadata": {
    "id": "MQOfGMQpdHSb"
   },
   "outputs": [],
   "source": [
    "# Import libraries\n",
    "# Sklearn modeules for pre-processing, validating and Logestic Regression Model\n",
    "from sklearn.linear_model import LogisticRegression\n",
    "from sklearn import metrics\n",
    "from sklearn.metrics import accuracy_score\n",
    "from sklearn.model_selection import train_test_split\n",
    "from sklearn.utils import shuffle\n",
    "\n",
    "# Generic Python modules\n",
    "import pandas as pd\n",
    "import numpy as np\n",
    "import random\n",
    "\n",
    "# Visuals: Seaborn and matplotlib\n",
    "import seaborn as sns\n",
    "from skimage.io import imshow\n",
    "import matplotlib.pyplot as plt\n",
    "import matplotlib\n",
    "%matplotlib inline\n",
    "\n",
    "# ymc3 module for statistical modeling\n",
    "import pymc3 as pm\n",
    "\n",
    "# Theano efficiently evaluates mathematical expressions\n",
    "import theano as tt\n",
    "\n",
    "# Pickle saves/loads pythonic objects as bin\n",
    "import pickle"
   ]
  },
  {
   "cell_type": "code",
   "execution_count": 6,
   "metadata": {
    "id": "P5-qMSjpAQ-9"
   },
   "outputs": [],
   "source": [
    "# Setting a seed:\n",
    "np.random.seed(100)"
   ]
  },
  {
   "cell_type": "markdown",
   "metadata": {
    "id": "r4hSuwkUfVQb"
   },
   "source": [
    "## 2. Dataset"
   ]
  },
  {
   "cell_type": "markdown",
   "metadata": {
    "id": "w99Pc66YdHSd"
   },
   "source": [
    "### 2.1 Loading the MNIST dataset"
   ]
  },
  {
   "cell_type": "markdown",
   "metadata": {},
   "source": [
    "My test is running in both Colab and local Juypter.<br>\n",
    "Mnist test data was downloaded from the shared folder. The path in my local is: ./mnist_data/ and the path in colab is: /content/drive/MyDrive/Colab Notebooks/mnist/Data/"
   ]
  },
  {
   "cell_type": "code",
   "execution_count": 7,
   "metadata": {
    "colab": {
     "base_uri": "https://localhost:8080/"
    },
    "id": "CYFWAbXVzynp",
    "outputId": "a18b4283-3b97-4eb3-e0ed-d2f241176139"
   },
   "outputs": [],
   "source": [
    "is_COLAB = 'google.colab' in str(get_ipython())\n",
    "if is_COLAB:\n",
    "    from google.colab import drive\n",
    "    drive.mount('/content/drive')\n",
    "    Path = '/content/drive/MyDrive/Colab Notebooks/mnist/Data/'\n",
    "else:\n",
    "    Path = 'mnist_data/'"
   ]
  },
  {
   "cell_type": "code",
   "execution_count": 8,
   "metadata": {
    "colab": {
     "base_uri": "https://localhost:8080/"
    },
    "id": "g4rCnS4vdHSd",
    "outputId": "87b5c3c5-8f1f-4133-f7c6-808adc4d73e2"
   },
   "outputs": [
    {
     "name": "stdout",
     "output_type": "stream",
     "text": [
      "(60000, 784)\n",
      "(10000, 784)\n"
     ]
    }
   ],
   "source": [
    "# MNIST Data\n",
    "train_data = Path + 'mnist_train.csv'\n",
    "test_data = Path + 'mnist_test.csv'\n",
    "\n",
    "# train data\n",
    "df_train = pd.read_csv(train_data)\n",
    "X_train = df_train.drop(\"label\",axis=1).values\n",
    "y_train = df_train.label.values\n",
    "print(X_train.shape)\n",
    "\n",
    "# test data\n",
    "df_test = pd.read_csv(test_data)\n",
    "X_test = df_test.drop(\"label\",axis=1).values\n",
    "y_test = df_test.label.values\n",
    "print(X_test.shape)"
   ]
  },
  {
   "cell_type": "markdown",
   "metadata": {},
   "source": [
    "### 2.2 Normalise the Data"
   ]
  },
  {
   "cell_type": "code",
   "execution_count": 9,
   "metadata": {
    "colab": {
     "base_uri": "https://localhost:8080/"
    },
    "id": "O2ubJ_WoAqBh",
    "outputId": "d9445837-a9ea-4b7e-a2df-180748492c6b"
   },
   "outputs": [
    {
     "name": "stdout",
     "output_type": "stream",
     "text": [
      "0.0 1.0\n"
     ]
    }
   ],
   "source": [
    "# Normalizing the Inputs:\n",
    "X_train = X_train/255\n",
    "X_test = X_test/255\n",
    "\n",
    "# Printing the new input range of values:\n",
    "minv = np.min(X_train)\n",
    "maxv = np.max(X_train)\n",
    "print(minv,maxv)"
   ]
  },
  {
   "cell_type": "markdown",
   "metadata": {
    "id": "SR6HpkWndHSe"
   },
   "source": [
    "### 2.3 Description of Data:"
   ]
  },
  {
   "cell_type": "code",
   "execution_count": 10,
   "metadata": {
    "colab": {
     "base_uri": "https://localhost:8080/"
    },
    "id": "sibN1Vv1dHSf",
    "outputId": "1003de54-5653-47cf-a6ce-67e7abaa3768"
   },
   "outputs": [
    {
     "name": "stdout",
     "output_type": "stream",
     "text": [
      "Number of Training examples = 60000\n",
      "Number of Test examples = 10000\n",
      "Image input shape = 784\n",
      "Number of classes = 10\n"
     ]
    }
   ],
   "source": [
    "# Number of examples\n",
    "n_train =  len(X_train)\n",
    "n_test =  len(X_test)\n",
    "\n",
    "# Shape of an traffic sign image\n",
    "image_shape = X_train.shape[1]\n",
    "\n",
    "# unique classes/labels in the training dataset.\n",
    "alltotal = set(y_train)\n",
    "n_classes = len(alltotal)\n",
    "\n",
    "print(\"Number of Training examples =\", n_train)\n",
    "print(\"Number of Test examples =\", n_test)\n",
    "print(\"Image input shape =\", image_shape)\n",
    "print(\"Number of classes =\", n_classes)"
   ]
  },
  {
   "cell_type": "markdown",
   "metadata": {
    "id": "6HQDSvrRKZF6"
   },
   "source": [
    "### 2.4 Class Distribution:"
   ]
  },
  {
   "cell_type": "code",
   "execution_count": 11,
   "metadata": {
    "id": "XG8GdlpBKdCt"
   },
   "outputs": [
    {
     "data": {
      "image/png": "[encoded data removed]",
      "text/plain": [
       "<Figure size 432x288 with 1 Axes>"
      ]
     },
     "metadata": {
      "needs_background": "light"
     },
     "output_type": "display_data"
    }
   ],
   "source": [
    "fig, ax = plt.subplots()\n",
    "ind = np.arange(n_classes)\n",
    "\n",
    "n, bins, patches = ax.hist(y_train, n_classes)\n",
    "ax.set_xlabel('classes')\n",
    "ax.set_ylabel('counts')\n",
    "ax.set_title(r'Histogram of Digit images')\n",
    "plt.show()"
   ]
  },
  {
   "cell_type": "markdown",
   "metadata": {},
   "source": [
    "### Comments:\n",
    "The train data is even distributed. Most of the numbers are around 6000 times"
   ]
  },
  {
   "cell_type": "markdown",
   "metadata": {
    "id": "EyLWw3nsLCtk"
   },
   "source": [
    "## 3. Downsampling"
   ]
  },
  {
   "cell_type": "markdown",
   "metadata": {
    "id": "2U1lFEwhLKBf"
   },
   "source": [
    "### 3.1 Randomly selecting 3 of the 10 Digit Classes"
   ]
  },
  {
   "cell_type": "code",
   "execution_count": 12,
   "metadata": {
    "id": "0EeRZZWdLRPT"
   },
   "outputs": [
    {
     "data": {
      "text/plain": [
       "[3, 7, 8]"
      ]
     },
     "execution_count": 12,
     "metadata": {},
     "output_type": "execute_result"
    }
   ],
   "source": [
    "# We select the number of Classes we want:\n",
    "n_classes = 3\n",
    "\n",
    "# Empty list to append the random digit classes we select:\n",
    "classes = []\n",
    "\n",
    "# We select 3 digits at random and make sure they are unique:\n",
    "while len(classes) < n_classes:\n",
    "    \n",
    "    # Randomly drawing a digit from 0-9:\n",
    "    num2choose = np.random.randint(0,10)\n",
    "\n",
    "    # Append the digit if it's not already in our list of classes:\n",
    "    if num2choose not in classes: \n",
    "        classes.append(num2choose)\n",
    "        \n",
    "# Sorting the Classes smallest to largest    \n",
    "classes.sort()\n",
    "# print classes selected\n",
    "classes"
   ]
  },
  {
   "cell_type": "code",
   "execution_count": 13,
   "metadata": {
    "id": "2M8R5NqKMB_M"
   },
   "outputs": [],
   "source": [
    "# The number of instances we'll keep for each of our 3 digits:\n",
    "inst_class = 1000\n",
    "\n",
    "inputs = []\n",
    "labels = []\n",
    "# Loop to randomly sample the instances for each digit:\n",
    "for r in classes:\n",
    "    imgs = X_train[np.where(y_train==r)[0],:]\n",
    "    inputs.append(imgs[np.random.permutation(imgs.shape[0]),:][0:inst_class,:])\n",
    "    labels.append(np.ones(inst_class)*r)\n",
    "    \n",
    "# Shaping inputs and labels in the right format    \n",
    "X_train = np.vstack(inputs).astype(np.float64)\n",
    "y_train = np.hstack(labels)"
   ]
  },
  {
   "cell_type": "code",
   "execution_count": 14,
   "metadata": {},
   "outputs": [
    {
     "data": {
      "text/plain": [
       "((3000, 784), (3000,))"
      ]
     },
     "execution_count": 14,
     "metadata": {},
     "output_type": "execute_result"
    }
   ],
   "source": [
    "X_train.shape, y_train.shape"
   ]
  },
  {
   "cell_type": "markdown",
   "metadata": {
    "id": "_6-YHrQQMicy"
   },
   "source": [
    "New Classes Distribution"
   ]
  },
  {
   "cell_type": "code",
   "execution_count": 15,
   "metadata": {
    "id": "RA300COaMxWm"
   },
   "outputs": [
    {
     "data": {
      "image/png": "[encoded data removed]",
      "text/plain": [
       "<Figure size 432x288 with 1 Axes>"
      ]
     },
     "metadata": {
      "needs_background": "light"
     },
     "output_type": "display_data"
    }
   ],
   "source": [
    "# new histogram\n",
    "fig, ax = plt.subplots()\n",
    "ind = np.arange(n_classes)\n",
    "\n",
    "n, bins, patches = ax.hist(y_train, bins=range(10), align=\"left\", rwidth=0.8)\n",
    "ax.set_xlabel('classes')\n",
    "ax.set_ylabel('counts')\n",
    "ax.set_title(r'Histogram of Digit images')\n",
    "plt.show()"
   ]
  },
  {
   "cell_type": "code",
   "execution_count": 16,
   "metadata": {
    "id": "eFgP4xugMvJm"
   },
   "outputs": [],
   "source": [
    "# plot digits\n",
    "def plot_digits(instances, images_per_row=5, **options):\n",
    "    size = 28\n",
    "    images_per_row = min(len(instances), images_per_row)\n",
    "    images = [instance.reshape(size,size) for instance in instances]\n",
    "    n_rows = (len(instances) - 1) // images_per_row + 1\n",
    "    row_images = []\n",
    "    n_empty = n_rows * images_per_row - len(instances)\n",
    "    images.append(np.zeros((size, size * n_empty)))\n",
    "    for row in range(n_rows):\n",
    "        rimages = images[row * images_per_row : (row + 1) * images_per_row]\n",
    "        row_images.append(np.concatenate(rimages, axis=1))\n",
    "    image = np.concatenate(row_images, axis=0)\n",
    "    plt.imshow(image,  cmap='gist_yarg', **options)\n",
    "    plt.axis(\"off\")"
   ]
  },
  {
   "cell_type": "code",
   "execution_count": 17,
   "metadata": {},
   "outputs": [],
   "source": [
    "def random_labels(y_train, cnt=5):\n",
    "    \"\"\"\n",
    "    random_labels: Randomly generate cnt lables for each digital number\n",
    "    :param y_train: y_train (Array)\n",
    "    :param cnt: The count of labels (int)\n",
    "    :return: list[int]\n",
    "    \"\"\"\n",
    "    labels = []\n",
    "    class_cnt = len(set(y_train))\n",
    "    len_y_train = len(y_train)\n",
    "    width = int(len_y_train/class_cnt)\n",
    "    for i in range(class_cnt):\n",
    "        row = np.random.choice(width, cnt, replace=False) + i*width\n",
    "        #print(row)\n",
    "        labels.extend(row)\n",
    "    return labels"
   ]
  },
  {
   "cell_type": "code",
   "execution_count": 18,
   "metadata": {
    "id": "zeEG-LGOM4fJ"
   },
   "outputs": [
    {
     "data": {
      "text/plain": [
       "Text(0.5, 1.0, 'Original')"
      ]
     },
     "execution_count": 18,
     "metadata": {},
     "output_type": "execute_result"
    },
    {
     "data": {
      "image/png": "[encoded data removed]",
      "text/plain": [
       "<Figure size 576x576 with 1 Axes>"
      ]
     },
     "metadata": {
      "needs_background": "light"
     },
     "output_type": "display_data"
    }
   ],
   "source": [
    "# Show a few instances from each Digit:\n",
    "plt.figure(figsize=(8,8))\n",
    "\n",
    "# Selecting a few label indices from each of the 3 classes to show:\n",
    "# Randomly choose a few label indices. 10 labels for each Digit\n",
    "label_indices = random_labels(y_train, cnt=10)\n",
    "\n",
    "# Plotting 'original' image\n",
    "plot_digits(X_train[label_indices,:],images_per_row=10)\n",
    "plt.title(\"Original\", fontsize=14)"
   ]
  },
  {
   "cell_type": "markdown",
   "metadata": {
    "id": "FsAOnOcNNG_V"
   },
   "source": [
    "###  3.2 Splitting the Training data into both Training and Validation Sets:\n",
    "\n",
    "- Although this is the Training set, we can still set aside some samples (for instance 20%) of the 3000 instances we have for Model Validation purposes.\n",
    "\n",
    "\n",
    "- With that Validation Set, we can then select the amount of Uncertainty we are happy with from our Model to use out of sample on other unseen data.\n",
    "\n",
    "\n",
    "- We can then test out how well our decision performs on the Test Set that we put aside earlier."
   ]
  },
  {
   "cell_type": "code",
   "execution_count": 19,
   "metadata": {
    "id": "YdsmyVAtPXNn"
   },
   "outputs": [],
   "source": [
    "### Split tha dataset in training and validation sets\n",
    "# choose the fraction of your validation data from the training set\n",
    "w = 0.20\n",
    "X_train, X_val, y_train, y_val = train_test_split(X_train, y_train, test_size=w, random_state=0)\n",
    " \n",
    "# Shuffling the training instaces around to randomize the order of inputs to the model:\n",
    "X_train, y_train = shuffle(X_train, y_train)"
   ]
  },
  {
   "cell_type": "code",
   "execution_count": 20,
   "metadata": {
    "id": "qXwJwP0iPxhi"
   },
   "outputs": [
    {
     "name": "stdout",
     "output_type": "stream",
     "text": [
      "X_train Shape: (2400, 784)\n",
      "y_train Shape: (2400,)\n",
      "X_val Shape: (600, 784)\n",
      "y_val Shape: (600,)\n"
     ]
    }
   ],
   "source": [
    "# print shape of your validation and training set\n",
    "\n",
    "print(f'X_train Shape: {X_train.shape}')\n",
    "print(f'y_train Shape: {y_train.shape}')\n",
    "print(f'X_val Shape: {X_val.shape}')\n",
    "print(f'y_val Shape: {y_val.shape}')"
   ]
  },
  {
   "cell_type": "markdown",
   "metadata": {
    "id": "rjUaqWTqQIcp"
   },
   "source": [
    "### 4. General-Recipe ML"
   ]
  },
  {
   "cell_type": "code",
   "execution_count": 21,
   "metadata": {
    "id": "QzgdivxfQNv5"
   },
   "outputs": [
    {
     "name": "stdout",
     "output_type": "stream",
     "text": [
      "Accuracy= 0.9616666666666667\n"
     ]
    }
   ],
   "source": [
    "# model\n",
    "model_log = LogisticRegression(random_state=0, max_iter=2000, C=100, solver='lbfgs', multi_class='multinomial').fit(X_train, y_train)\n",
    "\n",
    "\n",
    "# Classification:\n",
    "y_pred_log = model_log.predict(X_val)\n",
    "y_pred_logi_prob = model_log.predict_proba(X_val)\n",
    "\n",
    "# Maybe taking the maximum probability \n",
    "# in any of the classes for each observation\n",
    "prob_classmax = np.max(y_pred_logi_prob,axis=1)\n",
    "\n",
    "# Computing the Accuracy:\n",
    "original_accuracy = accuracy_score(y_pred_log, y_val)\n",
    "print(\"Accuracy=\", original_accuracy)"
   ]
  },
  {
   "cell_type": "code",
   "execution_count": 22,
   "metadata": {},
   "outputs": [
    {
     "data": {
      "text/plain": [
       "array([0.55105937, 0.58706952, 0.61482748, 0.64130265, 0.65150755,\n",
       "       0.71334551, 0.75165125, 0.77752602, 0.78000219, 0.80457218,\n",
       "       0.85065103, 0.88736526, 0.90440242, 0.90972076, 0.91437944,\n",
       "       0.93876412, 0.9396788 , 0.95068303, 0.95240734, 0.95749642,\n",
       "       0.95950235, 0.96169225, 0.96196791, 0.96434085, 0.96623918,\n",
       "       0.97159779, 0.97241535, 0.97355333, 0.97563012, 0.97610681,\n",
       "       0.97663891, 0.97679795, 0.97757468, 0.98051568, 0.98068084,\n",
       "       0.9819175 , 0.9846063 , 0.98507336, 0.98980397, 0.99044535,\n",
       "       0.99162496, 0.99170046, 0.99204373, 0.99244889, 0.99267509,\n",
       "       0.99302727, 0.99347011, 0.99383031, 0.99439994, 0.9944593 ,\n",
       "       0.99448609, 0.99518273, 0.99542661, 0.99548108, 0.99563728,\n",
       "       0.99577181, 0.99606641, 0.9968055 , 0.99704184, 0.99755325,\n",
       "       0.99811918, 0.99812861, 0.99814208, 0.9983702 , 0.99838455,\n",
       "       0.9983951 , 0.99854134, 0.9985593 , 0.99864967, 0.99873307,\n",
       "       0.99880854, 0.99890244, 0.99905486, 0.99910984, 0.99914393,\n",
       "       0.99921067, 0.99926726, 0.99928668, 0.99930433, 0.99932312,\n",
       "       0.99933919, 0.99938024, 0.99939674, 0.99939953, 0.99943234,\n",
       "       0.99943556, 0.99945634, 0.99955228, 0.99955479, 0.99956315,\n",
       "       0.99958942, 0.99962359, 0.9996301 , 0.99964331, 0.9996442 ,\n",
       "       0.99964642, 0.99970306, 0.99973965, 0.99978402, 0.99978642,\n",
       "       0.99978718, 0.99979258, 0.99983353, 0.99983852, 0.99987382,\n",
       "       0.9998766 , 0.99988648, 0.99988767, 0.99988898, 0.99989474,\n",
       "       0.99989755, 0.99990626, 0.99990891, 0.99992778, 0.99993657,\n",
       "       0.99993739, 0.99993839, 0.99994125, 0.99994258, 0.99994847,\n",
       "       0.99995092, 0.99995559, 0.9999562 , 0.99995832, 0.99996374,\n",
       "       0.99996626, 0.99996633, 0.99997047, 0.99997077, 0.99997081,\n",
       "       0.99997229, 0.9999782 , 0.99997837, 0.99997962, 0.99998088,\n",
       "       0.99998276, 0.99998477, 0.99998588, 0.99998656, 0.99998656,\n",
       "       0.99998696, 0.99998719, 0.99998887, 0.99998927, 0.99998975,\n",
       "       0.99999041, 0.99999043, 0.99999067, 0.99999137, 0.99999143,\n",
       "       0.99999145, 0.99999227, 0.99999236, 0.99999313, 0.99999317,\n",
       "       0.99999335, 0.99999403, 0.99999419, 0.99999446, 0.99999459,\n",
       "       0.99999485, 0.99999492, 0.99999496, 0.99999529, 0.99999536,\n",
       "       0.9999955 , 0.99999555, 0.99999556, 0.99999565, 0.99999596,\n",
       "       0.99999609, 0.99999626, 0.9999964 , 0.99999649, 0.99999656,\n",
       "       0.99999667, 0.99999679, 0.99999684, 0.99999686, 0.99999697,\n",
       "       0.99999726, 0.99999758, 0.99999779, 0.99999788, 0.9999979 ,\n",
       "       0.99999799, 0.99999802, 0.9999982 , 0.99999832, 0.99999835,\n",
       "       0.99999866, 0.99999868, 0.99999868, 0.99999873, 0.99999877,\n",
       "       0.99999894, 0.99999895, 0.99999902, 0.99999904, 0.99999909,\n",
       "       0.99999912, 0.99999914, 0.99999925, 0.99999926, 0.99999926,\n",
       "       0.99999926, 0.99999927, 0.99999927, 0.99999942, 0.99999948,\n",
       "       0.9999995 , 0.99999951, 0.99999953, 0.99999953, 0.99999955,\n",
       "       0.99999957, 0.99999964, 0.99999965, 0.99999965, 0.99999966,\n",
       "       0.99999969, 0.99999969, 0.9999997 , 0.99999971, 0.99999971,\n",
       "       0.99999973, 0.99999973, 0.99999974, 0.99999974, 0.99999975,\n",
       "       0.99999975, 0.99999976, 0.99999976, 0.99999978, 0.9999998 ,\n",
       "       0.99999981, 0.99999981, 0.99999982, 0.99999982, 0.99999982,\n",
       "       0.99999982, 0.99999982, 0.99999983, 0.99999983, 0.99999983,\n",
       "       0.99999984, 0.99999985, 0.99999985, 0.99999988, 0.99999989,\n",
       "       0.99999989, 0.99999989, 0.9999999 , 0.9999999 , 0.9999999 ,\n",
       "       0.9999999 , 0.99999991, 0.99999991, 0.99999991, 0.99999991,\n",
       "       0.99999992, 0.99999993, 0.99999993, 0.99999993, 0.99999994,\n",
       "       0.99999994, 0.99999994, 0.99999994, 0.99999994, 0.99999994,\n",
       "       0.99999995, 0.99999995, 0.99999995, 0.99999995, 0.99999996,\n",
       "       0.99999996, 0.99999996, 0.99999996, 0.99999997, 0.99999997,\n",
       "       0.99999997, 0.99999997, 0.99999997, 0.99999997, 0.99999997,\n",
       "       0.99999997, 0.99999997, 0.99999998, 0.99999998, 0.99999998,\n",
       "       0.99999998, 0.99999998, 0.99999998, 0.99999998, 0.99999998,\n",
       "       0.99999998, 0.99999998, 0.99999998, 0.99999998, 0.99999998,\n",
       "       0.99999998, 0.99999998, 0.99999998, 0.99999999, 0.99999999,\n",
       "       0.99999999, 0.99999999, 0.99999999, 0.99999999, 0.99999999,\n",
       "       0.99999999, 0.99999999, 0.99999999, 0.99999999, 0.99999999,\n",
       "       0.99999999, 0.99999999, 1.        , 1.        , 1.        ,\n",
       "       1.        , 1.        , 1.        , 1.        , 1.        ,\n",
       "       1.        , 1.        , 1.        , 1.        , 1.        ,\n",
       "       1.        , 1.        , 1.        , 1.        , 1.        ,\n",
       "       1.        , 1.        , 1.        , 1.        , 1.        ,\n",
       "       1.        , 1.        , 1.        , 1.        , 1.        ,\n",
       "       1.        , 1.        , 1.        , 1.        , 1.        ,\n",
       "       1.        , 1.        , 1.        , 1.        , 1.        ,\n",
       "       1.        , 1.        , 1.        , 1.        , 1.        ,\n",
       "       1.        , 1.        , 1.        , 1.        , 1.        ,\n",
       "       1.        , 1.        , 1.        , 1.        , 1.        ,\n",
       "       1.        , 1.        , 1.        , 1.        , 1.        ,\n",
       "       1.        , 1.        , 1.        , 1.        , 1.        ,\n",
       "       1.        , 1.        , 1.        , 1.        , 1.        ,\n",
       "       1.        , 1.        , 1.        , 1.        , 1.        ,\n",
       "       1.        , 1.        , 1.        , 1.        , 1.        ,\n",
       "       1.        , 1.        , 1.        , 1.        , 1.        ,\n",
       "       1.        , 1.        , 1.        , 1.        , 1.        ,\n",
       "       1.        , 1.        , 1.        , 1.        , 1.        ,\n",
       "       1.        , 1.        , 1.        , 1.        , 1.        ,\n",
       "       1.        , 1.        , 1.        , 1.        , 1.        ,\n",
       "       1.        , 1.        , 1.        , 1.        , 1.        ,\n",
       "       1.        , 1.        , 1.        , 1.        , 1.        ,\n",
       "       1.        , 1.        , 1.        , 1.        , 1.        ,\n",
       "       1.        , 1.        , 1.        , 1.        , 1.        ,\n",
       "       1.        , 1.        , 1.        , 1.        , 1.        ,\n",
       "       1.        , 1.        , 1.        , 1.        , 1.        ,\n",
       "       1.        , 1.        , 1.        , 1.        , 1.        ,\n",
       "       1.        , 1.        , 1.        , 1.        , 1.        ,\n",
       "       1.        , 1.        , 1.        , 1.        , 1.        ,\n",
       "       1.        , 1.        , 1.        , 1.        , 1.        ,\n",
       "       1.        , 1.        , 1.        , 1.        , 1.        ,\n",
       "       1.        , 1.        , 1.        , 1.        , 1.        ,\n",
       "       1.        , 1.        , 1.        , 1.        , 1.        ,\n",
       "       1.        , 1.        , 1.        , 1.        , 1.        ,\n",
       "       1.        , 1.        , 1.        , 1.        , 1.        ,\n",
       "       1.        , 1.        , 1.        , 1.        , 1.        ,\n",
       "       1.        , 1.        , 1.        , 1.        , 1.        ,\n",
       "       1.        , 1.        , 1.        , 1.        , 1.        ,\n",
       "       1.        , 1.        , 1.        , 1.        , 1.        ,\n",
       "       1.        , 1.        , 1.        , 1.        , 1.        ,\n",
       "       1.        , 1.        , 1.        , 1.        , 1.        ,\n",
       "       1.        , 1.        , 1.        , 1.        , 1.        ,\n",
       "       1.        , 1.        , 1.        , 1.        , 1.        ,\n",
       "       1.        , 1.        , 1.        , 1.        , 1.        ,\n",
       "       1.        , 1.        , 1.        , 1.        , 1.        ,\n",
       "       1.        , 1.        , 1.        , 1.        , 1.        ,\n",
       "       1.        , 1.        , 1.        , 1.        , 1.        ,\n",
       "       1.        , 1.        , 1.        , 1.        , 1.        ,\n",
       "       1.        , 1.        , 1.        , 1.        , 1.        ,\n",
       "       1.        , 1.        , 1.        , 1.        , 1.        ,\n",
       "       1.        , 1.        , 1.        , 1.        , 1.        ,\n",
       "       1.        , 1.        , 1.        , 1.        , 1.        ,\n",
       "       1.        , 1.        , 1.        , 1.        , 1.        ,\n",
       "       1.        , 1.        , 1.        , 1.        , 1.        ,\n",
       "       1.        , 1.        , 1.        , 1.        , 1.        ,\n",
       "       1.        , 1.        , 1.        , 1.        , 1.        ])"
      ]
     },
     "execution_count": 22,
     "metadata": {},
     "output_type": "execute_result"
    }
   ],
   "source": [
    "np.sort(prob_classmax)"
   ]
  },
  {
   "cell_type": "code",
   "execution_count": 23,
   "metadata": {},
   "outputs": [
    {
     "data": {
      "text/plain": [
       "array([0.97663891, 0.65150755, 0.90972076, 0.95950235, 0.99244889,\n",
       "       0.85065103, 0.75165125, 1.        , 0.95749642, 0.97679795,\n",
       "       0.93876412, 0.99383031, 0.97355333, 0.99989755, 0.97159779,\n",
       "       0.55105937, 0.80457218, 0.71334551, 0.97563012, 0.96434085,\n",
       "       0.99890244, 0.98507336, 0.88736526])"
      ]
     },
     "execution_count": 23,
     "metadata": {},
     "output_type": "execute_result"
    }
   ],
   "source": [
    "# probability of general-recipe logistic regression in wrong instances\n",
    "prob_classmax[y_pred_log!=y_val]"
   ]
  },
  {
   "cell_type": "code",
   "execution_count": 24,
   "metadata": {},
   "outputs": [
    {
     "data": {
      "text/plain": [
       "array([3., 7., 7., 8., 8., 8., 8., 3., 7., 8., 7., 3., 3., 3., 7., 8., 7.,\n",
       "       3., 3., 8., 8., 3., 7., 7., 8., 3., 7., 3., 7., 3., 8., 7., 8., 7.,\n",
       "       7., 3., 3., 7., 8., 7., 7., 3., 3., 3., 3., 3., 8., 7., 8., 3., 7.,\n",
       "       7., 3., 8., 3., 8., 8., 3., 8., 8., 8., 8., 8., 3., 8., 3., 7., 8.,\n",
       "       3., 7., 7., 7., 7., 8., 7., 3., 3., 7., 7., 7., 7., 3., 3., 8., 3.,\n",
       "       8., 3., 3., 7., 3., 7., 7., 3., 7., 3., 3., 7., 3., 3., 3., 8., 8.,\n",
       "       3., 7., 3., 7., 7., 7., 3., 8., 7., 7., 7., 8., 7., 7., 8., 7., 7.,\n",
       "       7., 8., 3., 8., 8., 3., 8., 7., 3., 8., 8., 7., 8., 8., 7., 3., 3.,\n",
       "       8., 7., 8., 3., 8., 3., 8., 8., 3., 8., 7., 3., 7., 8., 3., 8., 8.,\n",
       "       8., 3., 3., 7., 3., 3., 3., 7., 7., 3., 3., 7., 8., 7., 3., 7., 8.,\n",
       "       3., 8., 8., 8., 7., 3., 7., 3., 8., 8., 3., 7., 8., 7., 8., 3., 7.,\n",
       "       8., 8., 3., 8., 3., 3., 7., 7., 7., 3., 3., 3., 8., 3., 7., 3., 8.,\n",
       "       7., 7., 8., 3., 8., 7., 7., 3., 7., 7., 8., 8., 3., 3., 3., 8., 3.,\n",
       "       8., 8., 7., 8., 3., 7., 7., 3., 7., 8., 3., 3., 7., 7., 8., 8., 8.,\n",
       "       7., 8., 7., 3., 3., 3., 3., 8., 8., 7., 8., 7., 7., 8., 7., 8., 3.,\n",
       "       7., 8., 7., 3., 8., 8., 3., 8., 3., 8., 3., 8., 3., 8., 3., 8., 7.,\n",
       "       3., 8., 3., 8., 8., 3., 8., 7., 7., 7., 7., 8., 3., 7., 3., 3., 3.,\n",
       "       8., 7., 7., 3., 7., 7., 8., 8., 3., 3., 7., 3., 3., 3., 8., 3., 7.,\n",
       "       3., 3., 8., 3., 7., 8., 8., 8., 8., 3., 7., 8., 3., 3., 3., 8., 8.,\n",
       "       7., 7., 3., 7., 8., 7., 3., 8., 8., 3., 8., 3., 7., 7., 8., 3., 8.,\n",
       "       7., 3., 8., 8., 7., 3., 8., 3., 3., 7., 8., 8., 3., 3., 3., 7., 7.,\n",
       "       8., 3., 3., 3., 3., 7., 3., 7., 8., 3., 8., 3., 3., 3., 8., 3., 8.,\n",
       "       7., 7., 8., 7., 7., 3., 7., 7., 7., 7., 8., 8., 7., 7., 3., 7., 8.,\n",
       "       3., 3., 3., 3., 3., 3., 3., 7., 8., 3., 3., 3., 7., 7., 3., 7., 7.,\n",
       "       3., 8., 8., 8., 8., 3., 7., 8., 8., 3., 3., 3., 7., 3., 7., 8., 3.,\n",
       "       7., 8., 8., 8., 3., 7., 7., 7., 8., 3., 7., 7., 7., 8., 3., 7., 8.,\n",
       "       7., 3., 3., 7., 8., 3., 7., 7., 3., 3., 7., 3., 3., 3., 3., 3., 7.,\n",
       "       3., 3., 7., 7., 8., 8., 8., 7., 7., 7., 8., 7., 3., 3., 3., 7., 8.,\n",
       "       8., 7., 3., 7., 8., 7., 7., 7., 7., 7., 3., 8., 8., 7., 8., 7., 3.,\n",
       "       8., 3., 3., 7., 7., 8., 3., 8., 3., 7., 7., 3., 7., 7., 7., 3., 7.,\n",
       "       3., 3., 7., 7., 7., 8., 7., 3., 7., 3., 8., 7., 7., 3., 7., 8., 3.,\n",
       "       8., 3., 8., 8., 3., 3., 3., 8., 7., 7., 3., 8., 8., 8., 7., 8., 3.,\n",
       "       3., 7., 8., 3., 8., 7., 3., 8., 7., 7., 3., 3., 3., 3., 3., 3., 7.,\n",
       "       3., 8., 8., 7., 8., 7., 3., 3., 3., 8., 3., 7., 3., 3., 7., 3., 8.,\n",
       "       3., 3., 3., 8., 7., 8., 7., 8., 8., 8., 3., 3., 3., 3., 7., 3., 3.,\n",
       "       3., 7., 3., 3., 8.])"
      ]
     },
     "execution_count": 24,
     "metadata": {},
     "output_type": "execute_result"
    }
   ],
   "source": [
    "np.array(y_pred_log)"
   ]
  },
  {
   "cell_type": "markdown",
   "metadata": {},
   "source": [
    "## 5 Probabilistic Multinomial Logistic Regression:"
   ]
  },
  {
   "cell_type": "markdown",
   "metadata": {},
   "source": [
    "The Multinomial Logistic Regression has some parameters:\n",
    "\n",
    "- $\\alpha$, which is the intercept term:\n",
    "\n",
    "- $\\beta$, which is a vector of coefficients which give a weighting to the importance of each input feature:"
   ]
  },
  {
   "cell_type": "markdown",
   "metadata": {},
   "source": [
    "### 5.1 Encoding the Class labels for the Probabilistic ML Model:\n",
    "\n",
    "This is an example:\n",
    "\n",
    "- **[1,0,0]** for first digit\n",
    "- **[0,1,0]** for second digit\n",
    "- **[0,0,1]** for third digit"
   ]
  },
  {
   "attachments": {},
   "cell_type": "markdown",
   "metadata": {},
   "source": [
    "Here we are using sklearn.preprocessing.LabelBinarizer do do the class label encoding. Binarize labels in a one-vs-all fashion. During the learning phase,  it consists in learning one regressor or binary classifier per class. It converts multi-class labels to binary labels. During the prediction phase, it assigns the class for which the corresponding model gave the greatest confidence. \n",
    "It easily transfers [1, 3, 5] to:\n",
    "[[1, 0, 0]\n",
    "[0,1, 0]\n",
    "[0, 0,1]]\n",
    "\n",
    "Reference:\n",
    "https://scikit-learn.org/stable/modules/generated/sklearn.preprocessing.LabelBinarizer.html"
   ]
  },
  {
   "cell_type": "code",
   "execution_count": 25,
   "metadata": {},
   "outputs": [],
   "source": [
    "import sklearn.preprocessing\n",
    "## We use LabelBinarizer to transfor classes into counts\n",
    "# neg_label=0, pos_label=1 \n",
    "y_2_bin = sklearn.preprocessing.LabelBinarizer().fit_transform(y_train.reshape(-1,1))"
   ]
  },
  {
   "cell_type": "code",
   "execution_count": 26,
   "metadata": {},
   "outputs": [
    {
     "data": {
      "text/plain": [
       "array([[0, 0, 1],\n",
       "       [0, 1, 0],\n",
       "       [1, 0, 0],\n",
       "       ...,\n",
       "       [0, 0, 1],\n",
       "       [0, 0, 1],\n",
       "       [0, 1, 0]])"
      ]
     },
     "execution_count": 26,
     "metadata": {},
     "output_type": "execute_result"
    }
   ],
   "source": [
    "y_2_bin"
   ]
  },
  {
   "cell_type": "markdown",
   "metadata": {},
   "source": [
    "### 5.2 Fit the PyMC3 Model"
   ]
  },
  {
   "cell_type": "code",
   "execution_count": 27,
   "metadata": {
    "id": "1o7mbKWmRhz5"
   },
   "outputs": [],
   "source": [
    "nf = X_train.shape[1]\n",
    "# number of classes\n",
    "nc = len(classes)\n",
    "# floatX = float32\n",
    "floatX = tt.config.floatX\n",
    "\n",
    "init_b = np.random.randn(nf, nc-1).astype(floatX)\n",
    "init_a = np.random.randn(nc-1).astype(floatX)\n",
    "\n",
    "\n",
    "with pm.Model() as multi_logistic:\n",
    "    # Prior\n",
    "    β = pm.Normal('beta', 0, sigma=100, shape=(nf, nc-1), testval=init_b)\n",
    "    α = pm.Normal('alpha', 0, sigma=100, shape=(nc-1,), testval=init_a)\n",
    "    \n",
    "    # we need to consider nc-1 features because the model is not identifiable\n",
    "    # the softmax turns a vector into a probability that sums up to one\n",
    "    # therefore we add zeros to go back to dimension nc\n",
    "    # so that softmax returns a vector of dimension nc\n",
    "    β1  = tt.tensor.concatenate([np.zeros((nf,1)),β ],axis=1)\n",
    "    α1  = tt.tensor.concatenate([[0],α ],)\n",
    "    \n",
    "    # Likelihood\n",
    "    mu = pm.math.matrix_dot(X_train,β1) + α1\n",
    "    # It doesn't work if the problem is binary\n",
    "    p = tt.tensor.nnet.nnet.softmax(mu)\n",
    "    observed = pm.Multinomial('likelihood', p=p, n=1, observed=y_2_bin)"
   ]
  },
  {
   "cell_type": "code",
   "execution_count": 28,
   "metadata": {
    "id": "2MFH4gwlRhrB"
   },
   "outputs": [
    {
     "data": {
      "text/html": [
       "\n",
       "    <div>\n",
       "        <style>\n",
       "            /* Turns off some styling */\n",
       "            progress {\n",
       "                /* gets rid of default border in Firefox and Opera. */\n",
       "                border: none;\n",
       "                /* Needs to be in here for Safari polyfill so background images work as expected. */\n",
       "                background-size: auto;\n",
       "            }\n",
       "            .progress-bar-interrupted, .progress-bar-interrupted::-webkit-progress-bar {\n",
       "                background: #F44336;\n",
       "            }\n",
       "        </style>\n",
       "      <progress value='3000' class='' max='3000' style='width:300px; height:20px; vertical-align: middle;'></progress>\n",
       "      100.00% [3000/3000 00:19<00:00 Average Loss = 9,440.3]\n",
       "    </div>\n",
       "    "
      ],
      "text/plain": [
       "<IPython.core.display.HTML object>"
      ]
     },
     "metadata": {},
     "output_type": "display_data"
    },
    {
     "name": "stderr",
     "output_type": "stream",
     "text": [
      "Finished [100%]: Average Loss = 9,433.6\n"
     ]
    },
    {
     "name": "stdout",
     "output_type": "stream",
     "text": [
      "CPU times: user 21.3 s, sys: 1.04 s, total: 22.3 s\n",
      "Wall time: 35.4 s\n"
     ]
    }
   ],
   "source": [
    "%%time\n",
    "with multi_logistic:\n",
    "    #approx = pm.fit(300000, method='advi') # takes longer\n",
    "    approx = pm.fit(3000, method='advi')"
   ]
  },
  {
   "attachments": {},
   "cell_type": "markdown",
   "metadata": {},
   "source": [
    "**Comments** <br>\n",
    "I also tried to change the method from Automatic Differentiation Variational Inference (advi) to Stein Variational Gradient Descent (svgd), the accuracy was improved from .91 to .93. But svgd would take even longer time."
   ]
  },
  {
   "cell_type": "code",
   "execution_count": 29,
   "metadata": {
    "id": "WNmJvYc4Rho7"
   },
   "outputs": [
    {
     "data": {
      "image/png": "[encoded data removed]",
      "text/plain": [
       "<Figure size 432x288 with 1 Axes>"
      ]
     },
     "metadata": {
      "needs_background": "light"
     },
     "output_type": "display_data"
    }
   ],
   "source": [
    "plt.xlabel('Iterations')\n",
    "plt.ylabel('Loss')\n",
    "plt.title('Loss Function over number of iterations of the Multinomial Logistic Regression Algorithm')\n",
    "plt.plot(approx.hist)\n",
    "plt.show()"
   ]
  },
  {
   "cell_type": "markdown",
   "metadata": {},
   "source": [
    "**Comments** <br>\n",
    "The above hist char shows the gradually descending loss at each iteration of the Multinomial Logistic Regression Model using PyMC3 'advi' method. The average loss per iteration after 3000 iterations has come down roughly from around 40,000 to 10,000."
   ]
  },
  {
   "cell_type": "code",
   "execution_count": 30,
   "metadata": {
    "id": "XXh5GXJsRhmr"
   },
   "outputs": [],
   "source": [
    "dd = 300\n",
    "posterior = approx.sample(draws=dd)"
   ]
  },
  {
   "cell_type": "code",
   "execution_count": 31,
   "metadata": {},
   "outputs": [
    {
     "name": "stdout",
     "output_type": "stream",
     "text": [
      "test image #10\n",
      "posterior sample #100\n",
      "true class= 7.0\n",
      "classes: [3, 7, 8]\n",
      "estimated prob= [0. 1. 0.]\n"
     ]
    },
    {
     "data": {
      "image/png": "[encoded data removed]",
      "text/plain": [
       "<Figure size 144x144 with 1 Axes>"
      ]
     },
     "metadata": {
      "needs_background": "light"
     },
     "output_type": "display_data"
    }
   ],
   "source": [
    "## The softmax function transforms each element of a collection by computing the exponential\n",
    "#  of each element divided by the sum of the exponentials of all the elements.\n",
    "from scipy.special import softmax\n",
    "\n",
    "#select an image in the test set\n",
    "i = 10 \n",
    "#i = random.randint(0, dd)\n",
    "\n",
    "#select a sample in the posterior\n",
    "s = 100 \n",
    "#s = random.randint(0, dd)\n",
    "\n",
    "\n",
    "beta  = np.hstack([np.zeros((nf,1)),  posterior['beta'][s,:] ])\n",
    "alpha = np.hstack([[0],  posterior['alpha'][s,:] ])\n",
    "image = X_val[i,:].reshape(28,28)\n",
    "plt.figure(figsize=(2,2))\n",
    "plt.imshow(image,cmap=\"Greys_r\")\n",
    "plt.title(int(y_val[i]))\n",
    "plt.axis('off')\n",
    "np.set_printoptions(suppress=True)\n",
    "\n",
    "print(\"test image #\" + str(i))\n",
    "print(\"posterior sample #\" + str(s))\n",
    "print(\"true class=\", y_val[i])\n",
    "print(\"classes: \" + str(classes))\n",
    "print(\"estimated prob=\",softmax((np.array([X_val[i,:].dot(beta) + alpha])))[0,:])"
   ]
  },
  {
   "cell_type": "markdown",
   "metadata": {},
   "source": [
    "### 5.3 Bayesian Prediction"
   ]
  },
  {
   "cell_type": "code",
   "execution_count": 32,
   "metadata": {},
   "outputs": [],
   "source": [
    "# Bayesian prediction\n",
    "# return the class that has the highest posterior probability\n",
    "y_pred_Bayesian=[]\n",
    "\n",
    "for i in range(X_val.shape[0]):\n",
    "    val=np.zeros((1,len(classes)))\n",
    "    \n",
    "    for s in range(posterior['beta'].shape[0]):\n",
    "        beta = np.hstack([np.zeros((nf,1)),  posterior['beta'][s,:] ])\n",
    "        alpha = np.hstack([[0],  posterior['alpha'][s,:] ])     \n",
    "        val = val + softmax((np.array([X_val[i,:].dot(beta) + alpha])))\n",
    "    \n",
    "    mean_probability = val/posterior['beta'].shape[0]\n",
    "    y_pred_Bayesian.append( np.argmax(mean_probability))"
   ]
  },
  {
   "cell_type": "code",
   "execution_count": 33,
   "metadata": {},
   "outputs": [
    {
     "name": "stdout",
     "output_type": "stream",
     "text": [
      "[0, 1, 1, 2, 2, 2, 2, 0, 1, 2, 1, 0, 0, 2, 1, 2, 1, 0, 2, 2, 2, 0, 1, 1, 2, 0, 1, 0, 1, 0, 2, 1, 2, 1, 1, 0, 0, 1, 2, 1, 1, 0, 0, 0, 0, 0, 2, 1, 2, 0, 1, 1, 0, 2, 0, 2, 2, 2, 2, 2, 2, 2, 2, 0, 2, 0, 1, 2, 0, 2, 1, 1, 1, 2, 1, 0, 0, 1, 1, 1, 1, 0, 2, 2, 0, 2, 0, 0, 1, 0, 1, 1, 0, 1, 0, 0, 1, 0, 2, 0, 2, 2, 0, 1, 0, 1, 1, 1, 0, 2, 2, 1, 1, 2, 1, 1, 2, 2, 0, 1, 2, 0, 2, 2, 0, 2, 1, 0, 2, 2, 1, 2, 2, 1, 0, 0, 2, 1, 2, 0, 2, 0, 2, 2, 0, 0, 1, 2, 1, 2, 0, 2, 2, 2, 0, 0, 1, 0, 2, 0, 1, 1, 0, 0, 2, 2, 1, 0, 1, 2, 0, 2, 2, 0, 1, 0, 1, 0, 0, 2, 0, 1, 2, 1, 2, 0, 1, 2, 2, 0, 2, 0, 0, 1, 1, 1, 0, 0, 0, 2, 0, 1, 0, 2, 2, 1, 2, 0, 2, 1, 1, 2, 1, 1, 2, 2, 0, 0, 0, 2, 0, 2, 2, 1, 2, 2, 1, 1, 0, 1, 2, 0, 0, 1, 1, 2, 2, 2, 1, 2, 1, 0, 0, 0, 0, 2, 2, 1, 2, 1, 1, 2, 1, 2, 0, 1, 2, 1, 0, 2, 2, 0, 2, 1, 2, 0, 2, 0, 2, 0, 2, 1, 0, 2, 0, 2, 2, 0, 2, 1, 1, 1, 1, 2, 0, 1, 0, 0, 0, 2, 1, 1, 0, 2, 2, 0, 2, 0, 0, 1, 0, 0, 0, 2, 0, 1, 0, 0, 0, 0, 1, 2, 2, 2, 2, 0, 1, 2, 0, 0, 2, 2, 2, 1, 1, 0, 1, 2, 1, 0, 2, 0, 0, 2, 0, 1, 1, 2, 0, 2, 1, 0, 2, 2, 1, 0, 0, 1, 0, 1, 2, 0, 0, 0, 0, 1, 1, 2, 0, 2, 0, 0, 1, 0, 1, 2, 0, 2, 0, 0, 0, 2, 0, 0, 1, 1, 2, 1, 1, 0, 1, 1, 1, 1, 2, 2, 1, 1, 0, 1, 2, 0, 0, 0, 0, 0, 0, 0, 1, 2, 0, 0, 0, 1, 1, 0, 1, 2, 0, 2, 2, 2, 2, 0, 2, 2, 2, 0, 0, 0, 1, 2, 1, 2, 0, 1, 2, 2, 2, 0, 1, 1, 1, 0, 0, 1, 1, 1, 0, 0, 1, 2, 1, 0, 0, 1, 2, 0, 1, 1, 0, 0, 1, 0, 0, 0, 0, 0, 1, 0, 0, 1, 0, 1, 2, 2, 0, 1, 1, 2, 1, 0, 1, 0, 1, 2, 2, 2, 0, 1, 2, 2, 1, 1, 1, 1, 1, 2, 2, 2, 2, 1, 0, 2, 0, 2, 1, 1, 2, 0, 2, 0, 1, 1, 0, 1, 1, 1, 0, 2, 0, 0, 1, 1, 1, 2, 1, 0, 0, 0, 2, 1, 1, 0, 1, 2, 2, 2, 0, 2, 2, 0, 0, 0, 2, 1, 1, 0, 2, 2, 2, 1, 2, 0, 0, 1, 2, 0, 2, 1, 0, 2, 2, 1, 0, 0, 0, 0, 0, 0, 1, 1, 2, 2, 1, 2, 2, 0, 0, 0, 2, 2, 1, 0, 0, 1, 0, 2, 0, 0, 2, 2, 1, 2, 1, 2, 2, 2, 0, 0, 0, 0, 1, 0, 0, 0, 1, 0, 0, 2]\n"
     ]
    }
   ],
   "source": [
    "print(y_pred_Bayesian)"
   ]
  },
  {
   "cell_type": "code",
   "execution_count": 34,
   "metadata": {},
   "outputs": [
    {
     "name": "stdout",
     "output_type": "stream",
     "text": [
      "[3, 7, 8]\n"
     ]
    }
   ],
   "source": [
    "# recall the classes we are using\n",
    "print(classes)"
   ]
  },
  {
   "cell_type": "code",
   "execution_count": 35,
   "metadata": {},
   "outputs": [
    {
     "data": {
      "text/plain": [
       "array([3, 7, 7, 8, 8, 8, 8, 3, 7, 8])"
      ]
     },
     "execution_count": 35,
     "metadata": {},
     "output_type": "execute_result"
    }
   ],
   "source": [
    "# prediction array (using classes)\n",
    "nn = 10 # just an example\n",
    "np.array(classes)[y_pred_Bayesian[0:nn]]"
   ]
  },
  {
   "cell_type": "code",
   "execution_count": 36,
   "metadata": {},
   "outputs": [
    {
     "name": "stdout",
     "output_type": "stream",
     "text": [
      "Accuracy= 0.91\n"
     ]
    }
   ],
   "source": [
    "# using validation: y_val\n",
    "print(\"Accuracy=\", accuracy_score(np.array(classes)[y_pred_Bayesian], y_val))"
   ]
  },
  {
   "cell_type": "markdown",
   "metadata": {},
   "source": [
    "### Selecting different instances"
   ]
  },
  {
   "cell_type": "code",
   "execution_count": 37,
   "metadata": {},
   "outputs": [],
   "source": [
    "y_predB=[]\n",
    "\n",
    "for i in range(X_val.shape[0]):\n",
    "    #print(i)\n",
    "    val=[]\n",
    "\n",
    "    for s in range(posterior['beta'].shape[0]):\n",
    "        beta = np.hstack([np.zeros((nf,1)),  posterior['beta'][s,:] ])\n",
    "        alpha = np.hstack([[0],  posterior['alpha'][s,:] ])\n",
    "        val.append(softmax((np.array([X_val[i,:].dot(beta) + alpha])))[0,:])\n",
    "\n",
    "    #mean probability\n",
    "    valmean = np.mean(val,axis=0)\n",
    "    #class with maximum mean probability\n",
    "    classmax = np.argmax(valmean)\n",
    "    #ranks\n",
    "    ranks = np.array(val.copy())\n",
    "    ranks   = ranks  *0 #init\n",
    "    colmax = np.argmax(np.array(val),axis=1)\n",
    "    ranks[np.arange(0,len(colmax)),colmax]=1\n",
    "     \n",
    "    y_predB.append( [classmax, valmean[classmax], np.std(ranks,axis=0)[classmax]])\n",
    "\n",
    "    \n",
    "y_predB= np.array(y_predB)"
   ]
  },
  {
   "cell_type": "code",
   "execution_count": 38,
   "metadata": {},
   "outputs": [
    {
     "data": {
      "text/plain": [
       "array([[0.        , 0.91134317, 0.29089899],\n",
       "       [1.        , 0.99999397, 0.        ],\n",
       "       [1.        , 0.98879094, 0.09949874],\n",
       "       [2.        , 0.84344841, 0.35377331],\n",
       "       [2.        , 0.86592326, 0.33993463],\n",
       "       [2.        , 0.67731117, 0.45825757],\n",
       "       [2.        , 0.5400944 , 0.49714742],\n",
       "       [0.        , 0.96242247, 0.16110728],\n",
       "       [1.        , 0.98971316, 0.08137704],\n",
       "       [2.        , 0.96426736, 0.17950549]])"
      ]
     },
     "execution_count": 38,
     "metadata": {},
     "output_type": "execute_result"
    }
   ],
   "source": [
    "# prediction array\n",
    "mm = 10\n",
    "y_predB[0:mm,:]"
   ]
  },
  {
   "cell_type": "code",
   "execution_count": 39,
   "metadata": {},
   "outputs": [
    {
     "data": {
      "text/plain": [
       "array([[2.        , 0.49054639, 0.5       ],\n",
       "       [0.        , 0.50133734, 0.49998889],\n",
       "       [0.        , 0.50572215, 0.49998889],\n",
       "       [2.        , 0.49207934, 0.49998889],\n",
       "       [1.        , 0.5023346 , 0.49998889],\n",
       "       [0.        , 0.48269145, 0.49998889],\n",
       "       [2.        , 0.48588683, 0.49989999],\n",
       "       [2.        , 0.48396561, 0.49982219],\n",
       "       [0.        , 0.508613  , 0.49982219],\n",
       "       [2.        , 0.50644149, 0.49972215]])"
      ]
     },
     "execution_count": 39,
     "metadata": {},
     "output_type": "execute_result"
    }
   ],
   "source": [
    "#sorting in descending order\n",
    "difficult = np.argsort(-y_predB[:,2])\n",
    "y_predB[difficult[0:mm],:]"
   ]
  },
  {
   "cell_type": "code",
   "execution_count": 40,
   "metadata": {},
   "outputs": [
    {
     "data": {
      "text/plain": [
       "array([0.97663891, 0.65150755, 0.90972076, 0.95950235, 0.99244889,\n",
       "       0.85065103, 0.75165125, 1.        , 0.95749642, 0.97679795,\n",
       "       0.93876412, 0.99383031, 0.97355333, 0.99989755, 0.97159779,\n",
       "       0.55105937, 0.80457218, 0.71334551, 0.97563012, 0.96434085,\n",
       "       0.99890244, 0.98507336, 0.88736526])"
      ]
     },
     "execution_count": 40,
     "metadata": {},
     "output_type": "execute_result"
    }
   ],
   "source": [
    "#probability of general-recipe logistic regression in wrong instances\n",
    "prob_classmax[y_pred_log != y_val]"
   ]
  },
  {
   "cell_type": "code",
   "execution_count": 41,
   "metadata": {},
   "outputs": [
    {
     "data": {
      "text/plain": [
       "array([[2.        , 0.88939392, 0.3       ],\n",
       "       [0.        , 0.66442573, 0.47140452],\n",
       "       [1.        , 0.45071676, 0.49781746],\n",
       "       [0.        , 0.65315559, 0.47590849],\n",
       "       [2.        , 0.55815089, 0.49459299],\n",
       "       [2.        , 0.95215521, 0.21092389],\n",
       "       [0.        , 0.89103173, 0.29089899],\n",
       "       [2.        , 0.84568401, 0.34698703],\n",
       "       [2.        , 0.8281685 , 0.36660606],\n",
       "       [2.        , 0.70154008, 0.4567883 ],\n",
       "       [0.        , 0.78380373, 0.40491426],\n",
       "       [2.        , 0.51158214, 0.49945526],\n",
       "       [2.        , 0.97328923, 0.16110728],\n",
       "       [0.        , 0.50572215, 0.49998889],\n",
       "       [2.        , 0.66613748, 0.4689942 ],\n",
       "       [0.        , 0.74154169, 0.41867516],\n",
       "       [1.        , 0.99522643, 0.05763872],\n",
       "       [1.        , 0.73411821, 0.43492017],\n",
       "       [0.        , 0.45711054, 0.49811868],\n",
       "       [2.        , 0.57945547, 0.49183331],\n",
       "       [2.        , 0.47147171, 0.49945526],\n",
       "       [0.        , 0.56331258, 0.49597267],\n",
       "       [2.        , 0.82081452, 0.36966952]])"
      ]
     },
     "execution_count": 41,
     "metadata": {},
     "output_type": "execute_result"
    }
   ],
   "source": [
    "y_predB[y_pred_log != y_val,:]"
   ]
  },
  {
   "cell_type": "markdown",
   "metadata": {},
   "source": [
    "### 5.4 Selecting Difficult and Easy Instances"
   ]
  },
  {
   "cell_type": "code",
   "execution_count": 42,
   "metadata": {},
   "outputs": [
    {
     "name": "stdout",
     "output_type": "stream",
     "text": [
      "Accuracy in easy instances = 0.99\n",
      "Accuracy in difficult instances = 0.89\n"
     ]
    }
   ],
   "source": [
    "## Difficult & easy instances\n",
    "\n",
    "easy = np.argsort(y_predB[:,2])\n",
    "print(\"Accuracy in easy instances =\", accuracy_score(y_pred_log[easy[0:100]], y_val[easy[0:100]]))\n",
    "\n",
    "difficult = np.argsort(-y_predB[:,2])\n",
    "print(\"Accuracy in difficult instances =\", accuracy_score(y_pred_log[difficult[0:100]], y_val[difficult[0:100]]))"
   ]
  },
  {
   "cell_type": "markdown",
   "metadata": {},
   "source": [
    "**Comments** <br>\n",
    "The accuracy of easy instance is much higher than the difficult instances."
   ]
  },
  {
   "cell_type": "code",
   "execution_count": 43,
   "metadata": {},
   "outputs": [
    {
     "data": {
      "image/png": "[encoded data removed]",
      "text/plain": [
       "<Figure size 1080x432 with 10 Axes>"
      ]
     },
     "metadata": {
      "needs_background": "light"
     },
     "output_type": "display_data"
    }
   ],
   "source": [
    "# show 10 random 'easy' images\n",
    "fig, axs = plt.subplots(2,5, figsize=(15, 6))\n",
    "fig.subplots_adjust(hspace = .2, wspace=.001)\n",
    "axs = axs.ravel()\n",
    "\n",
    "for i in range(10):\n",
    "    index = easy[i]\n",
    "    image = X_val[index,:].reshape(28,28)\n",
    "    axs[i].axis('off')\n",
    "    axs[i].imshow(image,cmap=\"Greys_r\")\n",
    "    axs[i].set_title(int(y_val[index]))\n",
    "    "
   ]
  },
  {
   "cell_type": "code",
   "execution_count": 44,
   "metadata": {},
   "outputs": [
    {
     "data": {
      "image/png": "[encoded data removed]",
      "text/plain": [
       "<Figure size 1080x432 with 10 Axes>"
      ]
     },
     "metadata": {
      "needs_background": "light"
     },
     "output_type": "display_data"
    }
   ],
   "source": [
    "# show 10 random 'difficult' images\n",
    "fig, axs = plt.subplots(2,5, figsize=(15, 6))\n",
    "fig.subplots_adjust(hspace = .2, wspace=.001)\n",
    "axs = axs.ravel()\n",
    "for i in range(10):\n",
    "    index = difficult[i]\n",
    "    image = X_val[index,:].reshape(28,28)\n",
    "    axs[i].axis('off')\n",
    "    axs[i].imshow(image,cmap=\"Greys_r\")\n",
    "    axs[i].set_title(int(y_val[index]))\n",
    "    \n",
    "    "
   ]
  },
  {
   "cell_type": "markdown",
   "metadata": {},
   "source": [
    "## 6 Remove the difficult Instances"
   ]
  },
  {
   "cell_type": "markdown",
   "metadata": {},
   "source": [
    "### 6.1 Plot the mean probability for each digits sorted by the diffculty."
   ]
  },
  {
   "cell_type": "code",
   "execution_count": 45,
   "metadata": {},
   "outputs": [
    {
     "data": {
      "image/png": "[encoded data removed]",
      "text/plain": [
       "<Figure size 432x288 with 1 Axes>"
      ]
     },
     "metadata": {
      "needs_background": "light"
     },
     "output_type": "display_data"
    }
   ],
   "source": [
    "y_predB_sorted_by_difficulty = np.sort(y_predB[:,1])\n",
    "\n",
    "plt.plot(y_predB_sorted_by_difficulty)\n",
    "plt.title('Mean probability ordered by difficulty')\n",
    "plt.xlabel('Digits')\n",
    "plt.ylabel('Accuracy')\n",
    "plt.show()"
   ]
  },
  {
   "cell_type": "markdown",
   "metadata": {},
   "source": [
    "### 6.2 Remove the most difficult images from the General Receipe ML"
   ]
  },
  {
   "cell_type": "code",
   "execution_count": 46,
   "metadata": {},
   "outputs": [
    {
     "name": "stdout",
     "output_type": "stream",
     "text": [
      "The initial accuracy of General Receipe ML without samples removed: 0.961667\n",
      "Accuracy of General Receipe ML after removed 100 difficult samples: 0.976000\n",
      "Accuracy of General Receipe ML after removed 200 difficult samples: 0.980000\n",
      "Accuracy of General Receipe ML after removed 300 difficult samples: 0.990000\n",
      "Accuracy of General Receipe ML after removed 400 difficult samples: 0.990000\n"
     ]
    }
   ],
   "source": [
    "# The initial accuracy score of General Receipe ML  without samples removed\n",
    "print('The initial accuracy of General Receipe ML without samples removed: %f' % (original_accuracy))\n",
    "\n",
    "# Remov 100 difficult samples\n",
    "difficult = np.argsort(-y_predB[:,2])\n",
    "new_X_val = np.delete(X_val, difficult[0:100], axis=0)\n",
    "new_Y_val = np.delete(y_val, difficult[0:100], axis=0)\n",
    "new_Y_pred = model_log.predict(new_X_val)\n",
    "new_accuracy = accuracy_score(new_Y_pred, new_Y_val)\n",
    "print('Accuracy of General Receipe ML after removed %s difficult samples: %f' % (X_val.shape[0] - new_X_val.shape[0], new_accuracy))\n",
    "\n",
    "# Remov 200 difficult samples\n",
    "new_X_val = np.delete(X_val, difficult[0:200], axis=0)\n",
    "new_Y_val = np.delete(y_val, difficult[0:200], axis=0)\n",
    "new_Y_pred = model_log.predict(new_X_val)\n",
    "new_accuracy = accuracy_score(new_Y_pred, new_Y_val)\n",
    "\n",
    "print('Accuracy of General Receipe ML after removed %s difficult samples: %f' % (X_val.shape[0] - new_X_val.shape[0], new_accuracy))\n",
    "\n",
    "# Remov 300 difficult samples\n",
    "new_X_val = np.delete(X_val, difficult[0:300], axis=0)\n",
    "new_Y_val = np.delete(y_val, difficult[0:300], axis=0)\n",
    "new_Y_pred = model_log.predict(new_X_val)\n",
    "new_accuracy = accuracy_score(new_Y_pred, new_Y_val)\n",
    "\n",
    "print('Accuracy of General Receipe ML after removed %s difficult samples: %f' % (X_val.shape[0] - new_X_val.shape[0], new_accuracy))\n",
    "\n",
    "# Remov 400 difficult samples\n",
    "new_X_val = np.delete(X_val, difficult[0:400], axis=0)\n",
    "new_Y_val = np.delete(y_val, difficult[0:400], axis=0)\n",
    "new_Y_pred = model_log.predict(new_X_val)\n",
    "new_accuracy = accuracy_score(new_Y_pred, new_Y_val)\n",
    "\n",
    "print('Accuracy of General Receipe ML after removed %s difficult samples: %f' % (X_val.shape[0] - new_X_val.shape[0], new_accuracy))"
   ]
  },
  {
   "cell_type": "markdown",
   "metadata": {},
   "source": [
    "We can see the accuracy was continuouly improved after removed more difficult instances."
   ]
  },
  {
   "cell_type": "markdown",
   "metadata": {
    "id": "NcshsLOGRPrk"
   },
   "source": [
    "## 7 Summary"
   ]
  },
  {
   "attachments": {},
   "cell_type": "markdown",
   "metadata": {
    "id": "XTc4pYKGRR60"
   },
   "source": [
    "**Code Location** <br>\n",
    "Here is my code in Github for Etivity 1:\n",
    "https://github.com/zhares999/ET5003_SEM1_2021-2/blob/week0_XiaomingZhang/Week-1/Etivity_1_XiaomingZhang_20158327.ipynb\n",
    "\n",
    "**Test Data** <br>\n",
    "The Mnist test data was downloaded from the shared folder:\n",
    "\n",
    "https://ulcampus-my.sharepoint.com/personal/enrique_naredo_ul_ie/_layouts/15/onedrive.aspx?id=%2Fpersonal%2Fenrique%5Fnaredo%5Ful%5Fie%2FDocuments%2FAI%5FMSc%2FCurrentModules%2FShared%2FET5003%20SEM1%202021%2D2%2FMaterial%2FWeek%2D1&originalPath=aHR0cHM6Ly91bGNhbXB1cy1teS5zaGFyZXBvaW50LmNvbS86ZjovZy9wZXJzb25hbC9lbnJpcXVlX25hcmVkb191bF9pZS9FdnhGWTdnZDRMZERuN2xGd21RYnZnNEJNZkhsc3k1Vktaa3ZGcXByYUM3MjhBP3J0aW1lPXZGWklkbGg1MlVn\n",
    "\n",
    "**Environment** <br>\n",
    "It’s my first time to use Colab. It’s easy to use and convenient to share. I’m glad to do the development on the cloud directly. It’s a nice experience. But meanwhile I also run it from my local Anaconda Jupyter notebook and Pycharm. Pytharm is easy do the debug, it’s a necessary tool for me when try to do some quick test and validation.\n",
    "\n",
    "I followed the steps of traffic lights example notebook to complete the handwritten digits for this Etivity. \n",
    "\n",
    "**Data Preparation** <br>\n",
    "Firstly, I loaded the Mnist data and check the data set. It includes 60000 training data set and 10000 testing data set. And each image is 28 * 28 pixels. Based on the bar chart, I can see the training data is evenly distributed. Most of the numbers are around 6000 times. It’s very good for the prediction, no imbalanced dataset.\n",
    "\n",
    "I randomly select 3 of the 10 digit classes. And the number of each instances is 1000. In order to have an initial idea of the data, I print the original data through pyplot.imshow. I created a function random_lanbels to randomly generate the given count (default 5) labels for each digital number.\n",
    "\n",
    "I split the testing data set into 2 data sets through sklearn function train_test_split. 80% as training data set, and 20% as validation data set.\n",
    "\n",
    "**General-Recipe ML** <br>\n",
    "I use multinomial Logistic Regression to do the training. The accuracy is around .96. It’s pretty good.\n",
    "\n",
    "**Encoding the Class labels** <br>\n",
    "Encoding the Class labels for the Probabilistic ML Model:\n",
    "I use sklearn.preprocessing.LabelBinarizer to do the class label encoding. Binarize labels in a one-vs-all fashion. During the learning phase, it consists in learning one regressor or binary classifier per class. It converts multi-class labels to binary labels. During the prediction phase, it assigns the class for which the corresponding model gave the greatest confidence. It easily [1, 0, 0] as the first digit, [0, 1, 0] as the second digit and [0, 0, 1] as the third digit.\n",
    "\n",
    "**Probabilistic Multinomial Logistic Regression** <br>\n",
    "I used Probabilistic Multinomial Logistic Regression with PyMC3 to do the training. \n",
    "For the PyMC3 model, it created stochastic random variables with Normal prior distributions for the regression coefficients with a mean of 0 and standard deviation of 100, The softmax function was used to normalize a vector into a probability distribution over the predicted output classes. In this case, softmax returns three probabilities for each digit 3, 7 or 8. The PyMC3 model run 3000 iterations, and the loss was decreasing gradually from around 40,000 to 10,000. \n",
    "\n",
    "It used Bayesian to predict the class that has the highest posterior probability.\n",
    "The posterior probability is the probability of event A occurring given that event B has occurred. The Bayesian model achieves accuracy (.91) that is lower than the multinomial logistic regression (.96).  I also tried to change the method from Automatic Differentiation Variational Inference (advi) to Stein Variational Gradient Descent (svgd), and the accuracy was improved from .91 to .93 (But svgd would take even longer time). But it still not better than multinomial logistic regression (.96). Even for this use case it’s not better than multinomial logistic regression, but it’s suitable to use uncertainty estimation to detect the difficult instances in the data set. It provides a solution to identify the difficulty samples and remove then out of the dataset.\n",
    "\n",
    "**Remove the difficult Instances** <br>\n",
    "After removed the most difficult samples from the dataset, the acuracy continuously improved.\n",
    "\n",
    "**Conclusions** <br>\n",
    "1.\tMultinomial logistic regression: <br>\n",
    "Accuracy is: .96. <br>\n",
    "It’s a simple solution with very good accuracy. It’s suitable to train a model to classify a multinomial dataset.\n",
    "2.\tProbabilistic Multinomial Logistic Regression: <br>\n",
    "Accuracy is: .91. <br>\n",
    "Accuracy in easy instances = 0.99 <br>\n",
    "Accuracy in difficult instances = 0.89 <br>\n",
    "It provides a solution to identify the difficulty samples and remove then out of the dataset. It’s suitable to use uncertainty estimation to detect the difficult instances in the data set.\n",
    "\n",
    "**Others** <br>\n",
    "I also learnt a lot interesting Numpy tricks:\n",
    "1.\treshape() allow us to give one of new shape parameter as -1. It means it is an unknown dimension and we want numpy to figure it out. And numpy will figure this by looking at the 'length of the array and remaining dimensions' and making sure it satisfies the above mentioned criteria. \n",
    "2.\tnp.hstack and np.vstack are very useful when Stack arrays in sequence horizontally/ vertically\n",
    "\n",
    "**Acknowledgement** <br>\n",
    "Thanks Mark Cahill for facilitating the teams 3 group discussion. It’s very helpful to have the communication and improved the understanding of the task. James Gibbons’s solution is very helpful to use the same notebook to run in both local Jupyther notebook and Colab. Darren White provided a great guide of the task and helped to complete the draft version. \n",
    "\n",
    "**Reference** <br>\n",
    "\n",
    "John S., Thomas V.W. , Christopher F. (2020) Getting started with PyMC3 [Online] Available at: \n",
    "https://docs.pymc.io/notebooks/getting_started.html[Accessed 15 September 2021].\n",
    "\n",
    "Nadheesh J. (2018) Comparing Bayesian and Classical Learning Techniques for Solving Regression and Classification Problems. [Online] Available at: \n",
    "https://wso2.com/blog/research/comparing-bayesian-and-classical-learning-techniques/ \n",
    "[Accessed 15 September 2021]\n",
    "\n",
    "Czepiel, S. A., n.d. Maximum Likelihood Estimation of Logistic Regression Models: Theory and Implementation. [Online] Available at: \n",
    "https://czep.net/stat/mlelr.pdf \n",
    "[Accessed 15 September 2021].\n",
    "\n",
    "Monroe, W., 2017. Stanford.edu. [Online] \n",
    "Available at: https://web.stanford.edu/class/archive/cs/cs109/cs109.1178/lectureHandouts/220-logistic-regression.pdf\n",
    "[Accessed 12 September 2021]."
   ]
  },
  {
   "cell_type": "markdown",
   "metadata": {},
   "source": [
    "End"
   ]
  }
 ],
 "metadata": {
  "colab": {
   "name": "Etivity_1_template.ipynb",
   "provenance": []
  },
  "kernelspec": {
   "display_name": "Python 3",
   "language": "python",
   "name": "python3"
  },
  "language_info": {
   "codemirror_mode": {
    "name": "ipython",
    "version": 3
   },
   "file_extension": ".py",
   "mimetype": "text/x-python",
   "name": "python",
   "nbconvert_exporter": "python",
   "pygments_lexer": "ipython3",
   "version": "3.7.4"
  }
 },
 "nbformat": 4,
 "nbformat_minor": 1
}
