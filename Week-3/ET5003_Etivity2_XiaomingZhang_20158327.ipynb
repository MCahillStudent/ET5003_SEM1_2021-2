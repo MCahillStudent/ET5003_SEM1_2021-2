{
 "cells": [
  {
   "cell_type": "markdown",
   "metadata": {
    "id": "930vlW5BrOtq"
   },
   "source": [
    "<div>\n",
    "<img src=\"https://drive.google.com/uc?export=view&id=1vK33e_EqaHgBHcbRV_m38hx6IkG0blK_\" width=\"350\"/>\n",
    "</div> \n",
    "\n",
    "#**Artificial Intelligence - MSc**\n",
    "##ET5003 - MACHINE LEARNING APPLICATIONS \n",
    "\n",
    "###Instructor: Enrique Naredo\n",
    "###ET5003_Etivity-2"
   ]
  },
  {
   "cell_type": "code",
   "execution_count": 1,
   "metadata": {
    "cellView": "form",
    "id": "LqXD_IwUQuBF"
   },
   "outputs": [],
   "source": [
    "#@title Current Date\n",
    "Today = '2021-09-20' #@param {type:\"date\"}\n"
   ]
  },
  {
   "cell_type": "code",
   "execution_count": 2,
   "metadata": {
    "cellView": "form",
    "id": "uzDKau31OjVO"
   },
   "outputs": [],
   "source": [
    "#@markdown ---\n",
    "#@markdown ### Enter your details here:\n",
    "Student_ID = \"20158327\" #@param {type:\"string\"}\n",
    "Student_full_name = \"Xiaoming Zhang\" #@param {type:\"string\"}\n",
    "#@markdown ---"
   ]
  },
  {
   "cell_type": "code",
   "execution_count": 3,
   "metadata": {
    "cellView": "form",
    "id": "r39xGZckTpKx"
   },
   "outputs": [],
   "source": [
    "#@title Notebook information\n",
    "Notebook_type = 'Etivity' #@param [\"Example\", \"Lab\", \"Practice\", \"Etivity\", \"Assignment\", \"Exam\"]\n",
    "Version = 'Draft' #@param [\"Draft\", \"Final\"] {type:\"raw\"}\n",
    "Submission = False #@param {type:\"boolean\"}"
   ]
  },
  {
   "cell_type": "markdown",
   "metadata": {
    "id": "_A0Z6S-r6DpA"
   },
   "source": [
    "# INTRODUCTION"
   ]
  },
  {
   "cell_type": "markdown",
   "metadata": {
    "id": "QkRchZtf6IV-"
   },
   "source": [
    "**Piecewise regression**, extract from [Wikipedia](https://en.wikipedia.org/wiki/Segmented_regression):\n",
    "\n",
    "Segmented regression, also known as piecewise regression or broken-stick regression, is a method in regression analysis in which the independent variable is partitioned into intervals and a separate line segment is fit to each interval. \n",
    "\n",
    "* Segmented regression analysis can also be performed on \n",
    "multivariate data by partitioning the various independent variables. \n",
    "* Segmented regression is useful when the independent variables, clustered into different groups, exhibit different relationships between the variables in these regions. \n",
    "\n",
    "* The boundaries between the segments are breakpoints.\n",
    "\n",
    "* Segmented linear regression is segmented regression whereby the relations in the intervals are obtained by linear regression. "
   ]
  },
  {
   "cell_type": "markdown",
   "metadata": {
    "id": "aajlS0WCJ8pm"
   },
   "source": [
    "***The goal is to use advanced Machine Learning methods to predict House price.***"
   ]
  },
  {
   "cell_type": "markdown",
   "metadata": {
    "id": "Wg7VCbX77eAA"
   },
   "source": [
    "## Imports"
   ]
  },
  {
   "cell_type": "code",
   "execution_count": 4,
   "metadata": {
    "id": "iFFLThrpwibd"
   },
   "outputs": [],
   "source": [
    "# Suppressing Warnings:\n",
    "import warnings\n",
    "warnings.filterwarnings(\"ignore\")"
   ]
  },
  {
   "cell_type": "code",
   "execution_count": 5,
   "metadata": {
    "id": "d1770_fNrCWn"
   },
   "outputs": [],
   "source": [
    "import pandas as pd\n",
    "import matplotlib.pyplot as plt\n",
    "import numpy as np\n",
    "import pymc3 as pm\n",
    "import arviz as az\n",
    "from sklearn.preprocessing import StandardScaler"
   ]
  },
  {
   "cell_type": "code",
   "execution_count": 6,
   "metadata": {
    "id": "sYPJU_Y6O6Dq"
   },
   "outputs": [],
   "source": [
    "# to plot\n",
    "import matplotlib.colors\n",
    "from mpl_toolkits.mplot3d import Axes3D\n",
    "\n",
    "# to generate classification, regression and clustering datasets\n",
    "import sklearn.datasets as dt\n",
    "\n",
    "# to create data frames\n",
    "from pandas import DataFrame\n",
    "\n",
    "# to generate data from an existing dataset\n",
    "from sklearn.neighbors import KernelDensity\n",
    "from sklearn.model_selection import GridSearchCV"
   ]
  },
  {
   "cell_type": "code",
   "execution_count": 7,
   "metadata": {
    "id": "6MUJdlxSPSMM"
   },
   "outputs": [],
   "source": [
    "# Define the seed so that results can be reproduced\n",
    "seed = 11\n",
    "rand_state = 11\n",
    "\n",
    "# Define the color maps for plots\n",
    "color_map = plt.cm.get_cmap('RdYlBu')\n",
    "color_map_discrete = matplotlib.colors.LinearSegmentedColormap.from_list(\"\", [\"red\",\"cyan\",\"magenta\",\"blue\"])"
   ]
  },
  {
   "cell_type": "markdown",
   "metadata": {
    "id": "WL91ShB19RPw"
   },
   "source": [
    "# DATASET"
   ]
  },
  {
   "cell_type": "markdown",
   "metadata": {
    "id": "ESg5DGKWJSOf"
   },
   "source": [
    "Extract from this [paper](https://ieeexplore.ieee.org/document/9300074):\n",
    "\n",
    "* House prices are a significant impression of the economy, and its value ranges are of great concerns for the clients and property dealers. \n",
    "\n",
    "* Housing price escalate every year that eventually reinforced the need of strategy or technique that could predict house prices in future. \n",
    "\n",
    "* There are certain factors that influence house prices including physical conditions, locations, number of bedrooms and others.\n"
   ]
  },
  {
   "cell_type": "markdown",
   "metadata": {
    "id": "a8Y2pf50FlYL"
   },
   "source": [
    "1. [Download the dataset](https://github.com/UL-ET5003/ET5003_SEM1_2021-2/tree/main/Week-3). \n",
    "\n",
    "2. Upload the dataset into your folder.\n",
    "\n"
   ]
  },
  {
   "cell_type": "markdown",
   "metadata": {
    "id": "FMkdCQEmKTof"
   },
   "source": [
    "The challenge is to predict the final price of each house."
   ]
  },
  {
   "cell_type": "markdown",
   "metadata": {
    "id": "2PMoPLlUJ1Ly"
   },
   "source": [
    "## Training & Test Data"
   ]
  },
  {
   "cell_type": "code",
   "execution_count": 8,
   "metadata": {},
   "outputs": [],
   "source": [
    "housePath = ''\n",
    "is_COLAB = 'google.colab' in str(get_ipython())\n",
    "if is_COLAB:\n",
    "    from google.colab import drive\n",
    "    drive.mount('/content/drive')\n",
    "    housePath = '/content/drive/MyDrive/Colab Notebooks/Data/house/'\n",
    "else:\n",
    "    housePath = ''"
   ]
  },
  {
   "cell_type": "code",
   "execution_count": 9,
   "metadata": {},
   "outputs": [],
   "source": [
    "# file names\n",
    "train_file_name = 'house_train.csv'\n",
    "test_file_name = 'house_test.csv'\n",
    "true_price_file_name = 'true_price.csv'\n",
    "\n",
    "# training dataset: \n",
    "training_file = housePath + train_file_name\n",
    "\n",
    "# test dataset: \n",
    "testing_file = housePath + test_file_name\n",
    "\n",
    "# true price dataset: \n",
    "cost_file = housePath + true_price_file_name"
   ]
  },
  {
   "cell_type": "markdown",
   "metadata": {},
   "source": [
    "### Train Data Set"
   ]
  },
  {
   "cell_type": "code",
   "execution_count": 10,
   "metadata": {},
   "outputs": [
    {
     "data": {
      "text/html": [
       "<div>\n",
       "<style scoped>\n",
       "    .dataframe tbody tr th:only-of-type {\n",
       "        vertical-align: middle;\n",
       "    }\n",
       "\n",
       "    .dataframe tbody tr th {\n",
       "        vertical-align: top;\n",
       "    }\n",
       "\n",
       "    .dataframe thead th {\n",
       "        text-align: right;\n",
       "    }\n",
       "</style>\n",
       "<table border=\"1\" class=\"dataframe\">\n",
       "  <thead>\n",
       "    <tr style=\"text-align: right;\">\n",
       "      <th></th>\n",
       "      <th>ad_id</th>\n",
       "      <th>area</th>\n",
       "      <th>bathrooms</th>\n",
       "      <th>beds</th>\n",
       "      <th>ber_classification</th>\n",
       "      <th>county</th>\n",
       "      <th>description_block</th>\n",
       "      <th>environment</th>\n",
       "      <th>facility</th>\n",
       "      <th>features</th>\n",
       "      <th>latitude</th>\n",
       "      <th>longitude</th>\n",
       "      <th>no_of_units</th>\n",
       "      <th>property_category</th>\n",
       "      <th>property_type</th>\n",
       "      <th>surface</th>\n",
       "      <th>price</th>\n",
       "    </tr>\n",
       "  </thead>\n",
       "  <tbody>\n",
       "    <tr>\n",
       "      <td>0</td>\n",
       "      <td>996887</td>\n",
       "      <td>Portmarnock</td>\n",
       "      <td>NaN</td>\n",
       "      <td>NaN</td>\n",
       "      <td>NaN</td>\n",
       "      <td>Dublin</td>\n",
       "      <td>A SELECTION OF 4 AND 5 BEDROOM FAMILY HOMES LO...</td>\n",
       "      <td>prod</td>\n",
       "      <td>NaN</td>\n",
       "      <td>None</td>\n",
       "      <td>53.418216</td>\n",
       "      <td>-6.149329</td>\n",
       "      <td>18.0</td>\n",
       "      <td>new_development_parent</td>\n",
       "      <td>NaN</td>\n",
       "      <td>NaN</td>\n",
       "      <td>NaN</td>\n",
       "    </tr>\n",
       "    <tr>\n",
       "      <td>1</td>\n",
       "      <td>999327</td>\n",
       "      <td>Lucan</td>\n",
       "      <td>NaN</td>\n",
       "      <td>NaN</td>\n",
       "      <td>NaN</td>\n",
       "      <td>Dublin</td>\n",
       "      <td>**Last 2 remaining houses for sale ***\\n\\nOn v...</td>\n",
       "      <td>prod</td>\n",
       "      <td>NaN</td>\n",
       "      <td>None</td>\n",
       "      <td>53.364917</td>\n",
       "      <td>-6.454935</td>\n",
       "      <td>3.0</td>\n",
       "      <td>new_development_parent</td>\n",
       "      <td>NaN</td>\n",
       "      <td>NaN</td>\n",
       "      <td>NaN</td>\n",
       "    </tr>\n",
       "    <tr>\n",
       "      <td>2</td>\n",
       "      <td>999559</td>\n",
       "      <td>Rathfarnham</td>\n",
       "      <td>NaN</td>\n",
       "      <td>NaN</td>\n",
       "      <td>NaN</td>\n",
       "      <td>Dublin</td>\n",
       "      <td>Final 4 &amp;amp; 5 Bedroom Homes for Sale\\n\\nOn V...</td>\n",
       "      <td>prod</td>\n",
       "      <td>NaN</td>\n",
       "      <td>None</td>\n",
       "      <td>53.273447</td>\n",
       "      <td>-6.313821</td>\n",
       "      <td>3.0</td>\n",
       "      <td>new_development_parent</td>\n",
       "      <td>NaN</td>\n",
       "      <td>NaN</td>\n",
       "      <td>NaN</td>\n",
       "    </tr>\n",
       "    <tr>\n",
       "      <td>3</td>\n",
       "      <td>9102986</td>\n",
       "      <td>Balbriggan</td>\n",
       "      <td>NaN</td>\n",
       "      <td>NaN</td>\n",
       "      <td>NaN</td>\n",
       "      <td>Dublin</td>\n",
       "      <td>Glenveagh Taylor Hill, Balbriggan\\n\\r\\n*Ideal ...</td>\n",
       "      <td>prod</td>\n",
       "      <td>NaN</td>\n",
       "      <td>None</td>\n",
       "      <td>53.608167</td>\n",
       "      <td>-6.210914</td>\n",
       "      <td>30.0</td>\n",
       "      <td>new_development_parent</td>\n",
       "      <td>NaN</td>\n",
       "      <td>NaN</td>\n",
       "      <td>NaN</td>\n",
       "    </tr>\n",
       "    <tr>\n",
       "      <td>4</td>\n",
       "      <td>9106028</td>\n",
       "      <td>Foxrock</td>\n",
       "      <td>NaN</td>\n",
       "      <td>NaN</td>\n",
       "      <td>NaN</td>\n",
       "      <td>Dublin</td>\n",
       "      <td>*New phase launching this weekend Sat &amp;amp; Su...</td>\n",
       "      <td>prod</td>\n",
       "      <td>NaN</td>\n",
       "      <td>None</td>\n",
       "      <td>53.262531</td>\n",
       "      <td>-6.181527</td>\n",
       "      <td>8.0</td>\n",
       "      <td>new_development_parent</td>\n",
       "      <td>NaN</td>\n",
       "      <td>NaN</td>\n",
       "      <td>NaN</td>\n",
       "    </tr>\n",
       "  </tbody>\n",
       "</table>\n",
       "</div>"
      ],
      "text/plain": [
       "     ad_id         area  bathrooms  beds ber_classification  county  \\\n",
       "0   996887  Portmarnock        NaN   NaN                NaN  Dublin   \n",
       "1   999327        Lucan        NaN   NaN                NaN  Dublin   \n",
       "2   999559  Rathfarnham        NaN   NaN                NaN  Dublin   \n",
       "3  9102986   Balbriggan        NaN   NaN                NaN  Dublin   \n",
       "4  9106028      Foxrock        NaN   NaN                NaN  Dublin   \n",
       "\n",
       "                                   description_block environment facility  \\\n",
       "0  A SELECTION OF 4 AND 5 BEDROOM FAMILY HOMES LO...        prod      NaN   \n",
       "1  **Last 2 remaining houses for sale ***\\n\\nOn v...        prod      NaN   \n",
       "2  Final 4 &amp; 5 Bedroom Homes for Sale\\n\\nOn V...        prod      NaN   \n",
       "3  Glenveagh Taylor Hill, Balbriggan\\n\\r\\n*Ideal ...        prod      NaN   \n",
       "4  *New phase launching this weekend Sat &amp; Su...        prod      NaN   \n",
       "\n",
       "  features   latitude  longitude  no_of_units       property_category  \\\n",
       "0     None  53.418216  -6.149329         18.0  new_development_parent   \n",
       "1     None  53.364917  -6.454935          3.0  new_development_parent   \n",
       "2     None  53.273447  -6.313821          3.0  new_development_parent   \n",
       "3     None  53.608167  -6.210914         30.0  new_development_parent   \n",
       "4     None  53.262531  -6.181527          8.0  new_development_parent   \n",
       "\n",
       "  property_type  surface  price  \n",
       "0           NaN      NaN    NaN  \n",
       "1           NaN      NaN    NaN  \n",
       "2           NaN      NaN    NaN  \n",
       "3           NaN      NaN    NaN  \n",
       "4           NaN      NaN    NaN  "
      ]
     },
     "execution_count": 10,
     "metadata": {},
     "output_type": "execute_result"
    }
   ],
   "source": [
    "# load train dataset\n",
    "df_train = pd.read_csv(training_file)\n",
    "\n",
    "# list the column to move the column price to the end\n",
    "df_train = df_train[['ad_id', 'area', 'bathrooms', 'beds', 'ber_classification', 'county',\n",
    "       'description_block', 'environment', 'facility', 'features', 'latitude',\n",
    "       'longitude', 'no_of_units', 'property_category',\n",
    "       'property_type', 'surface', 'price']]\n",
    "\n",
    "# show first data frame rows \n",
    "df_train.head()"
   ]
  },
  {
   "cell_type": "code",
   "execution_count": 11,
   "metadata": {},
   "outputs": [
    {
     "data": {
      "text/html": [
       "<div>\n",
       "<style scoped>\n",
       "    .dataframe tbody tr th:only-of-type {\n",
       "        vertical-align: middle;\n",
       "    }\n",
       "\n",
       "    .dataframe tbody tr th {\n",
       "        vertical-align: top;\n",
       "    }\n",
       "\n",
       "    .dataframe thead th {\n",
       "        text-align: right;\n",
       "    }\n",
       "</style>\n",
       "<table border=\"1\" class=\"dataframe\">\n",
       "  <thead>\n",
       "    <tr style=\"text-align: right;\">\n",
       "      <th></th>\n",
       "      <th>ad_id</th>\n",
       "      <th>bathrooms</th>\n",
       "      <th>beds</th>\n",
       "      <th>latitude</th>\n",
       "      <th>longitude</th>\n",
       "      <th>no_of_units</th>\n",
       "      <th>surface</th>\n",
       "      <th>price</th>\n",
       "    </tr>\n",
       "  </thead>\n",
       "  <tbody>\n",
       "    <tr>\n",
       "      <td>count</td>\n",
       "      <td>2.982000e+03</td>\n",
       "      <td>2931.000000</td>\n",
       "      <td>2931.000000</td>\n",
       "      <td>2982.000000</td>\n",
       "      <td>2982.000000</td>\n",
       "      <td>59.000000</td>\n",
       "      <td>2431.000000</td>\n",
       "      <td>2.892000e+03</td>\n",
       "    </tr>\n",
       "    <tr>\n",
       "      <td>mean</td>\n",
       "      <td>1.224065e+07</td>\n",
       "      <td>1.998635</td>\n",
       "      <td>2.979188</td>\n",
       "      <td>53.355991</td>\n",
       "      <td>-6.257175</td>\n",
       "      <td>7.440678</td>\n",
       "      <td>318.851787</td>\n",
       "      <td>5.323536e+05</td>\n",
       "    </tr>\n",
       "    <tr>\n",
       "      <td>std</td>\n",
       "      <td>5.793037e+05</td>\n",
       "      <td>1.291875</td>\n",
       "      <td>1.468408</td>\n",
       "      <td>0.086748</td>\n",
       "      <td>0.141906</td>\n",
       "      <td>8.937081</td>\n",
       "      <td>4389.423136</td>\n",
       "      <td>5.678148e+05</td>\n",
       "    </tr>\n",
       "    <tr>\n",
       "      <td>min</td>\n",
       "      <td>9.968870e+05</td>\n",
       "      <td>0.000000</td>\n",
       "      <td>0.000000</td>\n",
       "      <td>51.458439</td>\n",
       "      <td>-6.521183</td>\n",
       "      <td>0.000000</td>\n",
       "      <td>3.400000</td>\n",
       "      <td>1.999500e+04</td>\n",
       "    </tr>\n",
       "    <tr>\n",
       "      <td>25%</td>\n",
       "      <td>1.226813e+07</td>\n",
       "      <td>1.000000</td>\n",
       "      <td>2.000000</td>\n",
       "      <td>53.298929</td>\n",
       "      <td>-6.314064</td>\n",
       "      <td>2.000000</td>\n",
       "      <td>74.100000</td>\n",
       "      <td>2.800000e+05</td>\n",
       "    </tr>\n",
       "    <tr>\n",
       "      <td>50%</td>\n",
       "      <td>1.237758e+07</td>\n",
       "      <td>2.000000</td>\n",
       "      <td>3.000000</td>\n",
       "      <td>53.345497</td>\n",
       "      <td>-6.252254</td>\n",
       "      <td>3.000000</td>\n",
       "      <td>100.000000</td>\n",
       "      <td>3.800000e+05</td>\n",
       "    </tr>\n",
       "    <tr>\n",
       "      <td>75%</td>\n",
       "      <td>1.240294e+07</td>\n",
       "      <td>3.000000</td>\n",
       "      <td>4.000000</td>\n",
       "      <td>53.388845</td>\n",
       "      <td>-6.196049</td>\n",
       "      <td>8.000000</td>\n",
       "      <td>142.000000</td>\n",
       "      <td>5.750000e+05</td>\n",
       "    </tr>\n",
       "    <tr>\n",
       "      <td>max</td>\n",
       "      <td>1.242836e+07</td>\n",
       "      <td>18.000000</td>\n",
       "      <td>27.000000</td>\n",
       "      <td>53.630588</td>\n",
       "      <td>-1.744995</td>\n",
       "      <td>36.000000</td>\n",
       "      <td>182108.539008</td>\n",
       "      <td>9.995000e+06</td>\n",
       "    </tr>\n",
       "  </tbody>\n",
       "</table>\n",
       "</div>"
      ],
      "text/plain": [
       "              ad_id    bathrooms         beds     latitude    longitude  \\\n",
       "count  2.982000e+03  2931.000000  2931.000000  2982.000000  2982.000000   \n",
       "mean   1.224065e+07     1.998635     2.979188    53.355991    -6.257175   \n",
       "std    5.793037e+05     1.291875     1.468408     0.086748     0.141906   \n",
       "min    9.968870e+05     0.000000     0.000000    51.458439    -6.521183   \n",
       "25%    1.226813e+07     1.000000     2.000000    53.298929    -6.314064   \n",
       "50%    1.237758e+07     2.000000     3.000000    53.345497    -6.252254   \n",
       "75%    1.240294e+07     3.000000     4.000000    53.388845    -6.196049   \n",
       "max    1.242836e+07    18.000000    27.000000    53.630588    -1.744995   \n",
       "\n",
       "       no_of_units        surface         price  \n",
       "count    59.000000    2431.000000  2.892000e+03  \n",
       "mean      7.440678     318.851787  5.323536e+05  \n",
       "std       8.937081    4389.423136  5.678148e+05  \n",
       "min       0.000000       3.400000  1.999500e+04  \n",
       "25%       2.000000      74.100000  2.800000e+05  \n",
       "50%       3.000000     100.000000  3.800000e+05  \n",
       "75%       8.000000     142.000000  5.750000e+05  \n",
       "max      36.000000  182108.539008  9.995000e+06  "
      ]
     },
     "execution_count": 11,
     "metadata": {},
     "output_type": "execute_result"
    }
   ],
   "source": [
    "# Generate descriptive statistics\n",
    "df_train.describe()"
   ]
  },
  {
   "cell_type": "markdown",
   "metadata": {},
   "source": [
    "### Test Data Set"
   ]
  },
  {
   "cell_type": "code",
   "execution_count": 12,
   "metadata": {},
   "outputs": [
    {
     "data": {
      "text/html": [
       "<div>\n",
       "<style scoped>\n",
       "    .dataframe tbody tr th:only-of-type {\n",
       "        vertical-align: middle;\n",
       "    }\n",
       "\n",
       "    .dataframe tbody tr th {\n",
       "        vertical-align: top;\n",
       "    }\n",
       "\n",
       "    .dataframe thead th {\n",
       "        text-align: right;\n",
       "    }\n",
       "</style>\n",
       "<table border=\"1\" class=\"dataframe\">\n",
       "  <thead>\n",
       "    <tr style=\"text-align: right;\">\n",
       "      <th></th>\n",
       "      <th>ad_id</th>\n",
       "      <th>area</th>\n",
       "      <th>bathrooms</th>\n",
       "      <th>beds</th>\n",
       "      <th>ber_classification</th>\n",
       "      <th>county</th>\n",
       "      <th>description_block</th>\n",
       "      <th>environment</th>\n",
       "      <th>facility</th>\n",
       "      <th>features</th>\n",
       "      <th>latitude</th>\n",
       "      <th>longitude</th>\n",
       "      <th>no_of_units</th>\n",
       "      <th>property_category</th>\n",
       "      <th>property_type</th>\n",
       "      <th>surface</th>\n",
       "    </tr>\n",
       "  </thead>\n",
       "  <tbody>\n",
       "    <tr>\n",
       "      <td>0</td>\n",
       "      <td>12373510</td>\n",
       "      <td>Skerries</td>\n",
       "      <td>2.0</td>\n",
       "      <td>4.0</td>\n",
       "      <td>G</td>\n",
       "      <td>Dublin</td>\n",
       "      <td>It's all in the name \"Island View\";. Truly won...</td>\n",
       "      <td>prod</td>\n",
       "      <td>Parking,Alarm,Oil Fired Central Heating</td>\n",
       "      <td>Breath-taking panoramic views radiate from thi...</td>\n",
       "      <td>53.566881</td>\n",
       "      <td>-6.101148</td>\n",
       "      <td>NaN</td>\n",
       "      <td>sale</td>\n",
       "      <td>bungalow</td>\n",
       "      <td>142.0</td>\n",
       "    </tr>\n",
       "    <tr>\n",
       "      <td>1</td>\n",
       "      <td>12422623</td>\n",
       "      <td>Lucan</td>\n",
       "      <td>2.0</td>\n",
       "      <td>3.0</td>\n",
       "      <td>C1</td>\n",
       "      <td>Dublin</td>\n",
       "      <td>REA McDonald - Lucan' s longest established es...</td>\n",
       "      <td>prod</td>\n",
       "      <td>NaN</td>\n",
       "      <td>Gas fired central heating.\\nDouble glazed wind...</td>\n",
       "      <td>53.362992</td>\n",
       "      <td>-6.452909</td>\n",
       "      <td>NaN</td>\n",
       "      <td>sale</td>\n",
       "      <td>terraced</td>\n",
       "      <td>114.0</td>\n",
       "    </tr>\n",
       "    <tr>\n",
       "      <td>2</td>\n",
       "      <td>12377408</td>\n",
       "      <td>Swords</td>\n",
       "      <td>3.0</td>\n",
       "      <td>4.0</td>\n",
       "      <td>B3</td>\n",
       "      <td>Dublin</td>\n",
       "      <td>REA Grimes are proud to present to the market ...</td>\n",
       "      <td>prod</td>\n",
       "      <td>NaN</td>\n",
       "      <td>Pristine condition throughout\\nHighly sought-a...</td>\n",
       "      <td>53.454198</td>\n",
       "      <td>-6.262964</td>\n",
       "      <td>NaN</td>\n",
       "      <td>sale</td>\n",
       "      <td>semi-detached</td>\n",
       "      <td>172.0</td>\n",
       "    </tr>\n",
       "    <tr>\n",
       "      <td>3</td>\n",
       "      <td>12420093</td>\n",
       "      <td>Lucan</td>\n",
       "      <td>4.0</td>\n",
       "      <td>3.0</td>\n",
       "      <td>A3</td>\n",
       "      <td>Dublin</td>\n",
       "      <td>REA McDonald, Lucan' s longest established est...</td>\n",
       "      <td>prod</td>\n",
       "      <td>NaN</td>\n",
       "      <td>A-rated home within a short walk of Lucan Vill...</td>\n",
       "      <td>53.354402</td>\n",
       "      <td>-6.458647</td>\n",
       "      <td>NaN</td>\n",
       "      <td>sale</td>\n",
       "      <td>semi-detached</td>\n",
       "      <td>132.4</td>\n",
       "    </tr>\n",
       "    <tr>\n",
       "      <td>4</td>\n",
       "      <td>12417338</td>\n",
       "      <td>Clondalkin</td>\n",
       "      <td>1.0</td>\n",
       "      <td>3.0</td>\n",
       "      <td>E2</td>\n",
       "      <td>Dublin</td>\n",
       "      <td>Hibernian Auctioneers are delighted to bring, ...</td>\n",
       "      <td>prod</td>\n",
       "      <td>Parking,Gas Fired Central Heating,Wired for Ca...</td>\n",
       "      <td>Mature Location \\nGas Heating \\nClose to Ameni...</td>\n",
       "      <td>53.336530</td>\n",
       "      <td>-6.393587</td>\n",
       "      <td>NaN</td>\n",
       "      <td>sale</td>\n",
       "      <td>semi-detached</td>\n",
       "      <td>88.0</td>\n",
       "    </tr>\n",
       "  </tbody>\n",
       "</table>\n",
       "</div>"
      ],
      "text/plain": [
       "      ad_id        area  bathrooms  beds ber_classification  county  \\\n",
       "0  12373510    Skerries        2.0   4.0                  G  Dublin   \n",
       "1  12422623       Lucan        2.0   3.0                 C1  Dublin   \n",
       "2  12377408      Swords        3.0   4.0                 B3  Dublin   \n",
       "3  12420093       Lucan        4.0   3.0                 A3  Dublin   \n",
       "4  12417338  Clondalkin        1.0   3.0                 E2  Dublin   \n",
       "\n",
       "                                   description_block environment  \\\n",
       "0  It's all in the name \"Island View\";. Truly won...        prod   \n",
       "1  REA McDonald - Lucan' s longest established es...        prod   \n",
       "2  REA Grimes are proud to present to the market ...        prod   \n",
       "3  REA McDonald, Lucan' s longest established est...        prod   \n",
       "4  Hibernian Auctioneers are delighted to bring, ...        prod   \n",
       "\n",
       "                                            facility  \\\n",
       "0            Parking,Alarm,Oil Fired Central Heating   \n",
       "1                                                NaN   \n",
       "2                                                NaN   \n",
       "3                                                NaN   \n",
       "4  Parking,Gas Fired Central Heating,Wired for Ca...   \n",
       "\n",
       "                                            features   latitude  longitude  \\\n",
       "0  Breath-taking panoramic views radiate from thi...  53.566881  -6.101148   \n",
       "1  Gas fired central heating.\\nDouble glazed wind...  53.362992  -6.452909   \n",
       "2  Pristine condition throughout\\nHighly sought-a...  53.454198  -6.262964   \n",
       "3  A-rated home within a short walk of Lucan Vill...  53.354402  -6.458647   \n",
       "4  Mature Location \\nGas Heating \\nClose to Ameni...  53.336530  -6.393587   \n",
       "\n",
       "   no_of_units property_category  property_type  surface  \n",
       "0          NaN              sale       bungalow    142.0  \n",
       "1          NaN              sale       terraced    114.0  \n",
       "2          NaN              sale  semi-detached    172.0  \n",
       "3          NaN              sale  semi-detached    132.4  \n",
       "4          NaN              sale  semi-detached     88.0  "
      ]
     },
     "execution_count": 12,
     "metadata": {},
     "output_type": "execute_result"
    }
   ],
   "source": [
    "# load test dataset\n",
    "df_test = pd.read_csv(testing_file)\n",
    "\n",
    "# show first data frame rows\n",
    "df_test.head()"
   ]
  },
  {
   "cell_type": "code",
   "execution_count": 13,
   "metadata": {},
   "outputs": [
    {
     "data": {
      "text/html": [
       "<div>\n",
       "<style scoped>\n",
       "    .dataframe tbody tr th:only-of-type {\n",
       "        vertical-align: middle;\n",
       "    }\n",
       "\n",
       "    .dataframe tbody tr th {\n",
       "        vertical-align: top;\n",
       "    }\n",
       "\n",
       "    .dataframe thead th {\n",
       "        text-align: right;\n",
       "    }\n",
       "</style>\n",
       "<table border=\"1\" class=\"dataframe\">\n",
       "  <thead>\n",
       "    <tr style=\"text-align: right;\">\n",
       "      <th></th>\n",
       "      <th>ad_id</th>\n",
       "      <th>bathrooms</th>\n",
       "      <th>beds</th>\n",
       "      <th>latitude</th>\n",
       "      <th>longitude</th>\n",
       "      <th>no_of_units</th>\n",
       "      <th>surface</th>\n",
       "    </tr>\n",
       "  </thead>\n",
       "  <tbody>\n",
       "    <tr>\n",
       "      <td>count</td>\n",
       "      <td>5.000000e+02</td>\n",
       "      <td>500.000000</td>\n",
       "      <td>500.000000</td>\n",
       "      <td>500.000000</td>\n",
       "      <td>500.000000</td>\n",
       "      <td>0.0</td>\n",
       "      <td>500.000000</td>\n",
       "    </tr>\n",
       "    <tr>\n",
       "      <td>mean</td>\n",
       "      <td>1.231695e+07</td>\n",
       "      <td>1.994000</td>\n",
       "      <td>2.930000</td>\n",
       "      <td>53.356034</td>\n",
       "      <td>-6.247842</td>\n",
       "      <td>NaN</td>\n",
       "      <td>156.007671</td>\n",
       "    </tr>\n",
       "    <tr>\n",
       "      <td>std</td>\n",
       "      <td>1.485832e+05</td>\n",
       "      <td>1.106532</td>\n",
       "      <td>1.191612</td>\n",
       "      <td>0.081905</td>\n",
       "      <td>0.088552</td>\n",
       "      <td>NaN</td>\n",
       "      <td>344.497362</td>\n",
       "    </tr>\n",
       "    <tr>\n",
       "      <td>min</td>\n",
       "      <td>1.130615e+07</td>\n",
       "      <td>0.000000</td>\n",
       "      <td>0.000000</td>\n",
       "      <td>53.221348</td>\n",
       "      <td>-6.496987</td>\n",
       "      <td>NaN</td>\n",
       "      <td>33.500000</td>\n",
       "    </tr>\n",
       "    <tr>\n",
       "      <td>25%</td>\n",
       "      <td>1.228617e+07</td>\n",
       "      <td>1.000000</td>\n",
       "      <td>2.000000</td>\n",
       "      <td>53.297373</td>\n",
       "      <td>-6.296404</td>\n",
       "      <td>NaN</td>\n",
       "      <td>72.375000</td>\n",
       "    </tr>\n",
       "    <tr>\n",
       "      <td>50%</td>\n",
       "      <td>1.237964e+07</td>\n",
       "      <td>2.000000</td>\n",
       "      <td>3.000000</td>\n",
       "      <td>53.339547</td>\n",
       "      <td>-6.243572</td>\n",
       "      <td>NaN</td>\n",
       "      <td>98.000000</td>\n",
       "    </tr>\n",
       "    <tr>\n",
       "      <td>75%</td>\n",
       "      <td>1.240544e+07</td>\n",
       "      <td>3.000000</td>\n",
       "      <td>4.000000</td>\n",
       "      <td>53.381650</td>\n",
       "      <td>-6.185055</td>\n",
       "      <td>NaN</td>\n",
       "      <td>138.935000</td>\n",
       "    </tr>\n",
       "    <tr>\n",
       "      <td>max</td>\n",
       "      <td>1.242809e+07</td>\n",
       "      <td>8.000000</td>\n",
       "      <td>7.000000</td>\n",
       "      <td>53.619775</td>\n",
       "      <td>-6.064874</td>\n",
       "      <td>NaN</td>\n",
       "      <td>5746.536120</td>\n",
       "    </tr>\n",
       "  </tbody>\n",
       "</table>\n",
       "</div>"
      ],
      "text/plain": [
       "              ad_id   bathrooms        beds    latitude   longitude  \\\n",
       "count  5.000000e+02  500.000000  500.000000  500.000000  500.000000   \n",
       "mean   1.231695e+07    1.994000    2.930000   53.356034   -6.247842   \n",
       "std    1.485832e+05    1.106532    1.191612    0.081905    0.088552   \n",
       "min    1.130615e+07    0.000000    0.000000   53.221348   -6.496987   \n",
       "25%    1.228617e+07    1.000000    2.000000   53.297373   -6.296404   \n",
       "50%    1.237964e+07    2.000000    3.000000   53.339547   -6.243572   \n",
       "75%    1.240544e+07    3.000000    4.000000   53.381650   -6.185055   \n",
       "max    1.242809e+07    8.000000    7.000000   53.619775   -6.064874   \n",
       "\n",
       "       no_of_units      surface  \n",
       "count          0.0   500.000000  \n",
       "mean           NaN   156.007671  \n",
       "std            NaN   344.497362  \n",
       "min            NaN    33.500000  \n",
       "25%            NaN    72.375000  \n",
       "50%            NaN    98.000000  \n",
       "75%            NaN   138.935000  \n",
       "max            NaN  5746.536120  "
      ]
     },
     "execution_count": 13,
     "metadata": {},
     "output_type": "execute_result"
    }
   ],
   "source": [
    "# Generate descriptive statistics\n",
    "df_test.describe()"
   ]
  },
  {
   "cell_type": "markdown",
   "metadata": {},
   "source": [
    "### Expected Cost dataset"
   ]
  },
  {
   "cell_type": "code",
   "execution_count": 14,
   "metadata": {},
   "outputs": [
    {
     "data": {
      "text/html": [
       "<div>\n",
       "<style scoped>\n",
       "    .dataframe tbody tr th:only-of-type {\n",
       "        vertical-align: middle;\n",
       "    }\n",
       "\n",
       "    .dataframe tbody tr th {\n",
       "        vertical-align: top;\n",
       "    }\n",
       "\n",
       "    .dataframe thead th {\n",
       "        text-align: right;\n",
       "    }\n",
       "</style>\n",
       "<table border=\"1\" class=\"dataframe\">\n",
       "  <thead>\n",
       "    <tr style=\"text-align: right;\">\n",
       "      <th></th>\n",
       "      <th>Id</th>\n",
       "      <th>Expected</th>\n",
       "    </tr>\n",
       "  </thead>\n",
       "  <tbody>\n",
       "    <tr>\n",
       "      <td>0</td>\n",
       "      <td>12373510</td>\n",
       "      <td>875000.0</td>\n",
       "    </tr>\n",
       "    <tr>\n",
       "      <td>1</td>\n",
       "      <td>12422623</td>\n",
       "      <td>355000.0</td>\n",
       "    </tr>\n",
       "    <tr>\n",
       "      <td>2</td>\n",
       "      <td>12377408</td>\n",
       "      <td>440000.0</td>\n",
       "    </tr>\n",
       "    <tr>\n",
       "      <td>3</td>\n",
       "      <td>12420093</td>\n",
       "      <td>425000.0</td>\n",
       "    </tr>\n",
       "    <tr>\n",
       "      <td>4</td>\n",
       "      <td>12417338</td>\n",
       "      <td>265000.0</td>\n",
       "    </tr>\n",
       "  </tbody>\n",
       "</table>\n",
       "</div>"
      ],
      "text/plain": [
       "         Id  Expected\n",
       "0  12373510  875000.0\n",
       "1  12422623  355000.0\n",
       "2  12377408  440000.0\n",
       "3  12420093  425000.0\n",
       "4  12417338  265000.0"
      ]
     },
     "execution_count": 14,
     "metadata": {},
     "output_type": "execute_result"
    }
   ],
   "source": [
    "# load train dataset\n",
    "df_cost = pd.read_csv(cost_file)\n",
    "\n",
    "# show first data frame rows\n",
    "df_cost.head()"
   ]
  },
  {
   "cell_type": "code",
   "execution_count": 15,
   "metadata": {},
   "outputs": [
    {
     "data": {
      "text/html": [
       "<div>\n",
       "<style scoped>\n",
       "    .dataframe tbody tr th:only-of-type {\n",
       "        vertical-align: middle;\n",
       "    }\n",
       "\n",
       "    .dataframe tbody tr th {\n",
       "        vertical-align: top;\n",
       "    }\n",
       "\n",
       "    .dataframe thead th {\n",
       "        text-align: right;\n",
       "    }\n",
       "</style>\n",
       "<table border=\"1\" class=\"dataframe\">\n",
       "  <thead>\n",
       "    <tr style=\"text-align: right;\">\n",
       "      <th></th>\n",
       "      <th>Id</th>\n",
       "      <th>Expected</th>\n",
       "    </tr>\n",
       "  </thead>\n",
       "  <tbody>\n",
       "    <tr>\n",
       "      <td>count</td>\n",
       "      <td>5.000000e+02</td>\n",
       "      <td>5.000000e+02</td>\n",
       "    </tr>\n",
       "    <tr>\n",
       "      <td>mean</td>\n",
       "      <td>1.231695e+07</td>\n",
       "      <td>5.810356e+05</td>\n",
       "    </tr>\n",
       "    <tr>\n",
       "      <td>std</td>\n",
       "      <td>1.485832e+05</td>\n",
       "      <td>6.009194e+05</td>\n",
       "    </tr>\n",
       "    <tr>\n",
       "      <td>min</td>\n",
       "      <td>1.130615e+07</td>\n",
       "      <td>8.500000e+04</td>\n",
       "    </tr>\n",
       "    <tr>\n",
       "      <td>25%</td>\n",
       "      <td>1.228617e+07</td>\n",
       "      <td>2.950000e+05</td>\n",
       "    </tr>\n",
       "    <tr>\n",
       "      <td>50%</td>\n",
       "      <td>1.237964e+07</td>\n",
       "      <td>4.250000e+05</td>\n",
       "    </tr>\n",
       "    <tr>\n",
       "      <td>75%</td>\n",
       "      <td>1.240544e+07</td>\n",
       "      <td>5.950000e+05</td>\n",
       "    </tr>\n",
       "    <tr>\n",
       "      <td>max</td>\n",
       "      <td>1.242809e+07</td>\n",
       "      <td>5.750000e+06</td>\n",
       "    </tr>\n",
       "  </tbody>\n",
       "</table>\n",
       "</div>"
      ],
      "text/plain": [
       "                 Id      Expected\n",
       "count  5.000000e+02  5.000000e+02\n",
       "mean   1.231695e+07  5.810356e+05\n",
       "std    1.485832e+05  6.009194e+05\n",
       "min    1.130615e+07  8.500000e+04\n",
       "25%    1.228617e+07  2.950000e+05\n",
       "50%    1.237964e+07  4.250000e+05\n",
       "75%    1.240544e+07  5.950000e+05\n",
       "max    1.242809e+07  5.750000e+06"
      ]
     },
     "execution_count": 15,
     "metadata": {},
     "output_type": "execute_result"
    }
   ],
   "source": [
    "# Generate descriptive statistics\n",
    "df_cost.describe()"
   ]
  },
  {
   "cell_type": "code",
   "execution_count": 16,
   "metadata": {},
   "outputs": [
    {
     "data": {
      "text/plain": [
       "(2982, 17)"
      ]
     },
     "execution_count": 16,
     "metadata": {},
     "output_type": "execute_result"
    }
   ],
   "source": [
    "# show data set shape\n",
    "df_train.shape"
   ]
  },
  {
   "cell_type": "code",
   "execution_count": 17,
   "metadata": {},
   "outputs": [
    {
     "data": {
      "text/plain": [
       "(500, 16)"
      ]
     },
     "execution_count": 17,
     "metadata": {},
     "output_type": "execute_result"
    }
   ],
   "source": [
    "# show data set shape\n",
    "df_test.shape"
   ]
  },
  {
   "cell_type": "code",
   "execution_count": 18,
   "metadata": {},
   "outputs": [
    {
     "data": {
      "text/plain": [
       "(500, 2)"
      ]
     },
     "execution_count": 18,
     "metadata": {},
     "output_type": "execute_result"
    }
   ],
   "source": [
    "# show data set shape\n",
    "df_cost.shape"
   ]
  },
  {
   "cell_type": "code",
   "execution_count": 19,
   "metadata": {},
   "outputs": [],
   "source": [
    "# X_train is from train data set except column price\n",
    "X_train = df_train.loc[:, df_train.columns != 'price']\n",
    "\n",
    "# X_test is from test data set\n",
    "X_test = df_test\n",
    "\n",
    "# y_train is form train data set with column price\n",
    "y_train = df_train[['price']]\n",
    "\n",
    "# y_test is from true price with column Expected\n",
    "y_test =  df_cost[['Expected']]"
   ]
  },
  {
   "cell_type": "code",
   "execution_count": 20,
   "metadata": {},
   "outputs": [
    {
     "data": {
      "text/html": [
       "<div>\n",
       "<style scoped>\n",
       "    .dataframe tbody tr th:only-of-type {\n",
       "        vertical-align: middle;\n",
       "    }\n",
       "\n",
       "    .dataframe tbody tr th {\n",
       "        vertical-align: top;\n",
       "    }\n",
       "\n",
       "    .dataframe thead th {\n",
       "        text-align: right;\n",
       "    }\n",
       "</style>\n",
       "<table border=\"1\" class=\"dataframe\">\n",
       "  <thead>\n",
       "    <tr style=\"text-align: right;\">\n",
       "      <th></th>\n",
       "      <th>ad_id</th>\n",
       "      <th>area</th>\n",
       "      <th>bathrooms</th>\n",
       "      <th>beds</th>\n",
       "      <th>ber_classification</th>\n",
       "      <th>county</th>\n",
       "      <th>description_block</th>\n",
       "      <th>environment</th>\n",
       "      <th>facility</th>\n",
       "      <th>features</th>\n",
       "      <th>latitude</th>\n",
       "      <th>longitude</th>\n",
       "      <th>no_of_units</th>\n",
       "      <th>property_category</th>\n",
       "      <th>property_type</th>\n",
       "      <th>surface</th>\n",
       "    </tr>\n",
       "  </thead>\n",
       "  <tbody>\n",
       "    <tr>\n",
       "      <td>0</td>\n",
       "      <td>996887</td>\n",
       "      <td>Portmarnock</td>\n",
       "      <td>NaN</td>\n",
       "      <td>NaN</td>\n",
       "      <td>NaN</td>\n",
       "      <td>Dublin</td>\n",
       "      <td>A SELECTION OF 4 AND 5 BEDROOM FAMILY HOMES LO...</td>\n",
       "      <td>prod</td>\n",
       "      <td>NaN</td>\n",
       "      <td>None</td>\n",
       "      <td>53.418216</td>\n",
       "      <td>-6.149329</td>\n",
       "      <td>18.0</td>\n",
       "      <td>new_development_parent</td>\n",
       "      <td>NaN</td>\n",
       "      <td>NaN</td>\n",
       "    </tr>\n",
       "    <tr>\n",
       "      <td>1</td>\n",
       "      <td>999327</td>\n",
       "      <td>Lucan</td>\n",
       "      <td>NaN</td>\n",
       "      <td>NaN</td>\n",
       "      <td>NaN</td>\n",
       "      <td>Dublin</td>\n",
       "      <td>**Last 2 remaining houses for sale ***\\n\\nOn v...</td>\n",
       "      <td>prod</td>\n",
       "      <td>NaN</td>\n",
       "      <td>None</td>\n",
       "      <td>53.364917</td>\n",
       "      <td>-6.454935</td>\n",
       "      <td>3.0</td>\n",
       "      <td>new_development_parent</td>\n",
       "      <td>NaN</td>\n",
       "      <td>NaN</td>\n",
       "    </tr>\n",
       "    <tr>\n",
       "      <td>2</td>\n",
       "      <td>999559</td>\n",
       "      <td>Rathfarnham</td>\n",
       "      <td>NaN</td>\n",
       "      <td>NaN</td>\n",
       "      <td>NaN</td>\n",
       "      <td>Dublin</td>\n",
       "      <td>Final 4 &amp;amp; 5 Bedroom Homes for Sale\\n\\nOn V...</td>\n",
       "      <td>prod</td>\n",
       "      <td>NaN</td>\n",
       "      <td>None</td>\n",
       "      <td>53.273447</td>\n",
       "      <td>-6.313821</td>\n",
       "      <td>3.0</td>\n",
       "      <td>new_development_parent</td>\n",
       "      <td>NaN</td>\n",
       "      <td>NaN</td>\n",
       "    </tr>\n",
       "    <tr>\n",
       "      <td>3</td>\n",
       "      <td>9102986</td>\n",
       "      <td>Balbriggan</td>\n",
       "      <td>NaN</td>\n",
       "      <td>NaN</td>\n",
       "      <td>NaN</td>\n",
       "      <td>Dublin</td>\n",
       "      <td>Glenveagh Taylor Hill, Balbriggan\\n\\r\\n*Ideal ...</td>\n",
       "      <td>prod</td>\n",
       "      <td>NaN</td>\n",
       "      <td>None</td>\n",
       "      <td>53.608167</td>\n",
       "      <td>-6.210914</td>\n",
       "      <td>30.0</td>\n",
       "      <td>new_development_parent</td>\n",
       "      <td>NaN</td>\n",
       "      <td>NaN</td>\n",
       "    </tr>\n",
       "    <tr>\n",
       "      <td>4</td>\n",
       "      <td>9106028</td>\n",
       "      <td>Foxrock</td>\n",
       "      <td>NaN</td>\n",
       "      <td>NaN</td>\n",
       "      <td>NaN</td>\n",
       "      <td>Dublin</td>\n",
       "      <td>*New phase launching this weekend Sat &amp;amp; Su...</td>\n",
       "      <td>prod</td>\n",
       "      <td>NaN</td>\n",
       "      <td>None</td>\n",
       "      <td>53.262531</td>\n",
       "      <td>-6.181527</td>\n",
       "      <td>8.0</td>\n",
       "      <td>new_development_parent</td>\n",
       "      <td>NaN</td>\n",
       "      <td>NaN</td>\n",
       "    </tr>\n",
       "    <tr>\n",
       "      <td>...</td>\n",
       "      <td>...</td>\n",
       "      <td>...</td>\n",
       "      <td>...</td>\n",
       "      <td>...</td>\n",
       "      <td>...</td>\n",
       "      <td>...</td>\n",
       "      <td>...</td>\n",
       "      <td>...</td>\n",
       "      <td>...</td>\n",
       "      <td>...</td>\n",
       "      <td>...</td>\n",
       "      <td>...</td>\n",
       "      <td>...</td>\n",
       "      <td>...</td>\n",
       "      <td>...</td>\n",
       "      <td>...</td>\n",
       "    </tr>\n",
       "    <tr>\n",
       "      <td>2977</td>\n",
       "      <td>12428232</td>\n",
       "      <td>Ballsbridge</td>\n",
       "      <td>2.0</td>\n",
       "      <td>2.0</td>\n",
       "      <td>C3</td>\n",
       "      <td>Dublin</td>\n",
       "      <td>Sherry FitzGerald are delighted to present Apa...</td>\n",
       "      <td>prod</td>\n",
       "      <td>NaN</td>\n",
       "      <td>Prime Location\\nManagement Co: Core Property M...</td>\n",
       "      <td>53.338738</td>\n",
       "      <td>-6.237199</td>\n",
       "      <td>NaN</td>\n",
       "      <td>sale</td>\n",
       "      <td>apartment</td>\n",
       "      <td>56.0</td>\n",
       "    </tr>\n",
       "    <tr>\n",
       "      <td>2978</td>\n",
       "      <td>12428240</td>\n",
       "      <td>Rialto</td>\n",
       "      <td>1.0</td>\n",
       "      <td>3.0</td>\n",
       "      <td>B2</td>\n",
       "      <td>Dublin</td>\n",
       "      <td>Property Team Patrick Moran is delighted to pr...</td>\n",
       "      <td>prod</td>\n",
       "      <td>NaN</td>\n",
       "      <td>Totally refurbished to the highest standard. \\...</td>\n",
       "      <td>53.335793</td>\n",
       "      <td>-6.294268</td>\n",
       "      <td>NaN</td>\n",
       "      <td>sale</td>\n",
       "      <td>terraced</td>\n",
       "      <td>101.0</td>\n",
       "    </tr>\n",
       "    <tr>\n",
       "      <td>2979</td>\n",
       "      <td>12428247</td>\n",
       "      <td>Smithfield</td>\n",
       "      <td>1.0</td>\n",
       "      <td>2.0</td>\n",
       "      <td>C3</td>\n",
       "      <td>Dublin</td>\n",
       "      <td>Earnest estate agents are delighted to present...</td>\n",
       "      <td>prod</td>\n",
       "      <td>Wired for Cable Television</td>\n",
       "      <td>OVERLOOKING THE RIVER LIFFEY \\n3RD FLOOR APART...</td>\n",
       "      <td>53.346098</td>\n",
       "      <td>-6.276856</td>\n",
       "      <td>NaN</td>\n",
       "      <td>sale</td>\n",
       "      <td>apartment</td>\n",
       "      <td>55.6</td>\n",
       "    </tr>\n",
       "    <tr>\n",
       "      <td>2980</td>\n",
       "      <td>12428254</td>\n",
       "      <td>Foxrock</td>\n",
       "      <td>2.0</td>\n",
       "      <td>3.0</td>\n",
       "      <td>C3</td>\n",
       "      <td>Dublin</td>\n",
       "      <td>Janet Carroll Estate Agents are pleased to pre...</td>\n",
       "      <td>prod</td>\n",
       "      <td>Parking,Gas Fired Central Heating</td>\n",
       "      <td>None</td>\n",
       "      <td>53.273518</td>\n",
       "      <td>-6.178500</td>\n",
       "      <td>NaN</td>\n",
       "      <td>sale</td>\n",
       "      <td>end-of-terrace</td>\n",
       "      <td>97.0</td>\n",
       "    </tr>\n",
       "    <tr>\n",
       "      <td>2981</td>\n",
       "      <td>12428358</td>\n",
       "      <td>Terenure</td>\n",
       "      <td>2.0</td>\n",
       "      <td>3.0</td>\n",
       "      <td>D2</td>\n",
       "      <td>Dublin</td>\n",
       "      <td>ON VIEW SATURDAY 7 TH MARCH 2020 11:30 AM - 12...</td>\n",
       "      <td>prod</td>\n",
       "      <td>NaN</td>\n",
       "      <td>Charming three-bedroom family home\\nMinutes aw...</td>\n",
       "      <td>53.310073</td>\n",
       "      <td>-6.325158</td>\n",
       "      <td>NaN</td>\n",
       "      <td>sale</td>\n",
       "      <td>semi-detached</td>\n",
       "      <td>129.3</td>\n",
       "    </tr>\n",
       "  </tbody>\n",
       "</table>\n",
       "<p>2982 rows × 16 columns</p>\n",
       "</div>"
      ],
      "text/plain": [
       "         ad_id         area  bathrooms  beds ber_classification  county  \\\n",
       "0       996887  Portmarnock        NaN   NaN                NaN  Dublin   \n",
       "1       999327        Lucan        NaN   NaN                NaN  Dublin   \n",
       "2       999559  Rathfarnham        NaN   NaN                NaN  Dublin   \n",
       "3      9102986   Balbriggan        NaN   NaN                NaN  Dublin   \n",
       "4      9106028      Foxrock        NaN   NaN                NaN  Dublin   \n",
       "...        ...          ...        ...   ...                ...     ...   \n",
       "2977  12428232  Ballsbridge        2.0   2.0                 C3  Dublin   \n",
       "2978  12428240       Rialto        1.0   3.0                 B2  Dublin   \n",
       "2979  12428247   Smithfield        1.0   2.0                 C3  Dublin   \n",
       "2980  12428254      Foxrock        2.0   3.0                 C3  Dublin   \n",
       "2981  12428358     Terenure        2.0   3.0                 D2  Dublin   \n",
       "\n",
       "                                      description_block environment  \\\n",
       "0     A SELECTION OF 4 AND 5 BEDROOM FAMILY HOMES LO...        prod   \n",
       "1     **Last 2 remaining houses for sale ***\\n\\nOn v...        prod   \n",
       "2     Final 4 &amp; 5 Bedroom Homes for Sale\\n\\nOn V...        prod   \n",
       "3     Glenveagh Taylor Hill, Balbriggan\\n\\r\\n*Ideal ...        prod   \n",
       "4     *New phase launching this weekend Sat &amp; Su...        prod   \n",
       "...                                                 ...         ...   \n",
       "2977  Sherry FitzGerald are delighted to present Apa...        prod   \n",
       "2978  Property Team Patrick Moran is delighted to pr...        prod   \n",
       "2979  Earnest estate agents are delighted to present...        prod   \n",
       "2980  Janet Carroll Estate Agents are pleased to pre...        prod   \n",
       "2981  ON VIEW SATURDAY 7 TH MARCH 2020 11:30 AM - 12...        prod   \n",
       "\n",
       "                               facility  \\\n",
       "0                                   NaN   \n",
       "1                                   NaN   \n",
       "2                                   NaN   \n",
       "3                                   NaN   \n",
       "4                                   NaN   \n",
       "...                                 ...   \n",
       "2977                                NaN   \n",
       "2978                                NaN   \n",
       "2979         Wired for Cable Television   \n",
       "2980  Parking,Gas Fired Central Heating   \n",
       "2981                                NaN   \n",
       "\n",
       "                                               features   latitude  longitude  \\\n",
       "0                                                  None  53.418216  -6.149329   \n",
       "1                                                  None  53.364917  -6.454935   \n",
       "2                                                  None  53.273447  -6.313821   \n",
       "3                                                  None  53.608167  -6.210914   \n",
       "4                                                  None  53.262531  -6.181527   \n",
       "...                                                 ...        ...        ...   \n",
       "2977  Prime Location\\nManagement Co: Core Property M...  53.338738  -6.237199   \n",
       "2978  Totally refurbished to the highest standard. \\...  53.335793  -6.294268   \n",
       "2979  OVERLOOKING THE RIVER LIFFEY \\n3RD FLOOR APART...  53.346098  -6.276856   \n",
       "2980                                               None  53.273518  -6.178500   \n",
       "2981  Charming three-bedroom family home\\nMinutes aw...  53.310073  -6.325158   \n",
       "\n",
       "      no_of_units       property_category   property_type  surface  \n",
       "0            18.0  new_development_parent             NaN      NaN  \n",
       "1             3.0  new_development_parent             NaN      NaN  \n",
       "2             3.0  new_development_parent             NaN      NaN  \n",
       "3            30.0  new_development_parent             NaN      NaN  \n",
       "4             8.0  new_development_parent             NaN      NaN  \n",
       "...           ...                     ...             ...      ...  \n",
       "2977          NaN                    sale       apartment     56.0  \n",
       "2978          NaN                    sale        terraced    101.0  \n",
       "2979          NaN                    sale       apartment     55.6  \n",
       "2980          NaN                    sale  end-of-terrace     97.0  \n",
       "2981          NaN                    sale   semi-detached    129.3  \n",
       "\n",
       "[2982 rows x 16 columns]"
      ]
     },
     "execution_count": 20,
     "metadata": {},
     "output_type": "execute_result"
    }
   ],
   "source": [
    "X_train"
   ]
  },
  {
   "cell_type": "code",
   "execution_count": 21,
   "metadata": {},
   "outputs": [
    {
     "data": {
      "text/html": [
       "<div>\n",
       "<style scoped>\n",
       "    .dataframe tbody tr th:only-of-type {\n",
       "        vertical-align: middle;\n",
       "    }\n",
       "\n",
       "    .dataframe tbody tr th {\n",
       "        vertical-align: top;\n",
       "    }\n",
       "\n",
       "    .dataframe thead th {\n",
       "        text-align: right;\n",
       "    }\n",
       "</style>\n",
       "<table border=\"1\" class=\"dataframe\">\n",
       "  <thead>\n",
       "    <tr style=\"text-align: right;\">\n",
       "      <th></th>\n",
       "      <th>ad_id</th>\n",
       "      <th>area</th>\n",
       "      <th>bathrooms</th>\n",
       "      <th>beds</th>\n",
       "      <th>ber_classification</th>\n",
       "      <th>county</th>\n",
       "      <th>description_block</th>\n",
       "      <th>environment</th>\n",
       "      <th>facility</th>\n",
       "      <th>features</th>\n",
       "      <th>latitude</th>\n",
       "      <th>longitude</th>\n",
       "      <th>no_of_units</th>\n",
       "      <th>property_category</th>\n",
       "      <th>property_type</th>\n",
       "      <th>surface</th>\n",
       "    </tr>\n",
       "  </thead>\n",
       "  <tbody>\n",
       "    <tr>\n",
       "      <td>0</td>\n",
       "      <td>12373510</td>\n",
       "      <td>Skerries</td>\n",
       "      <td>2.0</td>\n",
       "      <td>4.0</td>\n",
       "      <td>G</td>\n",
       "      <td>Dublin</td>\n",
       "      <td>It's all in the name \"Island View\";. Truly won...</td>\n",
       "      <td>prod</td>\n",
       "      <td>Parking,Alarm,Oil Fired Central Heating</td>\n",
       "      <td>Breath-taking panoramic views radiate from thi...</td>\n",
       "      <td>53.566881</td>\n",
       "      <td>-6.101148</td>\n",
       "      <td>NaN</td>\n",
       "      <td>sale</td>\n",
       "      <td>bungalow</td>\n",
       "      <td>142.0</td>\n",
       "    </tr>\n",
       "    <tr>\n",
       "      <td>1</td>\n",
       "      <td>12422623</td>\n",
       "      <td>Lucan</td>\n",
       "      <td>2.0</td>\n",
       "      <td>3.0</td>\n",
       "      <td>C1</td>\n",
       "      <td>Dublin</td>\n",
       "      <td>REA McDonald - Lucan' s longest established es...</td>\n",
       "      <td>prod</td>\n",
       "      <td>NaN</td>\n",
       "      <td>Gas fired central heating.\\nDouble glazed wind...</td>\n",
       "      <td>53.362992</td>\n",
       "      <td>-6.452909</td>\n",
       "      <td>NaN</td>\n",
       "      <td>sale</td>\n",
       "      <td>terraced</td>\n",
       "      <td>114.0</td>\n",
       "    </tr>\n",
       "    <tr>\n",
       "      <td>2</td>\n",
       "      <td>12377408</td>\n",
       "      <td>Swords</td>\n",
       "      <td>3.0</td>\n",
       "      <td>4.0</td>\n",
       "      <td>B3</td>\n",
       "      <td>Dublin</td>\n",
       "      <td>REA Grimes are proud to present to the market ...</td>\n",
       "      <td>prod</td>\n",
       "      <td>NaN</td>\n",
       "      <td>Pristine condition throughout\\nHighly sought-a...</td>\n",
       "      <td>53.454198</td>\n",
       "      <td>-6.262964</td>\n",
       "      <td>NaN</td>\n",
       "      <td>sale</td>\n",
       "      <td>semi-detached</td>\n",
       "      <td>172.0</td>\n",
       "    </tr>\n",
       "    <tr>\n",
       "      <td>3</td>\n",
       "      <td>12420093</td>\n",
       "      <td>Lucan</td>\n",
       "      <td>4.0</td>\n",
       "      <td>3.0</td>\n",
       "      <td>A3</td>\n",
       "      <td>Dublin</td>\n",
       "      <td>REA McDonald, Lucan' s longest established est...</td>\n",
       "      <td>prod</td>\n",
       "      <td>NaN</td>\n",
       "      <td>A-rated home within a short walk of Lucan Vill...</td>\n",
       "      <td>53.354402</td>\n",
       "      <td>-6.458647</td>\n",
       "      <td>NaN</td>\n",
       "      <td>sale</td>\n",
       "      <td>semi-detached</td>\n",
       "      <td>132.4</td>\n",
       "    </tr>\n",
       "    <tr>\n",
       "      <td>4</td>\n",
       "      <td>12417338</td>\n",
       "      <td>Clondalkin</td>\n",
       "      <td>1.0</td>\n",
       "      <td>3.0</td>\n",
       "      <td>E2</td>\n",
       "      <td>Dublin</td>\n",
       "      <td>Hibernian Auctioneers are delighted to bring, ...</td>\n",
       "      <td>prod</td>\n",
       "      <td>Parking,Gas Fired Central Heating,Wired for Ca...</td>\n",
       "      <td>Mature Location \\nGas Heating \\nClose to Ameni...</td>\n",
       "      <td>53.336530</td>\n",
       "      <td>-6.393587</td>\n",
       "      <td>NaN</td>\n",
       "      <td>sale</td>\n",
       "      <td>semi-detached</td>\n",
       "      <td>88.0</td>\n",
       "    </tr>\n",
       "    <tr>\n",
       "      <td>...</td>\n",
       "      <td>...</td>\n",
       "      <td>...</td>\n",
       "      <td>...</td>\n",
       "      <td>...</td>\n",
       "      <td>...</td>\n",
       "      <td>...</td>\n",
       "      <td>...</td>\n",
       "      <td>...</td>\n",
       "      <td>...</td>\n",
       "      <td>...</td>\n",
       "      <td>...</td>\n",
       "      <td>...</td>\n",
       "      <td>...</td>\n",
       "      <td>...</td>\n",
       "      <td>...</td>\n",
       "      <td>...</td>\n",
       "    </tr>\n",
       "    <tr>\n",
       "      <td>495</td>\n",
       "      <td>12369815</td>\n",
       "      <td>Ringsend</td>\n",
       "      <td>1.0</td>\n",
       "      <td>2.0</td>\n",
       "      <td>NaN</td>\n",
       "      <td>Dublin</td>\n",
       "      <td>***SUPERB LOCATION / PRIVATE PARKING OPTION AV...</td>\n",
       "      <td>prod</td>\n",
       "      <td>NaN</td>\n",
       "      <td>Adjacent to Grand Canal Dock\\nClose to a host ...</td>\n",
       "      <td>53.342207</td>\n",
       "      <td>-6.226101</td>\n",
       "      <td>NaN</td>\n",
       "      <td>sale</td>\n",
       "      <td>apartment</td>\n",
       "      <td>65.0</td>\n",
       "    </tr>\n",
       "    <tr>\n",
       "      <td>496</td>\n",
       "      <td>12416011</td>\n",
       "      <td>Cabinteely</td>\n",
       "      <td>3.0</td>\n",
       "      <td>5.0</td>\n",
       "      <td>E1</td>\n",
       "      <td>Dublin</td>\n",
       "      <td>OPEN VIEWING SATURDAY 7TH MARCH, 10.00AM - 10....</td>\n",
       "      <td>prod</td>\n",
       "      <td>Parking,Alarm,Oil Fired Central Heating</td>\n",
       "      <td>Excellently presented 5 bedroom family home\\nE...</td>\n",
       "      <td>53.261475</td>\n",
       "      <td>-6.147720</td>\n",
       "      <td>NaN</td>\n",
       "      <td>sale</td>\n",
       "      <td>detached</td>\n",
       "      <td>191.3</td>\n",
       "    </tr>\n",
       "    <tr>\n",
       "      <td>497</td>\n",
       "      <td>12232222</td>\n",
       "      <td>Artane</td>\n",
       "      <td>1.0</td>\n",
       "      <td>3.0</td>\n",
       "      <td>G</td>\n",
       "      <td>Dublin</td>\n",
       "      <td>Sherry FitzGerald is delighted to present to t...</td>\n",
       "      <td>prod</td>\n",
       "      <td>NaN</td>\n",
       "      <td>Detached Family Home\\nOnly One Owner\\nMature C...</td>\n",
       "      <td>53.391619</td>\n",
       "      <td>-6.205157</td>\n",
       "      <td>NaN</td>\n",
       "      <td>sale</td>\n",
       "      <td>detached</td>\n",
       "      <td>105.0</td>\n",
       "    </tr>\n",
       "    <tr>\n",
       "      <td>498</td>\n",
       "      <td>11905630</td>\n",
       "      <td>Clontarf</td>\n",
       "      <td>2.0</td>\n",
       "      <td>4.0</td>\n",
       "      <td>E2</td>\n",
       "      <td>Dublin</td>\n",
       "      <td>Modernised yet still in touch with it's period...</td>\n",
       "      <td>prod</td>\n",
       "      <td>Parking,Gas Fired Central Heating,Alarm,Wired ...</td>\n",
       "      <td>Stunning coastal views.\\nExcellent condition t...</td>\n",
       "      <td>53.360578</td>\n",
       "      <td>-6.183701</td>\n",
       "      <td>NaN</td>\n",
       "      <td>sale</td>\n",
       "      <td>end-of-terrace</td>\n",
       "      <td>130.0</td>\n",
       "    </tr>\n",
       "    <tr>\n",
       "      <td>499</td>\n",
       "      <td>12394865</td>\n",
       "      <td>Drumcondra</td>\n",
       "      <td>2.0</td>\n",
       "      <td>2.0</td>\n",
       "      <td>C1</td>\n",
       "      <td>Dublin</td>\n",
       "      <td>MOVEHOME ESTATE AGENTS .. are delighted to pre...</td>\n",
       "      <td>prod</td>\n",
       "      <td>NaN</td>\n",
       "      <td>* Spacious two Bedroom master ensuite apartmen...</td>\n",
       "      <td>53.366827</td>\n",
       "      <td>-6.248329</td>\n",
       "      <td>NaN</td>\n",
       "      <td>sale</td>\n",
       "      <td>apartment</td>\n",
       "      <td>71.0</td>\n",
       "    </tr>\n",
       "  </tbody>\n",
       "</table>\n",
       "<p>500 rows × 16 columns</p>\n",
       "</div>"
      ],
      "text/plain": [
       "        ad_id        area  bathrooms  beds ber_classification  county  \\\n",
       "0    12373510    Skerries        2.0   4.0                  G  Dublin   \n",
       "1    12422623       Lucan        2.0   3.0                 C1  Dublin   \n",
       "2    12377408      Swords        3.0   4.0                 B3  Dublin   \n",
       "3    12420093       Lucan        4.0   3.0                 A3  Dublin   \n",
       "4    12417338  Clondalkin        1.0   3.0                 E2  Dublin   \n",
       "..        ...         ...        ...   ...                ...     ...   \n",
       "495  12369815    Ringsend        1.0   2.0                NaN  Dublin   \n",
       "496  12416011  Cabinteely        3.0   5.0                 E1  Dublin   \n",
       "497  12232222      Artane        1.0   3.0                  G  Dublin   \n",
       "498  11905630    Clontarf        2.0   4.0                 E2  Dublin   \n",
       "499  12394865  Drumcondra        2.0   2.0                 C1  Dublin   \n",
       "\n",
       "                                     description_block environment  \\\n",
       "0    It's all in the name \"Island View\";. Truly won...        prod   \n",
       "1    REA McDonald - Lucan' s longest established es...        prod   \n",
       "2    REA Grimes are proud to present to the market ...        prod   \n",
       "3    REA McDonald, Lucan' s longest established est...        prod   \n",
       "4    Hibernian Auctioneers are delighted to bring, ...        prod   \n",
       "..                                                 ...         ...   \n",
       "495  ***SUPERB LOCATION / PRIVATE PARKING OPTION AV...        prod   \n",
       "496  OPEN VIEWING SATURDAY 7TH MARCH, 10.00AM - 10....        prod   \n",
       "497  Sherry FitzGerald is delighted to present to t...        prod   \n",
       "498  Modernised yet still in touch with it's period...        prod   \n",
       "499  MOVEHOME ESTATE AGENTS .. are delighted to pre...        prod   \n",
       "\n",
       "                                              facility  \\\n",
       "0              Parking,Alarm,Oil Fired Central Heating   \n",
       "1                                                  NaN   \n",
       "2                                                  NaN   \n",
       "3                                                  NaN   \n",
       "4    Parking,Gas Fired Central Heating,Wired for Ca...   \n",
       "..                                                 ...   \n",
       "495                                                NaN   \n",
       "496            Parking,Alarm,Oil Fired Central Heating   \n",
       "497                                                NaN   \n",
       "498  Parking,Gas Fired Central Heating,Alarm,Wired ...   \n",
       "499                                                NaN   \n",
       "\n",
       "                                              features   latitude  longitude  \\\n",
       "0    Breath-taking panoramic views radiate from thi...  53.566881  -6.101148   \n",
       "1    Gas fired central heating.\\nDouble glazed wind...  53.362992  -6.452909   \n",
       "2    Pristine condition throughout\\nHighly sought-a...  53.454198  -6.262964   \n",
       "3    A-rated home within a short walk of Lucan Vill...  53.354402  -6.458647   \n",
       "4    Mature Location \\nGas Heating \\nClose to Ameni...  53.336530  -6.393587   \n",
       "..                                                 ...        ...        ...   \n",
       "495  Adjacent to Grand Canal Dock\\nClose to a host ...  53.342207  -6.226101   \n",
       "496  Excellently presented 5 bedroom family home\\nE...  53.261475  -6.147720   \n",
       "497  Detached Family Home\\nOnly One Owner\\nMature C...  53.391619  -6.205157   \n",
       "498  Stunning coastal views.\\nExcellent condition t...  53.360578  -6.183701   \n",
       "499  * Spacious two Bedroom master ensuite apartmen...  53.366827  -6.248329   \n",
       "\n",
       "     no_of_units property_category   property_type  surface  \n",
       "0            NaN              sale        bungalow    142.0  \n",
       "1            NaN              sale        terraced    114.0  \n",
       "2            NaN              sale   semi-detached    172.0  \n",
       "3            NaN              sale   semi-detached    132.4  \n",
       "4            NaN              sale   semi-detached     88.0  \n",
       "..           ...               ...             ...      ...  \n",
       "495          NaN              sale       apartment     65.0  \n",
       "496          NaN              sale        detached    191.3  \n",
       "497          NaN              sale        detached    105.0  \n",
       "498          NaN              sale  end-of-terrace    130.0  \n",
       "499          NaN              sale       apartment     71.0  \n",
       "\n",
       "[500 rows x 16 columns]"
      ]
     },
     "execution_count": 21,
     "metadata": {},
     "output_type": "execute_result"
    }
   ],
   "source": [
    "X_test"
   ]
  },
  {
   "cell_type": "code",
   "execution_count": 22,
   "metadata": {},
   "outputs": [
    {
     "data": {
      "text/html": [
       "<div>\n",
       "<style scoped>\n",
       "    .dataframe tbody tr th:only-of-type {\n",
       "        vertical-align: middle;\n",
       "    }\n",
       "\n",
       "    .dataframe tbody tr th {\n",
       "        vertical-align: top;\n",
       "    }\n",
       "\n",
       "    .dataframe thead th {\n",
       "        text-align: right;\n",
       "    }\n",
       "</style>\n",
       "<table border=\"1\" class=\"dataframe\">\n",
       "  <thead>\n",
       "    <tr style=\"text-align: right;\">\n",
       "      <th></th>\n",
       "      <th>price</th>\n",
       "    </tr>\n",
       "  </thead>\n",
       "  <tbody>\n",
       "    <tr>\n",
       "      <td>0</td>\n",
       "      <td>NaN</td>\n",
       "    </tr>\n",
       "    <tr>\n",
       "      <td>1</td>\n",
       "      <td>NaN</td>\n",
       "    </tr>\n",
       "    <tr>\n",
       "      <td>2</td>\n",
       "      <td>NaN</td>\n",
       "    </tr>\n",
       "    <tr>\n",
       "      <td>3</td>\n",
       "      <td>NaN</td>\n",
       "    </tr>\n",
       "    <tr>\n",
       "      <td>4</td>\n",
       "      <td>NaN</td>\n",
       "    </tr>\n",
       "    <tr>\n",
       "      <td>...</td>\n",
       "      <td>...</td>\n",
       "    </tr>\n",
       "    <tr>\n",
       "      <td>2977</td>\n",
       "      <td>415000.0</td>\n",
       "    </tr>\n",
       "    <tr>\n",
       "      <td>2978</td>\n",
       "      <td>485000.0</td>\n",
       "    </tr>\n",
       "    <tr>\n",
       "      <td>2979</td>\n",
       "      <td>299000.0</td>\n",
       "    </tr>\n",
       "    <tr>\n",
       "      <td>2980</td>\n",
       "      <td>495000.0</td>\n",
       "    </tr>\n",
       "    <tr>\n",
       "      <td>2981</td>\n",
       "      <td>525000.0</td>\n",
       "    </tr>\n",
       "  </tbody>\n",
       "</table>\n",
       "<p>2982 rows × 1 columns</p>\n",
       "</div>"
      ],
      "text/plain": [
       "         price\n",
       "0          NaN\n",
       "1          NaN\n",
       "2          NaN\n",
       "3          NaN\n",
       "4          NaN\n",
       "...        ...\n",
       "2977  415000.0\n",
       "2978  485000.0\n",
       "2979  299000.0\n",
       "2980  495000.0\n",
       "2981  525000.0\n",
       "\n",
       "[2982 rows x 1 columns]"
      ]
     },
     "execution_count": 22,
     "metadata": {},
     "output_type": "execute_result"
    }
   ],
   "source": [
    "y_train"
   ]
  },
  {
   "cell_type": "code",
   "execution_count": 23,
   "metadata": {},
   "outputs": [
    {
     "data": {
      "text/html": [
       "<div>\n",
       "<style scoped>\n",
       "    .dataframe tbody tr th:only-of-type {\n",
       "        vertical-align: middle;\n",
       "    }\n",
       "\n",
       "    .dataframe tbody tr th {\n",
       "        vertical-align: top;\n",
       "    }\n",
       "\n",
       "    .dataframe thead th {\n",
       "        text-align: right;\n",
       "    }\n",
       "</style>\n",
       "<table border=\"1\" class=\"dataframe\">\n",
       "  <thead>\n",
       "    <tr style=\"text-align: right;\">\n",
       "      <th></th>\n",
       "      <th>Expected</th>\n",
       "    </tr>\n",
       "  </thead>\n",
       "  <tbody>\n",
       "    <tr>\n",
       "      <td>0</td>\n",
       "      <td>875000.0</td>\n",
       "    </tr>\n",
       "    <tr>\n",
       "      <td>1</td>\n",
       "      <td>355000.0</td>\n",
       "    </tr>\n",
       "    <tr>\n",
       "      <td>2</td>\n",
       "      <td>440000.0</td>\n",
       "    </tr>\n",
       "    <tr>\n",
       "      <td>3</td>\n",
       "      <td>425000.0</td>\n",
       "    </tr>\n",
       "    <tr>\n",
       "      <td>4</td>\n",
       "      <td>265000.0</td>\n",
       "    </tr>\n",
       "    <tr>\n",
       "      <td>...</td>\n",
       "      <td>...</td>\n",
       "    </tr>\n",
       "    <tr>\n",
       "      <td>495</td>\n",
       "      <td>345000.0</td>\n",
       "    </tr>\n",
       "    <tr>\n",
       "      <td>496</td>\n",
       "      <td>775000.0</td>\n",
       "    </tr>\n",
       "    <tr>\n",
       "      <td>497</td>\n",
       "      <td>360000.0</td>\n",
       "    </tr>\n",
       "    <tr>\n",
       "      <td>498</td>\n",
       "      <td>925000.0</td>\n",
       "    </tr>\n",
       "    <tr>\n",
       "      <td>499</td>\n",
       "      <td>325000.0</td>\n",
       "    </tr>\n",
       "  </tbody>\n",
       "</table>\n",
       "<p>500 rows × 1 columns</p>\n",
       "</div>"
      ],
      "text/plain": [
       "     Expected\n",
       "0    875000.0\n",
       "1    355000.0\n",
       "2    440000.0\n",
       "3    425000.0\n",
       "4    265000.0\n",
       "..        ...\n",
       "495  345000.0\n",
       "496  775000.0\n",
       "497  360000.0\n",
       "498  925000.0\n",
       "499  325000.0\n",
       "\n",
       "[500 rows x 1 columns]"
      ]
     },
     "execution_count": 23,
     "metadata": {},
     "output_type": "execute_result"
    }
   ],
   "source": [
    "y_test"
   ]
  },
  {
   "cell_type": "markdown",
   "metadata": {
    "id": "bJFJQxAS9HZK"
   },
   "source": [
    "# PIECEWISE REGRESSION"
   ]
  },
  {
   "cell_type": "markdown",
   "metadata": {
    "id": "uQ_1QsLToIDi"
   },
   "source": [
    "## Full Model"
   ]
  },
  {
   "cell_type": "code",
   "execution_count": 24,
   "metadata": {
    "id": "Yv5j1KzzMUnm"
   },
   "outputs": [],
   "source": [
    "# select some features columns just for the baseline model\n",
    "# assume not all of the features are informative or useful\n",
    "# in this exercise you could try all of them if possible\n",
    "\n",
    "featrain = ['beds', 'latitude', 'longitude', 'surface','price']\n",
    "# dropna: remove missing values\n",
    "df_subset_train = df_train[featrain].dropna(axis=0)\n",
    "\n",
    "featest = ['beds', 'latitude', 'longitude', 'surface']\n",
    "df_subset_test  =  df_test[featest].dropna(axis=0)\n",
    "\n",
    "# cost\n",
    "df_cost = df_cost[df_cost.index.isin(df_subset_test.index)]"
   ]
  },
  {
   "cell_type": "code",
   "execution_count": 25,
   "metadata": {},
   "outputs": [
    {
     "name": "stdout",
     "output_type": "stream",
     "text": [
      "Number of nan in df_subset_train dataset:  0\n",
      "Number of nan in df_subset_test dataset:  0\n"
     ]
    }
   ],
   "source": [
    "print('Number of nan in df_subset_train dataset: ',df_subset_train.isnull().sum().sum())\n",
    "print('Number of nan in df_subset_test dataset: ',df_subset_test.isnull().sum().sum())"
   ]
  },
  {
   "cell_type": "code",
   "execution_count": 26,
   "metadata": {},
   "outputs": [],
   "source": [
    "# train set, input columns\n",
    "Xs_train = df_subset_train.iloc[:,0:-1].values \n",
    "# train set, output column, cost\n",
    "ys_train = df_subset_train.iloc[:,-1].values.reshape(-1,1)   \n",
    "\n",
    "# test set, input columns\n",
    "Xs_test = df_subset_test.iloc[:,0:].values \n",
    "# test set, output column, cost\n",
    "y_test = df_cost['Expected'].values"
   ]
  },
  {
   "cell_type": "code",
   "execution_count": 27,
   "metadata": {},
   "outputs": [],
   "source": [
    "# StandardScaler() will normalize the features i.e. each column of X, \n",
    "# so, each column/feature/variable will have μ = 0 and σ = 1\n",
    "sc = StandardScaler()\n",
    "\n",
    "Xss_train = np.hstack([Xs_train,Xs_train[:,[2]]**2])\n",
    "xscaler = sc.fit(Xss_train)\n",
    "Xn_train = xscaler.transform(Xss_train)\n",
    "\n",
    "Xss_test = np.hstack([Xs_test,Xs_test[:,[2]]**2])\n",
    "Xn_test = xscaler.transform(Xss_test)\n",
    "\n",
    "ylog = np.log(ys_train.astype('float'))\n",
    "yscaler = StandardScaler().fit(ylog)\n",
    "yn_train = yscaler.transform(ylog)"
   ]
  },
  {
   "cell_type": "code",
   "execution_count": 28,
   "metadata": {
    "id": "PZK2kfygoIDi"
   },
   "outputs": [],
   "source": [
    "# model\n",
    "with pm.Model() as model:\n",
    "    #prior over the parameters of linear regression\n",
    "    alpha = pm.Normal('alpha', mu=0, sigma=30)\n",
    "    #we have one beta for each column of Xn\n",
    "    beta = pm.Normal('beta', mu=0, sigma=30, shape=Xn_train.shape[1])\n",
    "    #prior over the variance of the noise\n",
    "    sigma = pm.HalfCauchy('sigma_n', 5)\n",
    "    #linear regression model in matrix form\n",
    "    mu = alpha + pm.math.dot(beta, Xn_train.T)\n",
    "    #likelihood, be sure that observed is a 1d vector\n",
    "    like = pm.Normal('like', mu=mu, sigma=sigma, observed=yn_train[:,0])\n",
    "    "
   ]
  },
  {
   "cell_type": "code",
   "execution_count": 29,
   "metadata": {},
   "outputs": [
    {
     "data": {
      "text/html": [
       "\n",
       "    <div>\n",
       "        <style>\n",
       "            /* Turns off some styling */\n",
       "            progress {\n",
       "                /* gets rid of default border in Firefox and Opera. */\n",
       "                border: none;\n",
       "                /* Needs to be in here for Safari polyfill so background images work as expected. */\n",
       "                background-size: auto;\n",
       "            }\n",
       "            .progress-bar-interrupted, .progress-bar-interrupted::-webkit-progress-bar {\n",
       "                background: #F44336;\n",
       "            }\n",
       "        </style>\n",
       "      <progress value='50000' class='' max='50000' style='width:300px; height:20px; vertical-align: middle;'></progress>\n",
       "      100.00% [50000/50000 00:06<00:00 Average Loss = 2,523.9]\n",
       "    </div>\n",
       "    "
      ],
      "text/plain": [
       "<IPython.core.display.HTML object>"
      ]
     },
     "metadata": {},
     "output_type": "display_data"
    },
    {
     "name": "stderr",
     "output_type": "stream",
     "text": [
      "Finished [100%]: Average Loss = 2,523.9\n"
     ]
    },
    {
     "data": {
      "image/png": "[encoded data removed]",
      "text/plain": [
       "<Figure size 432x288 with 1 Axes>"
      ]
     },
     "metadata": {
      "needs_background": "light"
     },
     "output_type": "display_data"
    }
   ],
   "source": [
    "#number of iterations of the algorithms\n",
    "iter = 50000 \n",
    "\n",
    "# run the model\n",
    "with model:\n",
    "    approximation = pm.fit(iter,method='advi')\n",
    "    \n",
    "# check the convergence\n",
    "plt.plot(approximation.hist);"
   ]
  },
  {
   "cell_type": "code",
   "execution_count": 30,
   "metadata": {},
   "outputs": [],
   "source": [
    "# samples from the posterior\n",
    "posterior = approximation.sample(5000)"
   ]
  },
  {
   "cell_type": "code",
   "execution_count": 31,
   "metadata": {
    "id": "cIskuS3ToIDk"
   },
   "outputs": [
    {
     "name": "stdout",
     "output_type": "stream",
     "text": [
      "MAE =  213216.51202237885\n",
      "MAPE =  0.28808714645024136\n"
     ]
    }
   ],
   "source": [
    "# prediction\n",
    "ll=np.mean(posterior['alpha']) + np.dot(np.mean(posterior['beta'],axis=0), Xn_test.T)\n",
    "y_pred_BLR = np.exp(yscaler.inverse_transform(ll.reshape(-1,1)))[:,0]\n",
    "print(\"MAE = \",(np.mean(abs(y_pred_BLR - y_test))))\n",
    "print(\"MAPE = \",(np.mean(abs(y_pred_BLR - y_test) / y_test)))"
   ]
  },
  {
   "cell_type": "markdown",
   "metadata": {
    "id": "q_jBBKvtoIDk"
   },
   "source": [
    "## Clustering"
   ]
  },
  {
   "cell_type": "markdown",
   "metadata": {
    "id": "VYFvbgYDaEOS"
   },
   "source": [
    "### Full Model"
   ]
  },
  {
   "cell_type": "code",
   "execution_count": 32,
   "metadata": {
    "id": "iphQ53UE0iVw"
   },
   "outputs": [
    {
     "data": {
      "text/plain": [
       "<matplotlib.collections.PathCollection at 0x7f9c3dc38150>"
      ]
     },
     "execution_count": 32,
     "metadata": {},
     "output_type": "execute_result"
    },
    {
     "data": {
      "image/png": "[encoded data removed]",
      "text/plain": [
       "<Figure size 432x288 with 1 Axes>"
      ]
     },
     "metadata": {
      "needs_background": "light"
     },
     "output_type": "display_data"
    }
   ],
   "source": [
    "# training gaussian mixture model \n",
    "from sklearn.mixture import GaussianMixture\n",
    "\n",
    "gmm = GaussianMixture(n_components=4)\n",
    "# clustering by features 1, 2\n",
    "ind=[0,1]\n",
    "X_ind = np.vstack([Xn_train[:,ind],Xn_test[:,ind]])\n",
    "# Gaussian Mixture\n",
    "gmm.fit(X_ind)\n",
    "# plot blue dots\n",
    "plt.scatter(X_ind[:,0],X_ind[:,1])\n",
    "# centroids:  orange dots\n",
    "plt.scatter(gmm.means_[:,0],gmm.means_[:,1])"
   ]
  },
  {
   "cell_type": "code",
   "execution_count": 33,
   "metadata": {},
   "outputs": [
    {
     "data": {
      "text/plain": [
       "9995000.0"
      ]
     },
     "execution_count": 33,
     "metadata": {},
     "output_type": "execute_result"
    }
   ],
   "source": [
    "np.max(ys_train)"
   ]
  },
  {
   "cell_type": "markdown",
   "metadata": {
    "id": "h51OhBV5Z4tY"
   },
   "source": [
    "### Clusters"
   ]
  },
  {
   "cell_type": "code",
   "execution_count": 34,
   "metadata": {},
   "outputs": [
    {
     "data": {
      "text/plain": [
       "{0: 868, 1: 318, 2: 1191, 3: 25}"
      ]
     },
     "execution_count": 34,
     "metadata": {},
     "output_type": "execute_result"
    }
   ],
   "source": [
    "# train clusters\n",
    "clusters_train = gmm.predict(Xn_train[:,ind])\n",
    "unique_train, counts_train = np.unique(clusters_train, return_counts=True)\n",
    "dict(zip(unique_train, counts_train))"
   ]
  },
  {
   "cell_type": "code",
   "execution_count": 35,
   "metadata": {
    "id": "vNvx_KxrLt90"
   },
   "outputs": [
    {
     "data": {
      "text/plain": [
       "{0: 184, 1: 76, 2: 235, 3: 5}"
      ]
     },
     "execution_count": 35,
     "metadata": {},
     "output_type": "execute_result"
    }
   ],
   "source": [
    "# test clusters\n",
    "clusters_test = gmm.predict(Xn_test[:,ind])\n",
    "unique_test, counts_test = np.unique(clusters_test, return_counts=True)\n",
    "dict(zip(unique_test, counts_test))"
   ]
  },
  {
   "cell_type": "code",
   "execution_count": 36,
   "metadata": {
    "id": "-wTT4220zFNx"
   },
   "outputs": [],
   "source": [
    "# cluster 0\n",
    "Xn0 = Xn_train[clusters_train==0,:]\n",
    "Xtestn0 = Xn_test[clusters_test==0,:]\n",
    "\n",
    "ylog0 = np.log(ys_train.astype('float')[clusters_train==0,:])\n",
    "yscaler0 = StandardScaler().fit(ylog0)\n",
    "yn0 = yscaler0.transform(ylog0)"
   ]
  },
  {
   "cell_type": "code",
   "execution_count": 37,
   "metadata": {},
   "outputs": [],
   "source": [
    "# cluster 1\n",
    "Xn1 = Xn_train[clusters_train==1,:]\n",
    "Xtestn1 = Xn_test[clusters_test==1,:]\n",
    "ylog1 = np.log(ys_train.astype('float')[clusters_train==1,:])\n",
    "yscaler1 = StandardScaler().fit(ylog1)\n",
    "yn1 = yscaler1.transform(ylog1)"
   ]
  },
  {
   "cell_type": "code",
   "execution_count": 38,
   "metadata": {},
   "outputs": [],
   "source": [
    "# cluster 2\n",
    "Xn2 = Xn_train[clusters_train==2,:]\n",
    "Xtestn2 = Xn_test[clusters_test==2,:]\n",
    "ylog2 = np.log(ys_train.astype('float')[clusters_train==2,:])\n",
    "yscaler2 = StandardScaler().fit(ylog2)\n",
    "yn2 = yscaler2.transform(ylog2)"
   ]
  },
  {
   "cell_type": "code",
   "execution_count": 39,
   "metadata": {},
   "outputs": [],
   "source": [
    "# cluster 3\n",
    "Xn3 = Xn_train[clusters_train==3,:]\n",
    "Xtestn3 = Xn_test[clusters_test==3,:]\n",
    "ylog3 = np.log(ys_train.astype('float')[clusters_train==3,:])\n",
    "yscaler3 = StandardScaler().fit(ylog3)\n",
    "yn3 = yscaler3.transform(ylog3)"
   ]
  },
  {
   "cell_type": "markdown",
   "metadata": {
    "id": "dXF25ZDYoIDl"
   },
   "source": [
    "## Piecewise Model"
   ]
  },
  {
   "cell_type": "code",
   "execution_count": 40,
   "metadata": {},
   "outputs": [],
   "source": [
    "# model_0\n",
    "with pm.Model() as model_0:\n",
    "  # prior over the parameters of linear regression\n",
    "  alpha = pm.Normal('alpha', mu=0, sigma=30)\n",
    "  # we have a beta for each column of Xn0\n",
    "  beta = pm.Normal('beta', mu=0, sigma=30, shape=Xn0.shape[1])\n",
    "  # prior over the variance of the noise\n",
    "  sigma = pm.HalfCauchy('sigma_n', 5)\n",
    "  # linear regression relationship\n",
    "  #linear regression model in matrix form\n",
    "  mu = alpha + pm.math.dot(beta, Xn0.T)\n",
    "  # likelihood, be sure that observed is a 1d vector\n",
    "  like = pm.Normal('like', mu=mu, sigma=sigma, observed=yn0[:,0])"
   ]
  },
  {
   "cell_type": "code",
   "execution_count": 41,
   "metadata": {
    "id": "N1e-4ruvaJci"
   },
   "outputs": [
    {
     "data": {
      "text/html": [
       "\n",
       "    <div>\n",
       "        <style>\n",
       "            /* Turns off some styling */\n",
       "            progress {\n",
       "                /* gets rid of default border in Firefox and Opera. */\n",
       "                border: none;\n",
       "                /* Needs to be in here for Safari polyfill so background images work as expected. */\n",
       "                background-size: auto;\n",
       "            }\n",
       "            .progress-bar-interrupted, .progress-bar-interrupted::-webkit-progress-bar {\n",
       "                background: #F44336;\n",
       "            }\n",
       "        </style>\n",
       "      <progress value='40000' class='' max='40000' style='width:300px; height:20px; vertical-align: middle;'></progress>\n",
       "      100.00% [40000/40000 00:04<00:00 Average Loss = 741.74]\n",
       "    </div>\n",
       "    "
      ],
      "text/plain": [
       "<IPython.core.display.HTML object>"
      ]
     },
     "metadata": {},
     "output_type": "display_data"
    },
    {
     "name": "stderr",
     "output_type": "stream",
     "text": [
      "Finished [100%]: Average Loss = 741.76\n"
     ]
    }
   ],
   "source": [
    "with model_0:\n",
    "  # iterations of the algorithm\n",
    "  approximation = pm.fit(40000,method='advi')\n",
    "\n",
    "# samples from the posterior   \n",
    "posterior0 = approximation.sample(5000)"
   ]
  },
  {
   "cell_type": "code",
   "execution_count": 42,
   "metadata": {},
   "outputs": [
    {
     "data": {
      "text/html": [
       "\n",
       "    <div>\n",
       "        <style>\n",
       "            /* Turns off some styling */\n",
       "            progress {\n",
       "                /* gets rid of default border in Firefox and Opera. */\n",
       "                border: none;\n",
       "                /* Needs to be in here for Safari polyfill so background images work as expected. */\n",
       "                background-size: auto;\n",
       "            }\n",
       "            .progress-bar-interrupted, .progress-bar-interrupted::-webkit-progress-bar {\n",
       "                background: #F44336;\n",
       "            }\n",
       "        </style>\n",
       "      <progress value='40000' class='' max='40000' style='width:300px; height:20px; vertical-align: middle;'></progress>\n",
       "      100.00% [40000/40000 00:04<00:00 Average Loss = 348]\n",
       "    </div>\n",
       "    "
      ],
      "text/plain": [
       "<IPython.core.display.HTML object>"
      ]
     },
     "metadata": {},
     "output_type": "display_data"
    },
    {
     "name": "stderr",
     "output_type": "stream",
     "text": [
      "Finished [100%]: Average Loss = 347.99\n"
     ]
    }
   ],
   "source": [
    "# model_1\n",
    "with pm.Model() as model_1:\n",
    "  # prior over the parameters of linear regression\n",
    "  alpha = pm.Normal('alpha', mu=0, sigma=30)\n",
    "  # we have a beta for each column of Xn\n",
    "  beta = pm.Normal('beta', mu=0, sigma=30, shape=Xn1.shape[1])\n",
    "  # prior over the variance of the noise\n",
    "  sigma = pm.HalfCauchy('sigma_n', 5)\n",
    "  # linear regression relationship\n",
    "  #linear regression model in matrix form\n",
    "  mu = alpha + pm.math.dot(beta, Xn1.T)\n",
    "  # likelihood, # \n",
    "  like = pm.Normal('like', mu=mu, sigma=sigma, observed=yn1[:,0])\n",
    "  \n",
    "with model_1:\n",
    "  # iterations of the algorithm\n",
    "  approximation = pm.fit(40000,method='advi')\n",
    "\n",
    "# samples from the posterior    \n",
    "posterior1 = approximation.sample(5000)"
   ]
  },
  {
   "cell_type": "code",
   "execution_count": 43,
   "metadata": {},
   "outputs": [
    {
     "data": {
      "text/html": [
       "\n",
       "    <div>\n",
       "        <style>\n",
       "            /* Turns off some styling */\n",
       "            progress {\n",
       "                /* gets rid of default border in Firefox and Opera. */\n",
       "                border: none;\n",
       "                /* Needs to be in here for Safari polyfill so background images work as expected. */\n",
       "                background-size: auto;\n",
       "            }\n",
       "            .progress-bar-interrupted, .progress-bar-interrupted::-webkit-progress-bar {\n",
       "                background: #F44336;\n",
       "            }\n",
       "        </style>\n",
       "      <progress value='40000' class='' max='40000' style='width:300px; height:20px; vertical-align: middle;'></progress>\n",
       "      100.00% [40000/40000 00:04<00:00 Average Loss = 1,283.4]\n",
       "    </div>\n",
       "    "
      ],
      "text/plain": [
       "<IPython.core.display.HTML object>"
      ]
     },
     "metadata": {},
     "output_type": "display_data"
    },
    {
     "name": "stderr",
     "output_type": "stream",
     "text": [
      "Finished [100%]: Average Loss = 1,283.4\n"
     ]
    }
   ],
   "source": [
    "# model_2\n",
    "with pm.Model() as model_2:\n",
    "  # prior over the parameters of linear regression\n",
    "  alpha = pm.Normal('alpha', mu=0, sigma=30)\n",
    "  # we have a beta for each column of Xn\n",
    "  beta = pm.Normal('beta', mu=0, sigma=30, shape=Xn2.shape[1])\n",
    "  # prior over the variance of the noise\n",
    "  sigma = pm.HalfCauchy('sigma_n', 5)\n",
    "  # linear regression relationship\n",
    "  # linear regression model in matrix form\n",
    "  mu = alpha + pm.math.dot(beta, Xn2.T)\n",
    "  # likelihood, be sure that observed is a 1d vector\n",
    "  like = pm.Normal('like', mu=mu, sigma=sigma, observed=yn2[:,0])\n",
    "    \n",
    "with model_2:\n",
    "  # iterations of the algorithms\n",
    "  approximation = pm.fit(40000,method='advi')\n",
    "\n",
    "# samples from the posterior    \n",
    "posterior2 = approximation.sample(5000)"
   ]
  },
  {
   "cell_type": "code",
   "execution_count": 44,
   "metadata": {},
   "outputs": [
    {
     "data": {
      "text/html": [
       "\n",
       "    <div>\n",
       "        <style>\n",
       "            /* Turns off some styling */\n",
       "            progress {\n",
       "                /* gets rid of default border in Firefox and Opera. */\n",
       "                border: none;\n",
       "                /* Needs to be in here for Safari polyfill so background images work as expected. */\n",
       "                background-size: auto;\n",
       "            }\n",
       "            .progress-bar-interrupted, .progress-bar-interrupted::-webkit-progress-bar {\n",
       "                background: #F44336;\n",
       "            }\n",
       "        </style>\n",
       "      <progress value='40000' class='' max='40000' style='width:300px; height:20px; vertical-align: middle;'></progress>\n",
       "      100.00% [40000/40000 00:03<00:00 Average Loss = 57.128]\n",
       "    </div>\n",
       "    "
      ],
      "text/plain": [
       "<IPython.core.display.HTML object>"
      ]
     },
     "metadata": {},
     "output_type": "display_data"
    },
    {
     "name": "stderr",
     "output_type": "stream",
     "text": [
      "Finished [100%]: Average Loss = 57.167\n"
     ]
    }
   ],
   "source": [
    "# model_3\n",
    "with pm.Model() as model3:\n",
    "  # prior over the parameters of linear regression\n",
    "  alpha = pm.Normal('alpha', mu=0, sigma=30)\n",
    "  # we have a beta for each column of Xn\n",
    "  beta = pm.Normal('beta', mu=0, sigma=30, shape=Xn3.shape[1])\n",
    "  # prior over the variance of the noise\n",
    "  sigma = pm.HalfCauchy('sigma_n', 5)\n",
    "  # linear regression relationship\n",
    "  mu = alpha + pm.math.dot(beta, Xn3.T)#linear regression model in matrix form\n",
    "  # likelihood, be sure that observed is a 1d vector\n",
    "  like = pm.Normal('like', mu=mu, sigma=sigma, observed=yn3[:,0])\n",
    "    \n",
    "with model3:\n",
    "  # number of iterations of the algorithms\n",
    "  approximation = pm.fit(40000,method='advi')\n",
    "\n",
    "# samples from the posterior     \n",
    "posterior3 = approximation.sample(5000)"
   ]
  },
  {
   "cell_type": "code",
   "execution_count": 45,
   "metadata": {},
   "outputs": [],
   "source": [
    "# Posterior predictive checks (PPCs)\n",
    "def ppc(alpha,beta,sigma, X,  nsamples=500):\n",
    "    #we select nsamples random samples from the posterior\n",
    "    ind = np.random.randint(0,beta.shape[0],size=nsamples)\n",
    "    alphai = alpha[ind]\n",
    "    betai = beta[ind,:]\n",
    "    sigmai = sigma[ind]\n",
    "\n",
    "    Ypred = np.zeros((nsamples,X.shape[0]))\n",
    "    for i in range(X.shape[0]):\n",
    "        #we generate data from linear model\n",
    "        y_pred = alphai + np.dot(betai, X[i:i+1,:].T).T +np.random.randn(len(sigmai))*sigmai\n",
    "        Ypred[:,i]=y_pred[0,:]\n",
    "    return Ypred"
   ]
  },
  {
   "cell_type": "markdown",
   "metadata": {
    "id": "wHBgUe1pcZQQ"
   },
   "source": [
    "##Simulations"
   ]
  },
  {
   "cell_type": "markdown",
   "metadata": {
    "id": "bfSEdYAUoIDn"
   },
   "source": [
    "### Only Cluster 0"
   ]
  },
  {
   "cell_type": "code",
   "execution_count": 46,
   "metadata": {},
   "outputs": [
    {
     "data": {
      "image/png": "[encoded data removed]",
      "text/plain": [
       "<Figure size 432x288 with 1 Axes>"
      ]
     },
     "metadata": {
      "needs_background": "light"
     },
     "output_type": "display_data"
    }
   ],
   "source": [
    "#Simulation\n",
    "Ypred0 = yscaler0.inverse_transform(ppc(posterior0['alpha'],posterior0['beta'],posterior0['sigma_n'],Xn0,  nsamples=200))\n",
    "for i in range(Ypred0.shape[0]):\n",
    "    az.plot_dist( Ypred0[i,:],color='r',plot_kwargs={\"linewidth\": 0.2})\n",
    "az.plot_dist(Ypred0[i,:],color='r',plot_kwargs={\"linewidth\": 0.2}, label=\"prediction\")\n",
    "#plt.plot(np.linspace(-8,8,100),norm.pdf(np.linspace(-8,8,100),df=np.mean(posterior_1['nu'])))\n",
    "#plt.xlim([0,10e7])\n",
    "az.plot_dist(ylog0,label='true observations');\n",
    "plt.legend()\n",
    "plt.xlabel(\"log(y) - output variable\")\n",
    "plt.ylabel(\"density plot\");"
   ]
  },
  {
   "cell_type": "markdown",
   "metadata": {},
   "source": [
    "### Only Cluster 1"
   ]
  },
  {
   "cell_type": "code",
   "execution_count": 47,
   "metadata": {},
   "outputs": [
    {
     "data": {
      "image/png": "[encoded data removed]",
      "text/plain": [
       "<Figure size 432x288 with 1 Axes>"
      ]
     },
     "metadata": {
      "needs_background": "light"
     },
     "output_type": "display_data"
    }
   ],
   "source": [
    "#Simulation\n",
    "Ypred1 = yscaler1.inverse_transform(ppc(posterior1['alpha'],posterior1['beta'],posterior1['sigma_n'],Xn1,  nsamples=200))\n",
    "for i in range(Ypred1.shape[0]):\n",
    "    az.plot_dist( Ypred1[i,:],color='r',plot_kwargs={\"linewidth\": 0.2})\n",
    "az.plot_dist(Ypred1[i,:],color='r',plot_kwargs={\"linewidth\": 0.2}, label=\"prediction\")\n",
    "#plt.plot(np.linspace(-8,8,100),norm.pdf(np.linspace(-8,8,100),df=np.mean(posterior_1['nu'])))\n",
    "#plt.xlim([0,10e7])\n",
    "az.plot_dist(ylog1,label='true observations');\n",
    "plt.legend()\n",
    "plt.xlabel(\"log(y) - output variable\")\n",
    "plt.ylabel(\"density plot\");"
   ]
  },
  {
   "cell_type": "markdown",
   "metadata": {},
   "source": [
    "### Only Cluster 2"
   ]
  },
  {
   "cell_type": "code",
   "execution_count": 48,
   "metadata": {},
   "outputs": [
    {
     "data": {
      "image/png": "[encoded data removed]",
      "text/plain": [
       "<Figure size 432x288 with 1 Axes>"
      ]
     },
     "metadata": {
      "needs_background": "light"
     },
     "output_type": "display_data"
    }
   ],
   "source": [
    "#Simulation\n",
    "Ypred2 = yscaler2.inverse_transform(ppc(posterior2['alpha'],posterior2['beta'],posterior2['sigma_n'],Xn2,  nsamples=200))\n",
    "for i in range(Ypred2.shape[0]):\n",
    "    az.plot_dist( Ypred2[i,:],color='r',plot_kwargs={\"linewidth\": 0.2})\n",
    "az.plot_dist(Ypred2[i,:],color='r',plot_kwargs={\"linewidth\": 0.2}, label=\"prediction\")\n",
    "#plt.plot(np.linspace(-8,8,100),norm.pdf(np.linspace(-8,8,100),df=np.mean(posterior_1['nu'])))\n",
    "#plt.xlim([0,10e7])\n",
    "az.plot_dist(ylog2,label='true observations');\n",
    "plt.legend()\n",
    "plt.xlabel(\"log(y) - output variable\")\n",
    "plt.ylabel(\"density plot\");"
   ]
  },
  {
   "cell_type": "markdown",
   "metadata": {},
   "source": [
    "### Only Cluster 3"
   ]
  },
  {
   "cell_type": "code",
   "execution_count": 49,
   "metadata": {},
   "outputs": [
    {
     "data": {
      "image/png": "[encoded data removed]",
      "text/plain": [
       "<Figure size 432x288 with 1 Axes>"
      ]
     },
     "metadata": {
      "needs_background": "light"
     },
     "output_type": "display_data"
    }
   ],
   "source": [
    "#Simulation\n",
    "Ypred3 = yscaler3.inverse_transform(ppc(posterior3['alpha'],posterior3['beta'],posterior3['sigma_n'],Xn3,  nsamples=200))\n",
    "for i in range(Ypred3.shape[0]):\n",
    "    az.plot_dist( Ypred3[i,:],color='r',plot_kwargs={\"linewidth\": 0.2})\n",
    "az.plot_dist(Ypred3[i,:],color='r',plot_kwargs={\"linewidth\": 0.2}, label=\"prediction\")\n",
    "#plt.plot(np.linspace(-8,8,100),norm.pdf(np.linspace(-8,8,100),df=np.mean(posterior_1['nu'])))\n",
    "#plt.xlim([0,10e7])\n",
    "az.plot_dist(ylog3,label='true observations');\n",
    "plt.legend()\n",
    "plt.xlabel(\"log(y) - output variable\")\n",
    "plt.ylabel(\"density plot\");"
   ]
  },
  {
   "cell_type": "markdown",
   "metadata": {
    "id": "qgMUwBO7oIDq"
   },
   "source": [
    "## Overall"
   ]
  },
  {
   "cell_type": "code",
   "execution_count": 50,
   "metadata": {},
   "outputs": [
    {
     "data": {
      "image/png": "[encoded data removed]",
      "text/plain": [
       "<Figure size 432x288 with 1 Axes>"
      ]
     },
     "metadata": {
      "needs_background": "light"
     },
     "output_type": "display_data"
    }
   ],
   "source": [
    "# posteriors\n",
    "Ypred0 = ppc(posterior0['alpha'],posterior0['beta'],posterior0['sigma_n'],Xn0,  nsamples=200)\n",
    "Ypred1 = ppc(posterior1['alpha'],posterior1['beta'],posterior1['sigma_n'],Xn1,  nsamples=200)\n",
    "Ypred2 = ppc(posterior2['alpha'],posterior2['beta'],posterior2['sigma_n'],Xn2,  nsamples=200)\n",
    "Ypred3 = ppc(posterior3['alpha'],posterior3['beta'],posterior3['sigma_n'],Xn3,  nsamples=200)\n",
    "\n",
    "# simulation\n",
    "Ypred = np.hstack([ yscaler0.inverse_transform(Ypred0),\n",
    "                 yscaler1.inverse_transform(Ypred1),\n",
    "                 yscaler2.inverse_transform(Ypred2),\n",
    "                 yscaler3.inverse_transform(Ypred3)])\n",
    "\n",
    "# prediction\n",
    "for i in range(Ypred.shape[0]):\n",
    "    az.plot_dist( Ypred[i,:],color='r',plot_kwargs={\"linewidth\": 0.2})\n",
    "\n",
    "# plot\n",
    "az.plot_dist(Ypred[i,:],color='r',plot_kwargs={\"linewidth\": 0.2}, label=\"prediction\")\n",
    "ylog=np.vstack([ylog0,ylog1,ylog2,ylog3])\n",
    "az.plot_dist(ylog,label='true observations');\n",
    "plt.legend()\n",
    "plt.xlabel(\"log(y) - output variable\")\n",
    "plt.ylabel(\"density plot\");"
   ]
  },
  {
   "cell_type": "markdown",
   "metadata": {
    "id": "QMY9rDvVoIDq"
   },
   "source": [
    "## Test set performance"
   ]
  },
  {
   "cell_type": "code",
   "execution_count": 51,
   "metadata": {},
   "outputs": [
    {
     "name": "stdout",
     "output_type": "stream",
     "text": [
      "Size Cluster0 184 , MAE Cluster0= 261883.0035884915\n",
      "Size Cluster1 76 , MAE Cluster1= 152525.61116257802\n",
      "Size Cluster2 235 , MAE Cluster2= 125949.61133046763\n",
      "Size Cluster3 5 , MAE Cluster3= 457374.27333043906\n",
      "MAE= 183326.8982759009\n"
     ]
    }
   ],
   "source": [
    "# cluster 0\n",
    "y_pred_BLR0 = np.exp(yscaler0.inverse_transform(np.mean(posterior0['alpha']) \n",
    "              + np.dot(np.mean(posterior0['beta'],axis=0), Xtestn0.T)))\n",
    "print(\"Size Cluster0\", np.sum(clusters_test==0), \", MAE Cluster0=\",\n",
    "      (np.mean(abs(y_pred_BLR0 - y_test[clusters_test==0]))))\n",
    "\n",
    "# cluster 1\n",
    "y_pred_BLR1 = np.exp(yscaler1.inverse_transform(np.mean(posterior1['alpha']) \n",
    "              + np.dot(np.mean(posterior1['beta'],axis=0), Xtestn1.T)))\n",
    "print(\"Size Cluster1\", np.sum(clusters_test==1), \", MAE Cluster1=\",\n",
    "      (np.mean(abs(y_pred_BLR1 - y_test[clusters_test==1]))))\n",
    "\n",
    "# cluster 2\n",
    "y_pred_BLR2 = np.exp(yscaler2.inverse_transform(np.mean(posterior2['alpha']) \n",
    "              + np.dot(np.mean(posterior2['beta'],axis=0), Xtestn2.T)))\n",
    "print(\"Size Cluster2\", np.sum(clusters_test==2), \", MAE Cluster2=\",\n",
    "      (np.mean(abs(y_pred_BLR2 - y_test[clusters_test==2]))))\n",
    "\n",
    "# cluster 3\n",
    "y_pred_BLR3 = np.exp(yscaler3.inverse_transform(np.mean(posterior3['alpha']) \n",
    "              + np.dot(np.mean(posterior3['beta'],axis=0), Xtestn3.T)))\n",
    "print(\"Size Cluster3\", np.sum(clusters_test==3), \", MAE Cluster3=\",\n",
    "      (np.mean(abs(y_pred_BLR3 - y_test[clusters_test==3]))))\n",
    "\n",
    "# joint\n",
    "joint=np.hstack([abs(y_pred_BLR0 - y_test[clusters_test==0]),\n",
    "                 abs(y_pred_BLR1 - y_test[clusters_test==1]),\n",
    "                 abs(y_pred_BLR2 - y_test[clusters_test==2]),\n",
    "                 abs(y_pred_BLR3 - y_test[clusters_test==3])])\n",
    "\n",
    "# MAE\n",
    "print(\"MAE=\",np.mean(joint))"
   ]
  },
  {
   "cell_type": "markdown",
   "metadata": {
    "id": "YGmB9BNkoIDr"
   },
   "source": [
    "### PPC on the Test set\n",
    "\n"
   ]
  },
  {
   "cell_type": "code",
   "execution_count": 52,
   "metadata": {},
   "outputs": [
    {
     "data": {
      "image/png": "[encoded data removed]",
      "text/plain": [
       "<Figure size 432x288 with 1 Axes>"
      ]
     },
     "metadata": {
      "needs_background": "light"
     },
     "output_type": "display_data"
    }
   ],
   "source": [
    "## Posterior predictive checks (PPCs)\n",
    "\n",
    "num_samples2 = 200\n",
    "Ypred0 = ppc(posterior0['alpha'],posterior0['beta'],posterior0['sigma_n'],Xtestn0, nsamples=num_samples2)\n",
    "Ypred1 = ppc(posterior1['alpha'],posterior1['beta'],posterior1['sigma_n'],Xtestn1, nsamples=num_samples2)\n",
    "Ypred2 = ppc(posterior2['alpha'],posterior2['beta'],posterior2['sigma_n'],Xtestn2, nsamples=num_samples2)\n",
    "Ypred3 = ppc(posterior3['alpha'],posterior3['beta'],posterior3['sigma_n'],Xtestn3, nsamples=num_samples2)\n",
    "\n",
    "# Stack arrays in sequence horizontally (column wise)\n",
    "Ypred = np.hstack([yscaler0.inverse_transform(Ypred0),\n",
    "                 yscaler1.inverse_transform(Ypred1),\n",
    "                 yscaler2.inverse_transform(Ypred2),\n",
    "                 yscaler3.inverse_transform(Ypred3)])\n",
    "\n",
    "# plot prediction shape\n",
    "for i in range(Ypred.shape[0]):\n",
    "    az.plot_dist( Ypred[i,:],color='r',plot_kwargs={\"linewidth\": 0.2})\n",
    "# label\n",
    "az.plot_dist(Ypred[i,:],color='r',plot_kwargs={\"linewidth\": 0.2}, label=\"prediction\")\n",
    "\n",
    "# true observations\n",
    "az.plot_dist(np.log(y_test),label='true observations');\n",
    "plt.legend()\n",
    "plt.xlabel(\"log(y) - output variable\")\n",
    "plt.ylabel(\"density plot\");"
   ]
  },
  {
   "cell_type": "markdown",
   "metadata": {
    "id": "f0GYCpwEM09T"
   },
   "source": [
    "# SUMMARY"
   ]
  }
 ],
 "metadata": {
  "colab": {
   "name": "ET5003_Etivity2_template.ipynb",
   "provenance": []
  },
  "kernelspec": {
   "display_name": "Python 3",
   "language": "python",
   "name": "python3"
  },
  "language_info": {
   "codemirror_mode": {
    "name": "ipython",
    "version": 3
   },
   "file_extension": ".py",
   "mimetype": "text/x-python",
   "name": "python",
   "nbconvert_exporter": "python",
   "pygments_lexer": "ipython3",
   "version": "3.7.4"
  }
 },
 "nbformat": 4,
 "nbformat_minor": 1
}
