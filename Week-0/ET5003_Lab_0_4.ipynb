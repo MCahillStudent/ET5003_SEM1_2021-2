{
 "cells": [
  {
   "cell_type": "markdown",
   "metadata": {
    "id": "RdDALp2mSxV3"
   },
   "source": [
    "<div>\n",
    "<img src=\"https://drive.google.com/uc?export=view&id=1vK33e_EqaHgBHcbRV_m38hx6IkG0blK_\" width=\"350\"/>\n",
    "</div> \n",
    "\n",
    "# **Artificial Intelligence - MSc**\n",
    "ET5003 - MACHINE LEARNING APPLICATIONS \n",
    "\n",
    "### Instructor: Enrique Naredo\n",
    "### ET5003_Lab-0.4\n",
    "### Student Name: Xiaoming Zhang\n",
    "### Student No.: 20158327"
   ]
  },
  {
   "cell_type": "markdown",
   "metadata": {
    "id": "btye9kkOe7aR"
   },
   "source": [
    "## Problem 6\n",
    "\n",
    "Create a function that returns `true` if a given inequality expression is correct and `false` otherwise.\n",
    "\n",
    "Examples\n",
    ">correct_signs(\"3 < 7 < 11\") ➞ True\n",
    ">\n",
    ">correct_signs(\"13 > 44 > 33 > 1\") ➞ False\n",
    ">\n",
    ">correct_signs(\"1 < 2 < 6 < 9 > 3\") ➞ True\n"
   ]
  },
  {
   "cell_type": "code",
   "execution_count": 1,
   "metadata": {},
   "outputs": [],
   "source": [
    "def correct_signs(str_expression):\n",
    "    str = str_expression.replace(\"<\", \",\")\n",
    "    str = str.replace(\">\", \",\")\n",
    "    numbers = str.split(\",\")\n",
    "    numbers = [i.strip() for i in numbers]\n",
    "    print(f'Numbers:{numbers}')\n",
    "\n",
    "    signs = []\n",
    "    for i in str_expression:\n",
    "        if i in '<>':\n",
    "            signs.append(i)\n",
    "    print(f'Sings: {signs}')\n",
    "\n",
    "    for i in range(len(signs)):\n",
    "        if signs[i] == '<':\n",
    "            if int(numbers[i]) >= int(numbers[i + 1]):\n",
    "                return False\n",
    "        elif signs[i] == '>':\n",
    "            if int(numbers[i]) <= int(numbers[i + 1]):\n",
    "                return False\n",
    "    return True"
   ]
  },
  {
   "cell_type": "code",
   "execution_count": 2,
   "metadata": {},
   "outputs": [
    {
     "name": "stdout",
     "output_type": "stream",
     "text": [
      "Numbers:['3', '7', '11']\n",
      "Sings: ['<', '<']\n"
     ]
    },
    {
     "data": {
      "text/plain": [
       "True"
      ]
     },
     "execution_count": 2,
     "metadata": {},
     "output_type": "execute_result"
    }
   ],
   "source": [
    "correct_signs(\"3 < 7 < 11\")"
   ]
  },
  {
   "cell_type": "code",
   "execution_count": 3,
   "metadata": {},
   "outputs": [
    {
     "name": "stdout",
     "output_type": "stream",
     "text": [
      "Numbers:['13', '44', '33', '1']\n",
      "Sings: ['>', '>', '>']\n"
     ]
    },
    {
     "data": {
      "text/plain": [
       "False"
      ]
     },
     "execution_count": 3,
     "metadata": {},
     "output_type": "execute_result"
    }
   ],
   "source": [
    "correct_signs(\"13 > 44 > 33 > 1\")"
   ]
  },
  {
   "cell_type": "code",
   "execution_count": 4,
   "metadata": {},
   "outputs": [
    {
     "name": "stdout",
     "output_type": "stream",
     "text": [
      "Numbers:['1', '2', '6', '9', '3']\n",
      "Sings: ['<', '<', '<', '>']\n"
     ]
    },
    {
     "data": {
      "text/plain": [
       "True"
      ]
     },
     "execution_count": 4,
     "metadata": {},
     "output_type": "execute_result"
    }
   ],
   "source": [
    "correct_signs(\"1 < 2 < 6 < 9 > 3\")"
   ]
  },
  {
   "cell_type": "markdown",
   "metadata": {
    "id": "K_Zxu8rwe7aS"
   },
   "source": [
    "## Problem 7\n",
    "\n",
    "Write a function that takes a list and a number as arguments. Add the number to the end of the list, then remove the first element of the list. The function should then return the updated list.\n",
    "\n",
    "Examples\n",
    ">next_in_line([5, 6, 7, 8, 9], 1) ➞ [6, 7, 8, 9, 1]\n",
    ">\n",
    ">next_in_line([7, 6, 3, 23, 17], 10) ➞ [6, 3, 23, 17, 10]\n",
    ">\n",
    ">next_in_line([1, 10, 20, 42 ], 6) ➞ [10, 20, 42, 6]\n",
    ">\n",
    ">next_in_line([], 6) ➞ \"No list has been selected\"\n",
    "\n",
    "Notes\n",
    "\n",
    "    For an empty list input, return: \"No list has been selected\""
   ]
  },
  {
   "cell_type": "code",
   "execution_count": 5,
   "metadata": {},
   "outputs": [],
   "source": [
    "def next_in_line(lst, number):\n",
    "    if len(lst) == 0:\n",
    "        return \"No list has been selected\"\n",
    "    else:\n",
    "        return lst[1:] + [number]"
   ]
  },
  {
   "cell_type": "code",
   "execution_count": 6,
   "metadata": {},
   "outputs": [
    {
     "data": {
      "text/plain": [
       "[6, 7, 8, 9, 1]"
      ]
     },
     "execution_count": 6,
     "metadata": {},
     "output_type": "execute_result"
    }
   ],
   "source": [
    "next_in_line([5, 6, 7, 8, 9], 1)"
   ]
  },
  {
   "cell_type": "code",
   "execution_count": 7,
   "metadata": {},
   "outputs": [
    {
     "data": {
      "text/plain": [
       "[6, 3, 23, 17, 10]"
      ]
     },
     "execution_count": 7,
     "metadata": {},
     "output_type": "execute_result"
    }
   ],
   "source": [
    "next_in_line([7, 6, 3, 23, 17], 10)"
   ]
  },
  {
   "cell_type": "code",
   "execution_count": 8,
   "metadata": {},
   "outputs": [
    {
     "data": {
      "text/plain": [
       "[10, 20, 42, 6]"
      ]
     },
     "execution_count": 8,
     "metadata": {},
     "output_type": "execute_result"
    }
   ],
   "source": [
    "next_in_line([1, 10, 20, 42 ], 6)"
   ]
  },
  {
   "cell_type": "code",
   "execution_count": 9,
   "metadata": {},
   "outputs": [
    {
     "data": {
      "text/plain": [
       "'No list has been selected'"
      ]
     },
     "execution_count": 9,
     "metadata": {},
     "output_type": "execute_result"
    }
   ],
   "source": [
    "next_in_line([], 6)"
   ]
  },
  {
   "cell_type": "markdown",
   "metadata": {
    "id": "ZIwJZ4lVe7aS"
   },
   "source": [
    "## Problem 8\n",
    "Create a function that takes a list of strings and integers, and filters out the list so that it returns a list of integers only.\n",
    "\n",
    "Examples\n",
    ">filter_list([1, 2, 3, \"a\", \"b\", 4]) ➞ [1, 2, 3, 4]\n",
    ">\n",
    ">filter_list([\"A\", 0, \"Edabit\", 1729, \"Python\", \"1729\"]) ➞ [0, 1729]\n",
    ">\n",
    ">filter_list([\"Nothing\", \"here\"]) ➞ []\n",
    "\n",
    "Notes\n",
    "    \n",
    "    Don't overthink this one."
   ]
  },
  {
   "cell_type": "code",
   "execution_count": 10,
   "metadata": {},
   "outputs": [],
   "source": [
    "def filter_list(lst):\n",
    "    result = []\n",
    "    for i in lst:\n",
    "        if isinstance(i, int):\n",
    "            result.append(i)\n",
    "    return result"
   ]
  },
  {
   "cell_type": "code",
   "execution_count": 11,
   "metadata": {},
   "outputs": [
    {
     "data": {
      "text/plain": [
       "[1, 2, 3, 4]"
      ]
     },
     "execution_count": 11,
     "metadata": {},
     "output_type": "execute_result"
    }
   ],
   "source": [
    "filter_list([1, 2, 3, \"a\", \"b\", 4])"
   ]
  },
  {
   "cell_type": "code",
   "execution_count": 12,
   "metadata": {},
   "outputs": [
    {
     "data": {
      "text/plain": [
       "[0, 1729]"
      ]
     },
     "execution_count": 12,
     "metadata": {},
     "output_type": "execute_result"
    }
   ],
   "source": [
    "filter_list([\"A\", 0, \"Edabit\", 1729, \"Python\", \"1729\"])"
   ]
  },
  {
   "cell_type": "code",
   "execution_count": 13,
   "metadata": {},
   "outputs": [
    {
     "data": {
      "text/plain": [
       "[]"
      ]
     },
     "execution_count": 13,
     "metadata": {},
     "output_type": "execute_result"
    }
   ],
   "source": [
    "filter_list([\"Nothing\", \"here\"])"
   ]
  },
  {
   "cell_type": "markdown",
   "metadata": {
    "id": "F8pmcBBke7aS"
   },
   "source": [
    "## Problem 9\n",
    "\n",
    "A set is a collection of unique items. A set can be formed from a list from removing all duplicate items.\n",
    "\n",
    ">[1, 3, 3, 5, 5, 5]\n",
    ">\\# original list\n",
    ">\n",
    ">[1, 3, 5]\n",
    ">\\# original list transformed into a set\n",
    "\n",
    "Create a function that sorts a list and removes all duplicate items from it.\n",
    "\n",
    "Examples\n",
    "\n",
    ">setify([1, 3, 3, 5, 5]) ➞ [1, 3, 5]\n",
    ">\n",
    ">setify([4, 4, 4, 4]) ➞ [4]\n",
    ">\n",
    ">setify([5, 7, 8, 9, 10, 15]) ➞ [5, 7, 8, 9, 10, 15]\n",
    "\n",
    ">setify([3, 3, 3, 2, 1]) ➞ [1, 2, 3]\n",
    "\n",
    "Notes\n",
    "    \n",
    "    Return a sorted list."
   ]
  },
  {
   "cell_type": "code",
   "execution_count": 14,
   "metadata": {},
   "outputs": [],
   "source": [
    "def setify(lst):\n",
    "    return list(dict.fromkeys(lst))"
   ]
  },
  {
   "cell_type": "code",
   "execution_count": 15,
   "metadata": {},
   "outputs": [
    {
     "data": {
      "text/plain": [
       "[1, 3, 5]"
      ]
     },
     "execution_count": 15,
     "metadata": {},
     "output_type": "execute_result"
    }
   ],
   "source": [
    "setify([1, 3, 3, 5, 5])"
   ]
  },
  {
   "cell_type": "code",
   "execution_count": 16,
   "metadata": {},
   "outputs": [
    {
     "data": {
      "text/plain": [
       "[4]"
      ]
     },
     "execution_count": 16,
     "metadata": {},
     "output_type": "execute_result"
    }
   ],
   "source": [
    "setify([4, 4, 4, 4])"
   ]
  },
  {
   "cell_type": "code",
   "execution_count": 17,
   "metadata": {},
   "outputs": [
    {
     "data": {
      "text/plain": [
       "[5, 7, 8, 9, 10, 15]"
      ]
     },
     "execution_count": 17,
     "metadata": {},
     "output_type": "execute_result"
    }
   ],
   "source": [
    "setify([5, 7, 8, 9, 10, 15])"
   ]
  },
  {
   "cell_type": "code",
   "execution_count": 18,
   "metadata": {},
   "outputs": [
    {
     "data": {
      "text/plain": [
       "[3, 2, 1]"
      ]
     },
     "execution_count": 18,
     "metadata": {},
     "output_type": "execute_result"
    }
   ],
   "source": [
    "setify([3, 3, 3, 2, 1])"
   ]
  },
  {
   "cell_type": "markdown",
   "metadata": {
    "id": "7aBfUayoe7aT"
   },
   "source": [
    "## Problem 10\n",
    "Create a function that takes a string and returns a new string with all vowels removed.\n",
    "\n",
    "Examples:\n",
    ">remove_vowels(\"I have never seen a thin person drinking Diet Coke.\")\n",
    "➞ \" hv nvr sn  thn prsn drnkng Dt Ck.\"\n",
    ">\n",
    ">remove_vowels(\"We're gonna build a wall!\")\n",
    "➞ \"W'r gnn bld  wll!\"\n",
    ">\n",
    ">remove_vowels(\"Happy Thanksgiving to all--even the haters and losers!\")\n",
    "➞ \"Hppy Thnksgvng t ll--vn th htrs nd lsrs!\""
   ]
  },
  {
   "cell_type": "code",
   "execution_count": 19,
   "metadata": {},
   "outputs": [],
   "source": [
    "def remove_vowels(str):\n",
    "    words = str.split(' ')\n",
    "    new_words = []\n",
    "\n",
    "    for word in words:\n",
    "        new_word = ''\n",
    "        for i in word:\n",
    "            if i.lower() not in 'aeiou':\n",
    "                new_word = new_word + i\n",
    "        new_words.append(new_word)\n",
    "    return ' '.join(new_words)\n",
    "            "
   ]
  },
  {
   "cell_type": "code",
   "execution_count": 20,
   "metadata": {},
   "outputs": [
    {
     "data": {
      "text/plain": [
       "' hv nvr sn  thn prsn drnkng Dt Ck.'"
      ]
     },
     "execution_count": 20,
     "metadata": {},
     "output_type": "execute_result"
    }
   ],
   "source": [
    "remove_vowels(\"I have never seen a thin person drinking Diet Coke.\")"
   ]
  },
  {
   "cell_type": "code",
   "execution_count": 21,
   "metadata": {},
   "outputs": [
    {
     "data": {
      "text/plain": [
       "\"W'r gnn bld  wll!\""
      ]
     },
     "execution_count": 21,
     "metadata": {},
     "output_type": "execute_result"
    }
   ],
   "source": [
    "remove_vowels(\"We're gonna build a wall!\") "
   ]
  },
  {
   "cell_type": "code",
   "execution_count": 22,
   "metadata": {},
   "outputs": [
    {
     "data": {
      "text/plain": [
       "'Hppy Thnksgvng t ll--vn th htrs nd lsrs!'"
      ]
     },
     "execution_count": 22,
     "metadata": {},
     "output_type": "execute_result"
    }
   ],
   "source": [
    "remove_vowels(\"Happy Thanksgiving to all--even the haters and losers!\")"
   ]
  },
  {
   "cell_type": "markdown",
   "metadata": {},
   "source": [
    "End"
   ]
  }
 ],
 "metadata": {
  "colab": {
   "name": "ET5003_Lab_0_4.ipynb",
   "provenance": []
  },
  "kernelspec": {
   "display_name": "Python 3",
   "language": "python",
   "name": "python3"
  },
  "language_info": {
   "codemirror_mode": {
    "name": "ipython",
    "version": 3
   },
   "file_extension": ".py",
   "mimetype": "text/x-python",
   "name": "python",
   "nbconvert_exporter": "python",
   "pygments_lexer": "ipython3",
   "version": "3.7.4"
  }
 },
 "nbformat": 4,
 "nbformat_minor": 1
}
