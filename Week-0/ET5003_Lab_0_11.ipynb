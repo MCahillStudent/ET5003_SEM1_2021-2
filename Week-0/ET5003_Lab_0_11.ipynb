{
 "cells": [
  {
   "cell_type": "markdown",
   "metadata": {
    "id": "HSOQRTToa-OX"
   },
   "source": [
    "<div>\n",
    "<img src=\"https://drive.google.com/uc?export=view&id=1vK33e_EqaHgBHcbRV_m38hx6IkG0blK_\" width=\"350\"/>\n",
    "</div> \n",
    "\n",
    "# **Artificial Intelligence - MSc**\n",
    "ET5003 - MACHINE LEARNING APPLICATIONS \n",
    "\n",
    "### Instructor: Enrique Naredo\n",
    "### ET5003_Lab-0.11\n",
    "### Student Name: Xiaoming Zhang\n",
    "### Student No.: 20158327"
   ]
  },
  {
   "cell_type": "markdown",
   "metadata": {
    "id": "IHknF0wiQUZL"
   },
   "source": [
    "# Matplotlib exercises"
   ]
  },
  {
   "cell_type": "code",
   "execution_count": 1,
   "metadata": {
    "id": "Di6gjJFQkVX4"
   },
   "outputs": [],
   "source": [
    "import numpy as np\n",
    "import matplotlib.pyplot as plt"
   ]
  },
  {
   "cell_type": "markdown",
   "metadata": {
    "id": "WZvDCqcVkVX7"
   },
   "source": [
    "# Problem 1\n",
    "Plot a scatter plot of Data using the first column as x and the first column as y, using red points."
   ]
  },
  {
   "cell_type": "code",
   "execution_count": 2,
   "metadata": {
    "id": "Jm62Xq6pkVX7"
   },
   "outputs": [],
   "source": [
    "#input\n",
    "x=np.random.randn(15)\n",
    "Data=np.hstack([x[:,None],x[:,None]])"
   ]
  },
  {
   "cell_type": "code",
   "execution_count": 3,
   "metadata": {},
   "outputs": [
    {
     "data": {
      "text/plain": [
       "array([[ 1.72363315,  1.72363315],\n",
       "       [ 1.0065041 ,  1.0065041 ],\n",
       "       [-0.20502885, -0.20502885],\n",
       "       [-1.42957207, -1.42957207],\n",
       "       [-0.35317023, -0.35317023],\n",
       "       [ 0.14010437,  0.14010437],\n",
       "       [-0.42576111, -0.42576111],\n",
       "       [-1.0322355 , -1.0322355 ],\n",
       "       [ 0.53538152,  0.53538152],\n",
       "       [ 0.84951731,  0.84951731],\n",
       "       [ 1.24619094,  1.24619094],\n",
       "       [-0.3142223 , -0.3142223 ],\n",
       "       [ 1.81075452,  1.81075452],\n",
       "       [-0.86028807, -0.86028807],\n",
       "       [ 0.37103479,  0.37103479]])"
      ]
     },
     "execution_count": 3,
     "metadata": {},
     "output_type": "execute_result"
    }
   ],
   "source": [
    "Data"
   ]
  },
  {
   "cell_type": "code",
   "execution_count": 4,
   "metadata": {},
   "outputs": [
    {
     "data": {
      "image/png": "[encoded data removed]",
      "text/plain": [
       "<Figure size 432x288 with 1 Axes>"
      ]
     },
     "metadata": {
      "needs_background": "light"
     },
     "output_type": "display_data"
    }
   ],
   "source": [
    "plt.plot(Data[:,0], Data[:,0], 'o', color='red')\n",
    "plt.show()"
   ]
  },
  {
   "cell_type": "markdown",
   "metadata": {
    "id": "OsB6k6QBkVX7"
   },
   "source": [
    "# Problem 2\n",
    "Plot a scatter plot of Data using the first column as x and the first column as y,\n",
    "and add the label \"x\" and \"y\" to the respective columns using `fontsize` 14."
   ]
  },
  {
   "cell_type": "code",
   "execution_count": 5,
   "metadata": {},
   "outputs": [
    {
     "data": {
      "image/png": "[encoded data removed]",
      "text/plain": [
       "<Figure size 432x288 with 1 Axes>"
      ]
     },
     "metadata": {
      "needs_background": "light"
     },
     "output_type": "display_data"
    }
   ],
   "source": [
    "plt.plot(Data[:,0], Data[:,0], 'o', color='red')\n",
    "plt.xlabel('x', fontsize=14)\n",
    "plt.ylabel('y', fontsize=14)\n",
    "plt.show()"
   ]
  },
  {
   "cell_type": "markdown",
   "metadata": {
    "id": "mEuOjzMdkVX8"
   },
   "source": [
    "# Problem 4\n",
    "Plot the graph of the function $\\cos(8 x)$ for $x \\in[0,1]$ and add the label \"x\" and \"cos(8x)\" to the respective columns using `fontsize` 14."
   ]
  },
  {
   "cell_type": "code",
   "execution_count": 6,
   "metadata": {},
   "outputs": [
    {
     "data": {
      "image/png": "[encoded data removed]",
      "text/plain": [
       "<Figure size 432x288 with 1 Axes>"
      ]
     },
     "metadata": {
      "needs_background": "light"
     },
     "output_type": "display_data"
    }
   ],
   "source": [
    "x = np.arange(0, 1, 0.01)\n",
    "y = np.cos(8 * x)\n",
    "\n",
    "plt.plot(x, y, 'o', color='red')\n",
    "plt.xlabel('x', fontsize=14)\n",
    "plt.ylabel('cos(8x)', fontsize=14)\n",
    "plt.show()"
   ]
  },
  {
   "cell_type": "markdown",
   "metadata": {
    "id": "D0TN4Qq9kVX8"
   },
   "source": [
    "# Problem 5\n",
    "Plot the histogram of Data using 30 bins."
   ]
  },
  {
   "cell_type": "code",
   "execution_count": 7,
   "metadata": {
    "id": "9dV03B5skVX8"
   },
   "outputs": [],
   "source": [
    "#input\n",
    "Data=np.random.randn(2000)"
   ]
  },
  {
   "cell_type": "code",
   "execution_count": 8,
   "metadata": {},
   "outputs": [
    {
     "data": {
      "image/png": "[encoded data removed]",
      "text/plain": [
       "<Figure size 432x288 with 1 Axes>"
      ]
     },
     "metadata": {
      "needs_background": "light"
     },
     "output_type": "display_data"
    }
   ],
   "source": [
    "plt.hist(Data, bins=30);"
   ]
  },
  {
   "cell_type": "markdown",
   "metadata": {},
   "source": [
    "### End"
   ]
  }
 ],
 "metadata": {
  "colab": {
   "name": "ET5003_Lab-0_11.ipynb",
   "provenance": []
  },
  "kernelspec": {
   "display_name": "Python 3",
   "language": "python",
   "name": "python3"
  },
  "language_info": {
   "codemirror_mode": {
    "name": "ipython",
    "version": 3
   },
   "file_extension": ".py",
   "mimetype": "text/x-python",
   "name": "python",
   "nbconvert_exporter": "python",
   "pygments_lexer": "ipython3",
   "version": "3.7.4"
  }
 },
 "nbformat": 4,
 "nbformat_minor": 1
}
