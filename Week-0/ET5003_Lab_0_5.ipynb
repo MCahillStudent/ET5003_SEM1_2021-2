{
 "cells": [
  {
   "cell_type": "markdown",
   "metadata": {
    "id": "Bh9wtXzRTTC_"
   },
   "source": [
    "<div>\n",
    "<img src=\"https://drive.google.com/uc?export=view&id=1vK33e_EqaHgBHcbRV_m38hx6IkG0blK_\" width=\"350\"/>\n",
    "</div> \n",
    "\n",
    "# **Artificial Intelligence - MSc**\n",
    "ET5003 - MACHINE LEARNING APPLICATIONS \n",
    "\n",
    "### Instructor: Enrique Naredo\n",
    "### ET5003_Lab-0.5\n",
    "### Student Name: Xiaoming Zhang\n",
    "### Student No.: 20158327"
   ]
  },
  {
   "cell_type": "markdown",
   "metadata": {
    "id": "04pGqRnTe7aT"
   },
   "source": [
    "## Problem 11\n",
    "Create a function that returns the sum of all even elements in a 2D matrix.\n",
    "\n",
    "Examples\n",
    ">sum_of_evens([\n",
    "  [1, 0, 2],\n",
    "  [5, 5, 7],\n",
    "  [9, 4, 3]\n",
    "]) ➞ 6\n",
    ">\n",
    ">sum_of_evens([\n",
    "  [1, 1],\n",
    "  [1, 1]\n",
    "]) ➞ 0\n",
    ">\n",
    ">sum_of_evens([\n",
    "  [42, 9],\n",
    "  [16, 8]\n",
    "]) ➞ 66\n",
    ">\n",
    ">sum_of_evens([\n",
    "  [],\n",
    "  [],\n",
    "  []\n",
    "]) ➞ 0\n",
    "\n",
    "Notes\n",
    "\n",
    "    Submatrices will be of equal length.\n",
    "    Return 0 if the 2D matrix only consists of empty submatrices."
   ]
  },
  {
   "cell_type": "code",
   "execution_count": 1,
   "metadata": {},
   "outputs": [],
   "source": [
    "def sum_of_evens(lst):\n",
    "    result = 0\n",
    "    row_len = len(lst)\n",
    "    col_len = len(lst[0])\n",
    "\n",
    "    for i in range(row_len):\n",
    "        for j in range(col_len):\n",
    "            if lst[i][j]%2 == 0:\n",
    "                result = result + lst[i][j]\n",
    "    return result"
   ]
  },
  {
   "cell_type": "code",
   "execution_count": 2,
   "metadata": {},
   "outputs": [
    {
     "data": {
      "text/plain": [
       "6"
      ]
     },
     "execution_count": 2,
     "metadata": {},
     "output_type": "execute_result"
    }
   ],
   "source": [
    "sum_of_evens([ [1, 0, 2], [5, 5, 7], [9, 4, 3] ])"
   ]
  },
  {
   "cell_type": "code",
   "execution_count": 3,
   "metadata": {},
   "outputs": [
    {
     "data": {
      "text/plain": [
       "0"
      ]
     },
     "execution_count": 3,
     "metadata": {},
     "output_type": "execute_result"
    }
   ],
   "source": [
    "sum_of_evens([ [1, 1], [1, 1] ]) "
   ]
  },
  {
   "cell_type": "code",
   "execution_count": 4,
   "metadata": {},
   "outputs": [
    {
     "data": {
      "text/plain": [
       "66"
      ]
     },
     "execution_count": 4,
     "metadata": {},
     "output_type": "execute_result"
    }
   ],
   "source": [
    "sum_of_evens([ [42, 9], [16, 8] ])"
   ]
  },
  {
   "cell_type": "code",
   "execution_count": 5,
   "metadata": {},
   "outputs": [
    {
     "data": {
      "text/plain": [
       "0"
      ]
     },
     "execution_count": 5,
     "metadata": {},
     "output_type": "execute_result"
    }
   ],
   "source": [
    "sum_of_evens([ [], [], [] ])"
   ]
  },
  {
   "cell_type": "markdown",
   "metadata": {
    "id": "_NDCiZ36e7aT"
   },
   "source": [
    "## Problem 12\n",
    "In each input list, every number repeats at least once, except for two. Write a function that returns the two unique numbers.\n",
    "\n",
    "Examples\n",
    ">return_unique([1, 9, 8, 8, 7, 6, 1, 6]) ➞ [9, 7]\n",
    ">\n",
    ">return_unique([5, 5, 2, 4, 4, 4, 9, 9, 9, 1]) ➞ [2, 1]\n",
    ">\n",
    ">return_unique([9, 5, 6, 8, 7, 7, 1, 1, 1, 1, 1, 9, 8]) ➞ [5, 6]\n",
    "\n",
    "Notes\n",
    "\n",
    "    Keep the same ordering in the output."
   ]
  },
  {
   "cell_type": "code",
   "execution_count": 6,
   "metadata": {},
   "outputs": [],
   "source": [
    "def return_unique(lst):\n",
    "    result_list = []\n",
    "    duplicated_list = []\n",
    "\n",
    "    lst_len = len(lst)\n",
    "    for i in range(lst_len):\n",
    "        is_duplicated = False\n",
    "        if lst[i] not in duplicated_list:\n",
    "            for j in range(i+1, lst_len):\n",
    "                if lst[i] == lst[j]:\n",
    "                    is_duplicated = True\n",
    "                    duplicated_list.append(lst[i])\n",
    "                    break\n",
    "\n",
    "            if not is_duplicated:\n",
    "                result_list.append(lst[i])\n",
    "\n",
    "    return result_list"
   ]
  },
  {
   "cell_type": "code",
   "execution_count": 7,
   "metadata": {},
   "outputs": [
    {
     "data": {
      "text/plain": [
       "[9, 7]"
      ]
     },
     "execution_count": 7,
     "metadata": {},
     "output_type": "execute_result"
    }
   ],
   "source": [
    "return_unique([1, 9, 8, 8, 7, 6, 1, 6])"
   ]
  },
  {
   "cell_type": "code",
   "execution_count": 8,
   "metadata": {},
   "outputs": [
    {
     "data": {
      "text/plain": [
       "[2, 1]"
      ]
     },
     "execution_count": 8,
     "metadata": {},
     "output_type": "execute_result"
    }
   ],
   "source": [
    "return_unique([5, 5, 2, 4, 4, 4, 9, 9, 9, 1])"
   ]
  },
  {
   "cell_type": "code",
   "execution_count": 9,
   "metadata": {},
   "outputs": [
    {
     "data": {
      "text/plain": [
       "[5, 6]"
      ]
     },
     "execution_count": 9,
     "metadata": {},
     "output_type": "execute_result"
    }
   ],
   "source": [
    "return_unique([9, 5, 6, 8, 7, 7, 1, 1, 1, 1, 1, 9, 8])"
   ]
  },
  {
   "cell_type": "markdown",
   "metadata": {
    "id": "4ppr2nFMe7aU"
   },
   "source": [
    "## Problem 13\n",
    "This is a reverse coding challenge. Normally you're given explicit directions with how to create a function. Here, you must generate your own function to satisfy the relationship between the inputs and outputs.\n",
    "\n",
    "Your task is to create a function that, when fed the inputs below, produces the sample outputs shown.\n",
    "\n",
    ">mystery_func(152) ➞ 10\n",
    ">\n",
    ">mystery_func(832) ➞ 48\n",
    ">\n",
    ">mystery_func(19) ➞ 9\n",
    ">\n",
    ">mystery_func(133) ➞ 9"
   ]
  },
  {
   "cell_type": "code",
   "execution_count": 10,
   "metadata": {},
   "outputs": [],
   "source": [
    "def mystery_func(n):\n",
    "    result = 1\n",
    "    digits = [int(x) for x in str(n)]\n",
    "    for i in range(len(digits)):\n",
    "        result = result * digits[i]\n",
    "        \n",
    "    return result"
   ]
  },
  {
   "cell_type": "code",
   "execution_count": 11,
   "metadata": {},
   "outputs": [
    {
     "data": {
      "text/plain": [
       "10"
      ]
     },
     "execution_count": 11,
     "metadata": {},
     "output_type": "execute_result"
    }
   ],
   "source": [
    "mystery_func(152)"
   ]
  },
  {
   "cell_type": "code",
   "execution_count": 12,
   "metadata": {},
   "outputs": [
    {
     "data": {
      "text/plain": [
       "48"
      ]
     },
     "execution_count": 12,
     "metadata": {},
     "output_type": "execute_result"
    }
   ],
   "source": [
    "mystery_func(832)"
   ]
  },
  {
   "cell_type": "code",
   "execution_count": 13,
   "metadata": {},
   "outputs": [
    {
     "data": {
      "text/plain": [
       "9"
      ]
     },
     "execution_count": 13,
     "metadata": {},
     "output_type": "execute_result"
    }
   ],
   "source": [
    "mystery_func(19) "
   ]
  },
  {
   "cell_type": "code",
   "execution_count": 14,
   "metadata": {},
   "outputs": [
    {
     "data": {
      "text/plain": [
       "9"
      ]
     },
     "execution_count": 14,
     "metadata": {},
     "output_type": "execute_result"
    }
   ],
   "source": [
    "mystery_func(133)"
   ]
  },
  {
   "cell_type": "markdown",
   "metadata": {
    "id": "dxZaNTX8e7aU"
   },
   "source": [
    "## Problem 14\n",
    "Build a function that creates histograms. Every bar needs to be on a new line and its length corresponds to the numbers in the list passed as an argument. The second argument of the function represents the character that needs to be used.\n",
    "\n",
    "> histogram(lst, char) -> str\n",
    "\n",
    "Examples\n",
    ">histogram([1, 3, 4], \"\\#\") ➞ \"\\#\\n\\#\\#\\#\\n\\#\\#\\#\\#\"\n",
    ">\n",
    ">\\#\n",
    ">\n",
    ">\\###\n",
    ">\n",
    ">\\####\n",
    ">\n",
    ">histogram([6, 2, 15, 3], \"=\") ➞ \"======\\n==\\n===============\\n===\"\n",
    ">\n",
    ">======\n",
    ">\n",
    ">==\n",
    ">\n",
    ">===============\n",
    ">\n",
    ">===\n",
    ">\n",
    ">histogram([1, 10], \"+\") ➞ \"+\\n++++++++++\"\n",
    ">\n",
    ">+\n",
    ">\n",
    ">++++++++++"
   ]
  },
  {
   "cell_type": "code",
   "execution_count": 15,
   "metadata": {},
   "outputs": [],
   "source": [
    "def histogram(lst, char):\n",
    "    result = ''\n",
    "    for i in range(len(lst)):\n",
    "        result = result + f'{char}' * lst[i]\n",
    "        if i != len(lst)-1:\n",
    "            result = result + '\\n'\n",
    "    return result"
   ]
  },
  {
   "cell_type": "code",
   "execution_count": 16,
   "metadata": {},
   "outputs": [
    {
     "data": {
      "text/plain": [
       "'#\\n###\\n####'"
      ]
     },
     "execution_count": 16,
     "metadata": {},
     "output_type": "execute_result"
    }
   ],
   "source": [
    "histogram([1, 3, 4], \"#\")"
   ]
  },
  {
   "cell_type": "code",
   "execution_count": 17,
   "metadata": {},
   "outputs": [
    {
     "data": {
      "text/plain": [
       "'======\\n==\\n===============\\n==='"
      ]
     },
     "execution_count": 17,
     "metadata": {},
     "output_type": "execute_result"
    }
   ],
   "source": [
    "histogram([6, 2, 15, 3], \"=\") "
   ]
  },
  {
   "cell_type": "code",
   "execution_count": 18,
   "metadata": {},
   "outputs": [
    {
     "data": {
      "text/plain": [
       "'+\\n++++++++++'"
      ]
     },
     "execution_count": 18,
     "metadata": {},
     "output_type": "execute_result"
    }
   ],
   "source": [
    "histogram([1, 10], \"+\")"
   ]
  },
  {
   "cell_type": "markdown",
   "metadata": {
    "id": "IQOnaBOBe7aV"
   },
   "source": [
    "## Problem 15\n",
    "This challenge will deal further with writing recursive functions by covering the Euclidean Algorithm. The \"Euclidean Algorithm\" is a method for finding the greatest common divisor (GCD) of two numbers. It was originally described by the Greek mathematician Euclid.\n",
    "Algorithm\n",
    "\n",
    "For the sake of simplicity I'll refer to the first number as \"a\", the second number as \"b\", and the remainder as \"r\". The algorithm can be broken down into four steps:\n",
    "\n",
    "    Ensure that \"a\" >= \"b\". If \"a\" < \"b\", swap them.\n",
    "    Find the remainder. Divide \"a\" by \"b\" and set \"r\" as the remainder.\n",
    "    Is \"r\" zero? If so terminate the function and return \"b\" (the second number).\n",
    "    Set \"a\" = \"b\" and \"b\" = \"r\" and start the algorithm over again.\n",
    "\n",
    "Instructions\n",
    "\n",
    "Create a recursive function that returns the GCD between two positive numbers using the Euclidean Algorithm.\n",
    "\n",
    "Examples\n",
    ">euclidean(8, 6) ➞ 2\n",
    ">\n",
    ">euclidean(25, 5) ➞ 5\n",
    ">\n",
    ">euclidean(49, 14) ➞ 7\n",
    "\n",
    "Notes\n",
    "\n",
    "    Remember that to find the remainder of two numbers use the modulus % operator.\n",
    "    Both numbers will be positive and neither number will be null."
   ]
  },
  {
   "cell_type": "code",
   "execution_count": 19,
   "metadata": {},
   "outputs": [],
   "source": [
    "def euclidean(m,n):\n",
    "    if m >= n:\n",
    "        a = m\n",
    "        b = n\n",
    "    else:\n",
    "        a = n\n",
    "        b = m\n",
    "\n",
    "    r = a%b\n",
    "\n",
    "    if r == 0:\n",
    "        return b\n",
    "\n",
    "    return euclidean(b, r)"
   ]
  },
  {
   "cell_type": "code",
   "execution_count": 20,
   "metadata": {},
   "outputs": [
    {
     "data": {
      "text/plain": [
       "2"
      ]
     },
     "execution_count": 20,
     "metadata": {},
     "output_type": "execute_result"
    }
   ],
   "source": [
    "euclidean(8, 6)"
   ]
  },
  {
   "cell_type": "code",
   "execution_count": 21,
   "metadata": {},
   "outputs": [
    {
     "data": {
      "text/plain": [
       "5"
      ]
     },
     "execution_count": 21,
     "metadata": {},
     "output_type": "execute_result"
    }
   ],
   "source": [
    "euclidean(25, 5) "
   ]
  },
  {
   "cell_type": "code",
   "execution_count": 22,
   "metadata": {},
   "outputs": [
    {
     "data": {
      "text/plain": [
       "7"
      ]
     },
     "execution_count": 22,
     "metadata": {},
     "output_type": "execute_result"
    }
   ],
   "source": [
    "euclidean(49, 14)"
   ]
  },
  {
   "cell_type": "markdown",
   "metadata": {},
   "source": [
    "### End"
   ]
  }
 ],
 "metadata": {
  "colab": {
   "name": "ET5003_Lab_0_5.ipynb",
   "provenance": []
  },
  "kernelspec": {
   "display_name": "Python 3",
   "language": "python",
   "name": "python3"
  },
  "language_info": {
   "codemirror_mode": {
    "name": "ipython",
    "version": 3
   },
   "file_extension": ".py",
   "mimetype": "text/x-python",
   "name": "python",
   "nbconvert_exporter": "python",
   "pygments_lexer": "ipython3",
   "version": "3.7.4"
  }
 },
 "nbformat": 4,
 "nbformat_minor": 1
}
