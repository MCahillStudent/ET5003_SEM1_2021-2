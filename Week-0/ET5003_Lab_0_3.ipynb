{
 "cells": [
  {
   "cell_type": "markdown",
   "metadata": {
    "id": "7EMOVC9CSMWZ"
   },
   "source": [
    "<div>\n",
    "<img src=\"https://drive.google.com/uc?export=view&id=1vK33e_EqaHgBHcbRV_m38hx6IkG0blK_\" width=\"350\"/>\n",
    "</div> \n",
    "\n",
    "# **Artificial Intelligence - MSc**\n",
    "ET5003 - MACHINE LEARNING APPLICATIONS \n",
    "\n",
    "### Instructor: Enrique Naredo\n",
    "### ET5003_Lab-0.3\n",
    "### Student Name: Xiaoming Zhang\n",
    "### Student No.: 20158327"
   ]
  },
  {
   "cell_type": "markdown",
   "metadata": {
    "id": "MO7zz7oze7aL"
   },
   "source": [
    "## Problem 1\n",
    "Create a Python function that takes two numbers as arguments and return their sum.\n",
    "\n",
    "Examples\n",
    "\n",
    ">addition(3, 2) ➞ 5\n",
    ">\n",
    ">addition(-3, -6) ➞ -9\n",
    ">\n",
    ">addition(7, 3) ➞ 10\n",
    "\n",
    "Notes\n",
    "\n",
    "    Don't forget to return the `result`.\n"
   ]
  },
  {
   "cell_type": "code",
   "execution_count": 1,
   "metadata": {
    "id": "nGTUml7pe7aO"
   },
   "outputs": [],
   "source": [
    "##Solution\n",
    "# you could use different name\n",
    "# for your own function\n",
    "def summation(a, b):\n",
    "    return a + b"
   ]
  },
  {
   "cell_type": "code",
   "execution_count": 2,
   "metadata": {
    "id": "dwX41rUEnKaC"
   },
   "outputs": [],
   "source": [
    "def FionnualaAmazingSum(FirstNumber, SecondNumber): \n",
    "  return FirstNumber + SecondNumber"
   ]
  },
  {
   "cell_type": "code",
   "execution_count": 3,
   "metadata": {
    "id": "hsauBOzwqlva"
   },
   "outputs": [],
   "source": [
    "FionnualaAmazingSum(2,4)"
   ]
  },
  {
   "cell_type": "markdown",
   "metadata": {
    "id": "yi_QEoP_e7aP"
   },
   "source": [
    "## Problem 2"
   ]
  },
  {
   "cell_type": "markdown",
   "metadata": {
    "id": "lF73hLWne7aP"
   },
   "source": [
    "Create a function that takes a number as an argument, increments the number by +1 and returns the result.\n",
    "\n",
    "Examples\n",
    "\n",
    ">addition(0) ➞ 1\n",
    ">\n",
    ">addition(9) ➞ 10\n",
    ">\n",
    ">addition(-3) ➞ -2\n",
    "\n"
   ]
  },
  {
   "cell_type": "code",
   "execution_count": 4,
   "metadata": {},
   "outputs": [],
   "source": [
    "def plus_one(a):\n",
    "    return a + 1"
   ]
  },
  {
   "cell_type": "code",
   "execution_count": 5,
   "metadata": {},
   "outputs": [
    {
     "data": {
      "text/plain": [
       "1"
      ]
     },
     "execution_count": 5,
     "metadata": {},
     "output_type": "execute_result"
    }
   ],
   "source": [
    "plus_one(0)"
   ]
  },
  {
   "cell_type": "code",
   "execution_count": 6,
   "metadata": {},
   "outputs": [
    {
     "data": {
      "text/plain": [
       "10"
      ]
     },
     "execution_count": 6,
     "metadata": {},
     "output_type": "execute_result"
    }
   ],
   "source": [
    "plus_one(9)"
   ]
  },
  {
   "cell_type": "code",
   "execution_count": 7,
   "metadata": {},
   "outputs": [
    {
     "data": {
      "text/plain": [
       "-2"
      ]
     },
     "execution_count": 7,
     "metadata": {},
     "output_type": "execute_result"
    }
   ],
   "source": [
    "plus_one(-3)"
   ]
  },
  {
   "cell_type": "markdown",
   "metadata": {
    "id": "F7nPbb2Re7aP"
   },
   "source": [
    "## Problem 3"
   ]
  },
  {
   "cell_type": "markdown",
   "metadata": {
    "id": "MZoaonXIe7aQ"
   },
   "source": [
    "Create a function that takes a string and returns it as an integer.\n",
    "\n",
    "Examples\n",
    "\n",
    ">string_int(\"6\") ➞ 6\n",
    ">\n",
    ">string_int(\"1000\") ➞ 1000\n",
    ">\n",
    ">string_int(\"12\") ➞ 12\n",
    "\n",
    "Notes\n",
    "\n",
    "    All numbers will be whole numbers."
   ]
  },
  {
   "cell_type": "code",
   "execution_count": 8,
   "metadata": {},
   "outputs": [],
   "source": [
    "def string_to_int(str_number):\n",
    "    return int(str_number)"
   ]
  },
  {
   "cell_type": "code",
   "execution_count": 9,
   "metadata": {},
   "outputs": [
    {
     "data": {
      "text/plain": [
       "6"
      ]
     },
     "execution_count": 9,
     "metadata": {},
     "output_type": "execute_result"
    }
   ],
   "source": [
    "string_to_int(\"6\")"
   ]
  },
  {
   "cell_type": "code",
   "execution_count": 10,
   "metadata": {},
   "outputs": [
    {
     "data": {
      "text/plain": [
       "1000"
      ]
     },
     "execution_count": 10,
     "metadata": {},
     "output_type": "execute_result"
    }
   ],
   "source": [
    "string_to_int(\"1000\")"
   ]
  },
  {
   "cell_type": "code",
   "execution_count": 11,
   "metadata": {},
   "outputs": [
    {
     "data": {
      "text/plain": [
       "12"
      ]
     },
     "execution_count": 11,
     "metadata": {},
     "output_type": "execute_result"
    }
   ],
   "source": [
    "string_to_int(\"12\")"
   ]
  },
  {
   "cell_type": "markdown",
   "metadata": {
    "id": "JEr8q-fke7aQ"
   },
   "source": [
    "## Problem 4"
   ]
  },
  {
   "cell_type": "markdown",
   "metadata": {
    "id": "lbOLiTTUe7aQ"
   },
   "source": [
    "Create a function that takes a base number and an exponent number and returns the calculation.\n",
    "\n",
    "Examples\n",
    "\n",
    ">calculate_exponent(5, 5) ➞ 3125\n",
    ">\n",
    ">calculate_exponent(10, 10) ➞ 10000000000\n",
    ">\n",
    ">calculate_exponent(3, 3) ➞ 27\n",
    "\n",
    "Notes\n",
    "\n",
    "    All test inputs will be positive integers.\n"
   ]
  },
  {
   "cell_type": "code",
   "execution_count": 12,
   "metadata": {},
   "outputs": [],
   "source": [
    "def calculate_exponent(number, exp):\n",
    "    return number ** exp"
   ]
  },
  {
   "cell_type": "code",
   "execution_count": 13,
   "metadata": {},
   "outputs": [
    {
     "data": {
      "text/plain": [
       "3125"
      ]
     },
     "execution_count": 13,
     "metadata": {},
     "output_type": "execute_result"
    }
   ],
   "source": [
    "calculate_exponent(5, 5)"
   ]
  },
  {
   "cell_type": "code",
   "execution_count": 14,
   "metadata": {},
   "outputs": [
    {
     "data": {
      "text/plain": [
       "10000000000"
      ]
     },
     "execution_count": 14,
     "metadata": {},
     "output_type": "execute_result"
    }
   ],
   "source": [
    "calculate_exponent(10, 10)"
   ]
  },
  {
   "cell_type": "code",
   "execution_count": 15,
   "metadata": {},
   "outputs": [
    {
     "data": {
      "text/plain": [
       "27"
      ]
     },
     "execution_count": 15,
     "metadata": {},
     "output_type": "execute_result"
    }
   ],
   "source": [
    "calculate_exponent(3, 3)"
   ]
  },
  {
   "cell_type": "markdown",
   "metadata": {
    "id": "duGb44Tre7aR"
   },
   "source": [
    "## Problem 5\n",
    "\n",
    "Create a function that takes an integer and returns the factorial of that integer. That is, the integer multiplied by all positive lower integers.\n",
    "\n",
    "Examples\n",
    "\n",
    ">factorial(3) ➞ 6\n",
    ">\n",
    ">factorial(5) ➞ 120\n",
    ">\n",
    ">factorial(13) ➞ 6227020800\n",
    "\n",
    "Notes\n",
    "\n",
    "    Assume all inputs are greater than or equal to 0."
   ]
  },
  {
   "cell_type": "code",
   "execution_count": 16,
   "metadata": {},
   "outputs": [],
   "source": [
    "def factorial(number):\n",
    "    result = number\n",
    "    for i in range(1, number):\n",
    "        result = result * i\n",
    "        \n",
    "    return result"
   ]
  },
  {
   "cell_type": "code",
   "execution_count": 17,
   "metadata": {},
   "outputs": [
    {
     "data": {
      "text/plain": [
       "6"
      ]
     },
     "execution_count": 17,
     "metadata": {},
     "output_type": "execute_result"
    }
   ],
   "source": [
    "factorial(3)"
   ]
  },
  {
   "cell_type": "code",
   "execution_count": 18,
   "metadata": {},
   "outputs": [
    {
     "data": {
      "text/plain": [
       "120"
      ]
     },
     "execution_count": 18,
     "metadata": {},
     "output_type": "execute_result"
    }
   ],
   "source": [
    "factorial(5)"
   ]
  },
  {
   "cell_type": "code",
   "execution_count": 19,
   "metadata": {},
   "outputs": [
    {
     "data": {
      "text/plain": [
       "6227020800"
      ]
     },
     "execution_count": 19,
     "metadata": {},
     "output_type": "execute_result"
    }
   ],
   "source": [
    "factorial(13)"
   ]
  },
  {
   "cell_type": "markdown",
   "metadata": {},
   "source": [
    "End"
   ]
  }
 ],
 "metadata": {
  "colab": {
   "name": "ET5003_Lab_0_3.ipynb",
   "provenance": []
  },
  "kernelspec": {
   "display_name": "Python 3",
   "language": "python",
   "name": "python3"
  },
  "language_info": {
   "codemirror_mode": {
    "name": "ipython",
    "version": 3
   },
   "file_extension": ".py",
   "mimetype": "text/x-python",
   "name": "python",
   "nbconvert_exporter": "python",
   "pygments_lexer": "ipython3",
   "version": "3.7.4"
  }
 },
 "nbformat": 4,
 "nbformat_minor": 1
}
