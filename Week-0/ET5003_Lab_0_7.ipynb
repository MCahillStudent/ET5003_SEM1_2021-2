{
 "cells": [
  {
   "cell_type": "markdown",
   "metadata": {
    "id": "r9vRZxggUbg6"
   },
   "source": [
    "<div>\n",
    "<img src=\"https://drive.google.com/uc?export=view&id=1vK33e_EqaHgBHcbRV_m38hx6IkG0blK_\" width=\"350\"/>\n",
    "</div> \n",
    "\n",
    "# **Artificial Intelligence - MSc**\n",
    "ET5003 - MACHINE LEARNING APPLICATIONS \n",
    "\n",
    "### Instructor: Enrique Naredo\n",
    "### ET5003_Lab-0.7\n",
    "### Student Name: Xiaoming Zhang\n",
    "### Student No.: 20158327"
   ]
  },
  {
   "cell_type": "markdown",
   "metadata": {
    "id": "PFvNOA7si2d_"
   },
   "source": [
    "# Numpy"
   ]
  },
  {
   "cell_type": "markdown",
   "metadata": {
    "id": "_JcEGZQDi2eC"
   },
   "source": [
    "\n",
    "This part focuses on Numpy, see <a href=\"https://numpy.org/doc/stable/user/quickstart.html\">numpy quickstart tutorial</a>, which I encourage you to reference throughout the course.\n",
    "\n",
    "\n",
    "Some problems about numpy\n",
    "\n"
   ]
  },
  {
   "cell_type": "markdown",
   "metadata": {
    "id": "eGjXvhYEi2eG"
   },
   "source": [
    "# Problem 6\n",
    "Create a 10x10 array with random values and find the minimum and maximum values"
   ]
  },
  {
   "cell_type": "code",
   "execution_count": 1,
   "metadata": {},
   "outputs": [
    {
     "name": "stdout",
     "output_type": "stream",
     "text": [
      "[[0.67412161 0.36978062 0.21822469 0.00454186 0.49925057 0.95745094\n",
      "  0.88490478 0.07786818 0.80036341 0.24042966]\n",
      " [0.17268382 0.9554586  0.03256344 0.44715219 0.68206469 0.80388348\n",
      "  0.31780686 0.18941389 0.49430025 0.46385652]\n",
      " [0.06560519 0.175417   0.66208947 0.74217567 0.48062612 0.40308098\n",
      "  0.23762923 0.48190916 0.0730318  0.57190233]\n",
      " [0.25663166 0.30634322 0.14505072 0.68493589 0.31421042 0.03882955\n",
      "  0.74855735 0.72080551 0.37418073 0.66879077]\n",
      " [0.77897848 0.28859576 0.92187137 0.14101603 0.53426762 0.02575587\n",
      "  0.66521348 0.34456376 0.85899135 0.68584719]\n",
      " [0.29050857 0.43198484 0.22021071 0.42028811 0.84248994 0.83781424\n",
      "  0.5378341  0.98696577 0.9009598  0.36155905]\n",
      " [0.69298678 0.06033678 0.85053517 0.36702049 0.28678867 0.16196243\n",
      "  0.98290664 0.40694222 0.44568786 0.10243862]\n",
      " [0.31643829 0.68958234 0.54002529 0.81514423 0.622018   0.72792732\n",
      "  0.17172887 0.92376279 0.10482833 0.96108506]\n",
      " [0.70017097 0.84303172 0.20245121 0.37451015 0.236751   0.43267681\n",
      "  0.55783592 0.20858844 0.99328069 0.47235789]\n",
      " [0.35412636 0.66911787 0.51265952 0.83690274 0.63121585 0.84671613\n",
      "  0.78512819 0.33379913 0.70950886 0.52490646]]\n",
      "Max: 0.9932806947406019\n",
      "Min: 0.004541857220064616\n"
     ]
    }
   ],
   "source": [
    "import numpy as np\n",
    "import numpy.random\n",
    "Z = np.random.random(100).reshape(10,10)\n",
    "\n",
    "print(Z)\n",
    "print(f'Max: {Z.max()}')\n",
    "print(f'Min: {Z.min()}')"
   ]
  },
  {
   "cell_type": "markdown",
   "metadata": {
    "id": "mzF2KFJdi2eG"
   },
   "source": [
    "# Problem 7\n",
    "Create a random vector of size 30 and find the mean value "
   ]
  },
  {
   "cell_type": "code",
   "execution_count": 2,
   "metadata": {},
   "outputs": [
    {
     "name": "stdout",
     "output_type": "stream",
     "text": [
      "[0.12415287 0.91122684 0.1405905  0.51460844 0.33731799 0.64530205\n",
      " 0.07291681 0.90062185 0.28795872 0.70726424 0.96443878 0.77513675\n",
      " 0.36282409 0.45924999 0.55845302 0.38087889 0.98952078 0.64630814\n",
      " 0.73350082 0.86726871 0.4150738  0.16272121 0.35272896 0.8145939\n",
      " 0.60070862 0.72080393 0.27491505 0.35515729 0.26535982 0.85468617]\n",
      "Mean: 0.5398763006387371\n"
     ]
    }
   ],
   "source": [
    "Z = np.random.random(30)\n",
    "\n",
    "print(Z)\n",
    "print(f'Mean: {Z.mean()}')"
   ]
  },
  {
   "cell_type": "markdown",
   "metadata": {
    "id": "8hbO1bKni2eH"
   },
   "source": [
    "# Problem 8\n",
    "Create a 5x5 matrix with values 1,2,3,4 just below the diagonal"
   ]
  },
  {
   "cell_type": "code",
   "execution_count": 3,
   "metadata": {},
   "outputs": [
    {
     "name": "stdout",
     "output_type": "stream",
     "text": [
      "[[0. 0. 0. 0. 0.]\n",
      " [1. 0. 0. 0. 0.]\n",
      " [1. 2. 0. 0. 0.]\n",
      " [1. 2. 3. 0. 0.]\n",
      " [1. 2. 3. 4. 0.]]\n"
     ]
    }
   ],
   "source": [
    "a = np.zeros(25).reshape(5,5)\n",
    "\n",
    "for i in range(5):\n",
    "    for j in range(i):\n",
    "        a[i,j] = j + 1\n",
    "print(a)"
   ]
  },
  {
   "cell_type": "markdown",
   "metadata": {
    "id": "XRUmWno7i2eH"
   },
   "source": [
    "# Problem 9\n",
    "Create a random vector of size 10 and sort it \n"
   ]
  },
  {
   "cell_type": "code",
   "execution_count": 4,
   "metadata": {},
   "outputs": [
    {
     "name": "stdout",
     "output_type": "stream",
     "text": [
      "[0.0400674  0.62301431 0.67527634 0.76266379 0.63825562 0.58266147\n",
      " 0.48529699 0.74715632 0.930476   0.69690598]\n"
     ]
    }
   ],
   "source": [
    "Z = np.random.random(10)\n",
    "print(Z)"
   ]
  },
  {
   "cell_type": "code",
   "execution_count": 5,
   "metadata": {},
   "outputs": [],
   "source": [
    "l = Z.tolist()\n",
    "l.sort()"
   ]
  },
  {
   "cell_type": "code",
   "execution_count": 6,
   "metadata": {},
   "outputs": [
    {
     "name": "stdout",
     "output_type": "stream",
     "text": [
      "[0.04006740236538531, 0.4852969869702791, 0.5826614679810278, 0.6230143053219431, 0.6382556178369617, 0.6752763428748183, 0.6969059807058671, 0.7471563202997198, 0.7626637949488113, 0.930475999458019]\n"
     ]
    }
   ],
   "source": [
    "print(l)"
   ]
  },
  {
   "cell_type": "markdown",
   "metadata": {
    "id": "A1xyFNONi2eH"
   },
   "source": [
    "# Problem 10\n",
    "\n",
    "Subtract the mean of each row of a matrix (Use `X = np.random.rand(5, 10)` to generate the array)"
   ]
  },
  {
   "cell_type": "code",
   "execution_count": 7,
   "metadata": {},
   "outputs": [
    {
     "name": "stdout",
     "output_type": "stream",
     "text": [
      "[[0.9074888  0.92225705 0.31921578 0.0872137  0.68842233 0.59545247\n",
      "  0.7586641  0.37582718 0.97552324 0.68213562]\n",
      " [0.80062114 0.94576476 0.85582588 0.94103907 0.65576462 0.07924014\n",
      "  0.31236524 0.20555265 0.04589998 0.05796654]\n",
      " [0.71895205 0.56086153 0.27521242 0.33032421 0.73849059 0.23554477\n",
      "  0.8239844  0.99574461 0.12159668 0.85744325]\n",
      " [0.98283468 0.10253633 0.72606509 0.43173823 0.16250959 0.89272197\n",
      "  0.75870216 0.06725688 0.96214734 0.80164372]\n",
      " [0.04018571 0.31389902 0.91043955 0.96471275 0.6298654  0.51195411\n",
      "  0.17434835 0.02758494 0.13354787 0.39984731]]\n"
     ]
    }
   ],
   "source": [
    "X = np.random.rand(5, 10)\n",
    "print(X)"
   ]
  },
  {
   "cell_type": "code",
   "execution_count": 8,
   "metadata": {},
   "outputs": [
    {
     "name": "stdout",
     "output_type": "stream",
     "text": [
      "mean: [0.63122003 0.490004   0.56581545 0.5888156  0.4106385 ]\n"
     ]
    }
   ],
   "source": [
    "x_mean = X.mean(axis=1)\n",
    "print(f'mean: {x_mean}')"
   ]
  },
  {
   "cell_type": "code",
   "execution_count": 9,
   "metadata": {},
   "outputs": [
    {
     "name": "stdout",
     "output_type": "stream",
     "text": [
      "[[ 0.27626878  0.29103702 -0.31200425 -0.54400633  0.05720231 -0.03576756\n",
      "   0.12744407 -0.25539285  0.34430321  0.05091559]\n",
      " [ 0.31061714  0.45576076  0.36582187  0.45103507  0.16576062 -0.41076386\n",
      "  -0.17763876 -0.28445135 -0.44410402 -0.43203747]\n",
      " [ 0.1531366  -0.00495392 -0.29060303 -0.23549124  0.17267514 -0.33027068\n",
      "   0.25816895  0.42992916 -0.44421878  0.2916278 ]\n",
      " [ 0.39401908 -0.48627927  0.13724949 -0.15707737 -0.42630601  0.30390637\n",
      "   0.16988656 -0.52155872  0.37333174  0.21282812]\n",
      " [-0.37045279 -0.09673948  0.49980105  0.55407425  0.2192269   0.10131561\n",
      "  -0.23629015 -0.38305356 -0.27709063 -0.01079119]]\n"
     ]
    }
   ],
   "source": [
    "for i in range(5):\n",
    "    X[i,] = X[i,] - x_mean[i]\n",
    "\n",
    "print(X)"
   ]
  },
  {
   "cell_type": "markdown",
   "metadata": {},
   "source": [
    "### End"
   ]
  }
 ],
 "metadata": {
  "colab": {
   "name": "ET5003_Lab_0_7.ipynb",
   "provenance": []
  },
  "kernelspec": {
   "display_name": "Python 3",
   "language": "python",
   "name": "python3"
  },
  "language_info": {
   "codemirror_mode": {
    "name": "ipython",
    "version": 3
   },
   "file_extension": ".py",
   "mimetype": "text/x-python",
   "name": "python",
   "nbconvert_exporter": "python",
   "pygments_lexer": "ipython3",
   "version": "3.7.4"
  }
 },
 "nbformat": 4,
 "nbformat_minor": 1
}
