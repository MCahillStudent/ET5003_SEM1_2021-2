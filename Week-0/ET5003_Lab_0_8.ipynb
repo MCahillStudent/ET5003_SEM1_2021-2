{
 "cells": [
  {
   "cell_type": "markdown",
   "metadata": {
    "id": "3Ki5JHGkVubK"
   },
   "source": [
    "<div>\n",
    "<img src=\"https://drive.google.com/uc?export=view&id=1vK33e_EqaHgBHcbRV_m38hx6IkG0blK_\" width=\"350\"/>\n",
    "</div> \n",
    "\n",
    "# **Artificial Intelligence - MSc**\n",
    "ET5003 - MACHINE LEARNING APPLICATIONS \n",
    "\n",
    "### Instructor: Enrique Naredo\n",
    "### ET5003_Lab-0.8\n",
    "### Student Name: Xiaoming Zhang\n",
    "### Student No.: 20158327"
   ]
  },
  {
   "cell_type": "markdown",
   "metadata": {
    "id": "PFvNOA7si2d_"
   },
   "source": [
    "# Numpy"
   ]
  },
  {
   "cell_type": "markdown",
   "metadata": {
    "id": "_JcEGZQDi2eC"
   },
   "source": [
    "\n",
    "This part focuses on Numpy, see <a href=\"https://numpy.org/doc/stable/user/quickstart.html\">numpy quickstart tutorial</a>, which I encourage you to reference throughout the course.\n",
    "\n",
    "\n",
    "Some problems about numpy\n",
    "\n"
   ]
  },
  {
   "cell_type": "markdown",
   "metadata": {
    "id": "GmTAAkiAi2eH"
   },
   "source": [
    "# Problem 11\n",
    "Normalize a 5x5 random matrix\n",
    "\n",
    "Solution:\n",
    ">Z = np.random.random((5,5))\n",
    ">\n",
    ">Z = (Z - np.mean (Z)) / (np.std (Z))\n",
    ">\n",
    ">print(Z)\n"
   ]
  },
  {
   "cell_type": "code",
   "execution_count": 1,
   "metadata": {},
   "outputs": [
    {
     "name": "stdout",
     "output_type": "stream",
     "text": [
      "[[ 1.40871629 -0.12437735  0.91342743  1.11555349 -0.94875499]\n",
      " [-1.10398405  0.05753556 -1.60210147 -0.86025701  1.4294224 ]\n",
      " [ 0.28284669 -1.389901    0.18634748 -0.66610431  0.98861723]\n",
      " [-0.94829087 -0.02552749 -1.56070814  0.5878953   1.28655769]\n",
      " [ 0.57687701 -0.76006726  1.64296302 -0.92030822  0.43362257]]\n"
     ]
    }
   ],
   "source": [
    "import numpy as np\n",
    "Z = np.random.random((5,5))\n",
    "\n",
    "Z = (Z - np.mean (Z)) / (np.std (Z))\n",
    "\n",
    "print(Z)"
   ]
  },
  {
   "cell_type": "markdown",
   "metadata": {
    "id": "Y73QHZ8fi2eH"
   },
   "source": [
    "# Problem 12\n",
    "\n",
    "Multiply a 5x3 matrix by a 3x2 matrix (matrix product)"
   ]
  },
  {
   "cell_type": "code",
   "execution_count": 2,
   "metadata": {},
   "outputs": [
    {
     "name": "stdout",
     "output_type": "stream",
     "text": [
      "[[ 22  28]\n",
      " [ 49  64]\n",
      " [ 76 100]\n",
      " [103 136]\n",
      " [130 172]]\n"
     ]
    }
   ],
   "source": [
    "A = np.array([[1, 2, 3],\n",
    "              [4, 5, 6],\n",
    "              [7, 8, 9],\n",
    "              [10,11,12],\n",
    "              [13,14,15]\n",
    "     ])\n",
    "\n",
    "B = np.array([[1, 2],\n",
    "              [3, 4],\n",
    "              [5, 6]\n",
    "             ])\n",
    "\n",
    "print(A.dot(B))"
   ]
  },
  {
   "cell_type": "markdown",
   "metadata": {
    "id": "qd0RVtHhi2eI"
   },
   "source": [
    "# Problem 13\n",
    "Given a 1D array, negate in place all elements which are between 3 and 8."
   ]
  },
  {
   "cell_type": "code",
   "execution_count": 3,
   "metadata": {},
   "outputs": [
    {
     "name": "stdout",
     "output_type": "stream",
     "text": [
      "[0 1 2 3 4 5 6 7 8 9]\n",
      "[ 0  1 -2 -3 -4 -5 -6 -7  8  9]\n"
     ]
    }
   ],
   "source": [
    "A = np.arange(10)\n",
    "print(A)\n",
    "A[2:8] = A[2:8] * (-1)\n",
    "print(A)"
   ]
  },
  {
   "cell_type": "markdown",
   "metadata": {
    "id": "ATdBweZpi2eI"
   },
   "source": [
    "# Problem 14\n",
    "How to find common values between two arrays?\n"
   ]
  },
  {
   "cell_type": "code",
   "execution_count": 4,
   "metadata": {},
   "outputs": [
    {
     "name": "stdout",
     "output_type": "stream",
     "text": [
      "A: \n",
      "[0 1 2 3 4 5 6 7 8 9]\n",
      "B: \n",
      "[ 2  3  4 11 12]\n",
      "Common values: \n",
      " [2, 3, 4]\n"
     ]
    }
   ],
   "source": [
    "def find_commond(A, B):\n",
    "    common_list = []\n",
    "    for i in range(len(A)):\n",
    "        for j in range(len(B)):\n",
    "            if A[i] == B[j]:\n",
    "                common_list.append(A[i])\n",
    "    return common_list\n",
    "\n",
    "A = np.arange(10)\n",
    "B = np.array([2,3,4,11,12])\n",
    "print(f'A: \\n{A}')\n",
    "print(f'B: \\n{B}')\n",
    "print(f'Common values: \\n {find_commond(A, B)}')"
   ]
  },
  {
   "cell_type": "markdown",
   "metadata": {
    "id": "enAmhXegi2eI"
   },
   "source": [
    "# Problem 15\n",
    "How to find the most frequent value in an array? (Use `Z = np.random.randint(0,10,50)` to generate the array)"
   ]
  },
  {
   "cell_type": "code",
   "execution_count": 6,
   "metadata": {},
   "outputs": [
    {
     "name": "stdout",
     "output_type": "stream",
     "text": [
      "Original array:\n",
      "[1 2 3 4 5 5 5 6 7 8 8 8 8 9 9]\n",
      "Most frequent value in the above array:\n",
      "8\n"
     ]
    }
   ],
   "source": [
    "x = np.array([1,2,3,4,5,5,5,6,7,8,8,8,8,9,9])\n",
    "print(\"Original array:\")\n",
    "print(x)\n",
    "  \n",
    "print(\"Most frequent value in the above array:\")\n",
    "print(np.bincount(x).argmax())"
   ]
  },
  {
   "cell_type": "markdown",
   "metadata": {},
   "source": [
    "### End"
   ]
  }
 ],
 "metadata": {
  "colab": {
   "name": "ET5003_Lab_0_8.ipynb",
   "provenance": []
  },
  "kernelspec": {
   "display_name": "Python 3",
   "language": "python",
   "name": "python3"
  },
  "language_info": {
   "codemirror_mode": {
    "name": "ipython",
    "version": 3
   },
   "file_extension": ".py",
   "mimetype": "text/x-python",
   "name": "python",
   "nbconvert_exporter": "python",
   "pygments_lexer": "ipython3",
   "version": "3.7.4"
  }
 },
 "nbformat": 4,
 "nbformat_minor": 1
}
