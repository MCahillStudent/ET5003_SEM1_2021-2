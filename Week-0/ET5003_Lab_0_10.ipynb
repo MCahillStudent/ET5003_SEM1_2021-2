{
 "cells": [
  {
   "cell_type": "markdown",
   "metadata": {
    "id": "LqEjhpcCeUDp"
   },
   "source": [
    "<div>\n",
    "<img src=\"https://drive.google.com/uc?export=view&id=1vK33e_EqaHgBHcbRV_m38hx6IkG0blK_\" width=\"350\"/>\n",
    "</div> \n",
    "\n",
    "# **Artificial Intelligence - MSc**\n",
    "ET5003 - MACHINE LEARNING APPLICATIONS \n",
    "\n",
    "### Instructor: Enrique Naredo\n",
    "### ET5003_Lab-0.10\n",
    "### Student Name: Xiaoming Zhang\n",
    "### Student No.: 20158327"
   ]
  },
  {
   "cell_type": "markdown",
   "metadata": {
    "id": "J0aR26eeLSuG"
   },
   "source": [
    "# Pandas exercise"
   ]
  },
  {
   "cell_type": "code",
   "execution_count": 1,
   "metadata": {
    "id": "Z4X9nmpgLSuH"
   },
   "outputs": [],
   "source": [
    "import pandas as pd\n",
    "import numpy as np"
   ]
  },
  {
   "cell_type": "markdown",
   "metadata": {
    "id": "HE0zODpSj4Ho"
   },
   "source": [
    "# Problem 6\n",
    "Compute the minimum, 25th percentile, median, 75th, and maximum of ser.\n",
    "\n",
    "Notes:\n",
    "Do you know what percentile and median are? If no, see  <a href=\"https://en.wikipedia.org/wiki/Percentile\">percentile</a> and <a href=\"https://en.wikipedia.org/wiki/Median\">median</a>."
   ]
  },
  {
   "cell_type": "code",
   "execution_count": 2,
   "metadata": {
    "id": "xWoDCUv2j4Ho"
   },
   "outputs": [],
   "source": [
    "# input\n",
    "state = np.random.RandomState(100)\n",
    "ser = pd.Series(state.normal(10, 5, 25))\n"
   ]
  },
  {
   "cell_type": "code",
   "execution_count": 3,
   "metadata": {},
   "outputs": [
    {
     "name": "stdout",
     "output_type": "stream",
     "text": [
      "0      1.251173\n",
      "1     11.713402\n",
      "2     15.765179\n",
      "3      8.737820\n",
      "4     14.906604\n",
      "5     12.571094\n",
      "6     11.105898\n",
      "7      4.649783\n",
      "8      9.052521\n",
      "9     11.275007\n",
      "10     7.709865\n",
      "11    12.175817\n",
      "12     7.082025\n",
      "13    14.084235\n",
      "14    13.363604\n",
      "15     9.477944\n",
      "16     7.343598\n",
      "17    15.148663\n",
      "18     7.809322\n",
      "19     4.408409\n",
      "20    18.094908\n",
      "21    17.708026\n",
      "22     8.740604\n",
      "23     5.787821\n",
      "24    10.922593\n",
      "dtype: float64\n",
      "\n",
      "Minimum, 25th percentile, median, 75th, and maximum of a given series:\n",
      "[ 1.25117263  7.70986507 10.92259345 13.36360403 18.0949083 ]\n"
     ]
    }
   ],
   "source": [
    "print(ser)\n",
    "result = np.percentile(ser, q=[0, 25, 50, 75, 100])\n",
    "print(\"\\nMinimum, 25th percentile, median, 75th, and maximum of a given series:\")\n",
    "print(result)"
   ]
  },
  {
   "cell_type": "markdown",
   "metadata": {
    "id": "S-3m5zssj4Hp"
   },
   "source": [
    "# Problem 7 \n",
    "\n",
    "Calculate the frequency counts of each unique value ser.\n"
   ]
  },
  {
   "cell_type": "code",
   "execution_count": 4,
   "metadata": {
    "id": "BhMtrkJWj4Hp"
   },
   "outputs": [],
   "source": [
    "# input\n",
    "ser = pd.Series(np.take(list('abcdefgh'), np.random.randint(8, size=30)))"
   ]
  },
  {
   "cell_type": "code",
   "execution_count": 5,
   "metadata": {},
   "outputs": [
    {
     "data": {
      "text/plain": [
       "0     d\n",
       "1     b\n",
       "2     f\n",
       "3     g\n",
       "4     d\n",
       "5     c\n",
       "6     g\n",
       "7     e\n",
       "8     b\n",
       "9     a\n",
       "10    g\n",
       "11    h\n",
       "12    b\n",
       "13    g\n",
       "14    f\n",
       "15    h\n",
       "16    a\n",
       "17    c\n",
       "18    e\n",
       "19    d\n",
       "20    c\n",
       "21    g\n",
       "22    h\n",
       "23    c\n",
       "24    e\n",
       "25    e\n",
       "26    c\n",
       "27    b\n",
       "28    d\n",
       "29    c\n",
       "dtype: object"
      ]
     },
     "execution_count": 5,
     "metadata": {},
     "output_type": "execute_result"
    }
   ],
   "source": [
    "ser"
   ]
  },
  {
   "cell_type": "code",
   "execution_count": 6,
   "metadata": {},
   "outputs": [
    {
     "name": "stdout",
     "output_type": "stream",
     "text": [
      "c    6\n",
      "g    5\n",
      "b    4\n",
      "e    4\n",
      "d    4\n",
      "h    3\n",
      "f    2\n",
      "a    2\n",
      "dtype: int64\n"
     ]
    }
   ],
   "source": [
    "print(ser.value_counts())"
   ]
  },
  {
   "cell_type": "markdown",
   "metadata": {
    "id": "qLEADfAkj4Hp"
   },
   "source": [
    "# Problem 8\n",
    "\n",
    "From ser, keep the top 2 most frequent items as it is and replace everything else as ‘Other’.\n"
   ]
  },
  {
   "cell_type": "code",
   "execution_count": 7,
   "metadata": {
    "id": "Oc17LCW9j4Hp"
   },
   "outputs": [
    {
     "data": {
      "text/plain": [
       "0     4\n",
       "1     1\n",
       "2     4\n",
       "3     4\n",
       "4     1\n",
       "5     1\n",
       "6     4\n",
       "7     1\n",
       "8     4\n",
       "9     4\n",
       "10    2\n",
       "11    3\n",
       "dtype: int64"
      ]
     },
     "execution_count": 7,
     "metadata": {},
     "output_type": "execute_result"
    }
   ],
   "source": [
    "# input\n",
    "np.random.RandomState(100)\n",
    "ser = pd.Series(np.random.randint(1, 5, [12]))\n",
    "ser"
   ]
  },
  {
   "cell_type": "code",
   "execution_count": 8,
   "metadata": {},
   "outputs": [],
   "source": [
    "value_counts = ser.value_counts()"
   ]
  },
  {
   "cell_type": "code",
   "execution_count": 9,
   "metadata": {},
   "outputs": [
    {
     "name": "stdout",
     "output_type": "stream",
     "text": [
      "4    6\n",
      "1    4\n",
      "3    1\n",
      "2    1\n",
      "dtype: int64\n"
     ]
    }
   ],
   "source": [
    "print(value_counts)"
   ]
  },
  {
   "cell_type": "code",
   "execution_count": 10,
   "metadata": {},
   "outputs": [
    {
     "name": "stdout",
     "output_type": "stream",
     "text": [
      "Int64Index([4, 1], dtype='int64')\n"
     ]
    }
   ],
   "source": [
    "top_2_values = value_counts[:2].index\n",
    "print(top_2_values)"
   ]
  },
  {
   "cell_type": "code",
   "execution_count": 11,
   "metadata": {},
   "outputs": [
    {
     "name": "stdout",
     "output_type": "stream",
     "text": [
      "0         4\n",
      "1         1\n",
      "2         4\n",
      "3         4\n",
      "4         1\n",
      "5         1\n",
      "6         4\n",
      "7         1\n",
      "8         4\n",
      "9         4\n",
      "10    Other\n",
      "11    Other\n",
      "dtype: object\n"
     ]
    }
   ],
   "source": [
    "for i in range(len(ser)):\n",
    "    if ser[i] != top_2_values[0] and ser[i] != top_2_values[1]:\n",
    "        ser[i] = 'Other'\n",
    "print(ser)"
   ]
  },
  {
   "cell_type": "markdown",
   "metadata": {
    "id": "iPoHzAI_j4Hq"
   },
   "source": [
    "# Problem 9\n",
    "Bin the series ser into 10 equal deciles and replace the values with the bin name.\n"
   ]
  },
  {
   "cell_type": "code",
   "execution_count": 12,
   "metadata": {
    "id": "zkt_VaIFj4Hq"
   },
   "outputs": [
    {
     "data": {
      "text/plain": [
       "0    8th\n",
       "1    8th\n",
       "2    7th\n",
       "3    9th\n",
       "4    4th\n",
       "dtype: category\n",
       "Categories (10, object): [1st < 2nd < 3rd < 4th ... 7th < 8th < 9th < 10th]"
      ]
     },
     "execution_count": 12,
     "metadata": {},
     "output_type": "execute_result"
    }
   ],
   "source": [
    "# input\n",
    "ser = pd.Series(np.random.random(20))\n",
    "ser\n",
    "\n",
    "#Solution  is provided:\n",
    "pd.qcut(ser, q = 10)\n",
    "# we can also pass labels\n",
    "pd.qcut(ser, q = [0, .10, .20, .30, .40, .50, .60, .70, .80, .90, 1], labels=['1st', '2nd', '3rd', '4th', '5th', '6th', '7th', '8th', '9th', '10th']).head()"
   ]
  },
  {
   "cell_type": "markdown",
   "metadata": {
    "id": "Ep8wPPiPj4Hq"
   },
   "source": [
    "# Problem 10\n",
    "\n",
    "From ser, extract the items at positions in list pos.\n"
   ]
  },
  {
   "cell_type": "code",
   "execution_count": 13,
   "metadata": {
    "id": "Ed-t-tNnj4Hq"
   },
   "outputs": [],
   "source": [
    "# input\n",
    "\n",
    "ser = pd.Series(list('abcdefghijklmnopqrstuvwxyz'))\n",
    "pos = [0, 4, 8, 14, 20]"
   ]
  },
  {
   "cell_type": "code",
   "execution_count": 14,
   "metadata": {},
   "outputs": [
    {
     "name": "stdout",
     "output_type": "stream",
     "text": [
      "Original Series:\n",
      "0     a\n",
      "1     b\n",
      "2     c\n",
      "3     d\n",
      "4     e\n",
      "5     f\n",
      "6     g\n",
      "7     h\n",
      "8     i\n",
      "9     j\n",
      "10    k\n",
      "11    l\n",
      "12    m\n",
      "13    n\n",
      "14    o\n",
      "15    p\n",
      "16    q\n",
      "17    r\n",
      "18    s\n",
      "19    t\n",
      "20    u\n",
      "21    v\n",
      "22    w\n",
      "23    x\n",
      "24    y\n",
      "25    z\n",
      "dtype: object\n",
      "\n",
      "Extract items at given positions of the said series:\n",
      "0     a\n",
      "4     e\n",
      "8     i\n",
      "14    o\n",
      "20    u\n",
      "dtype: object\n"
     ]
    }
   ],
   "source": [
    "print(\"Original Series:\")\n",
    "print(ser)\n",
    "result = ser.take(pos)\n",
    "print(\"\\nExtract items at given positions of the said series:\")\n",
    "print(result)"
   ]
  },
  {
   "cell_type": "markdown",
   "metadata": {},
   "source": [
    "### End"
   ]
  }
 ],
 "metadata": {
  "colab": {
   "name": "ET5003_Lab_0_10.ipynb",
   "provenance": []
  },
  "kernelspec": {
   "display_name": "Python 3",
   "language": "python",
   "name": "python3"
  },
  "language_info": {
   "codemirror_mode": {
    "name": "ipython",
    "version": 3
   },
   "file_extension": ".py",
   "mimetype": "text/x-python",
   "name": "python",
   "nbconvert_exporter": "python",
   "pygments_lexer": "ipython3",
   "version": "3.7.4"
  }
 },
 "nbformat": 4,
 "nbformat_minor": 1
}
